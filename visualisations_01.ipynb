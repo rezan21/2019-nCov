{
 "cells": [
  {
   "cell_type": "code",
   "execution_count": 2,
   "metadata": {},
   "outputs": [],
   "source": [
    "import pandas as pd\n",
    "import numpy as np\n",
    "import pycountry\n",
    "import plotly.express as px\n",
    "import plotly.graph_objects as go"
   ]
  },
  {
   "cell_type": "code",
   "execution_count": 3,
   "metadata": {},
   "outputs": [
    {
     "name": "stdout",
     "output_type": "stream",
     "text": [
      "'NoneType' object has no attribute 'alpha_3'\n",
      "'NoneType' object has no attribute 'alpha_3'\n",
      "(972, 4)\n"
     ]
    },
    {
     "data": {
      "text/html": [
       "<div>\n",
       "<style scoped>\n",
       "    .dataframe tbody tr th:only-of-type {\n",
       "        vertical-align: middle;\n",
       "    }\n",
       "\n",
       "    .dataframe tbody tr th {\n",
       "        vertical-align: top;\n",
       "    }\n",
       "\n",
       "    .dataframe thead th {\n",
       "        text-align: right;\n",
       "    }\n",
       "</style>\n",
       "<table border=\"1\" class=\"dataframe\">\n",
       "  <thead>\n",
       "    <tr style=\"text-align: right;\">\n",
       "      <th></th>\n",
       "      <th>Country</th>\n",
       "      <th>Country_Code</th>\n",
       "      <th>Time_Stamp</th>\n",
       "      <th>Cases</th>\n",
       "    </tr>\n",
       "  </thead>\n",
       "  <tbody>\n",
       "    <tr>\n",
       "      <td>0</td>\n",
       "      <td>Australia</td>\n",
       "      <td>AUS</td>\n",
       "      <td>1/21/20 22:00</td>\n",
       "      <td>0.0</td>\n",
       "    </tr>\n",
       "    <tr>\n",
       "      <td>1</td>\n",
       "      <td>Belgium</td>\n",
       "      <td>BEL</td>\n",
       "      <td>1/21/20 22:00</td>\n",
       "      <td>0.0</td>\n",
       "    </tr>\n",
       "    <tr>\n",
       "      <td>2</td>\n",
       "      <td>Cambodia</td>\n",
       "      <td>KHM</td>\n",
       "      <td>1/21/20 22:00</td>\n",
       "      <td>0.0</td>\n",
       "    </tr>\n",
       "  </tbody>\n",
       "</table>\n",
       "</div>"
      ],
      "text/plain": [
       "     Country Country_Code     Time_Stamp  Cases\n",
       "0  Australia          AUS  1/21/20 22:00    0.0\n",
       "1    Belgium          BEL  1/21/20 22:00    0.0\n",
       "2   Cambodia          KHM  1/21/20 22:00    0.0"
      ]
     },
     "execution_count": 3,
     "metadata": {},
     "output_type": "execute_result"
    }
   ],
   "source": [
    "df_cnfrmd = pd.read_csv(\"time_series_2019_ncov_confirmed.csv\")\n",
    "df_cnfrmd = df_cnfrmd.groupby(\"Country/Region\").sum()\n",
    "df_cnfrmd.reset_index(inplace=True) # get country as col\n",
    "df_cnfrmd[\"Country/Region\"].replace([ # rename to match pycountry standard\n",
    "                                     \"Macau\",\n",
    "                                     \"Russia\",\n",
    "                                     \"South Korea\", \n",
    "                                     \"Taiwan\", \n",
    "                                     \"UK\",\n",
    "                                     \"US\",\n",
    "                                     \"Vietnam\"\n",
    "                                     \n",
    "                                    ],\n",
    "                                    [\n",
    "                                     \"Macao\",\n",
    "                                     \"Russian Federation\",\n",
    "                                     \"Korea, Republic of\",\n",
    "                                     \"Taiwan, Province of China\",\n",
    "                                     \"United Kingdom\",\n",
    "                                     \"United States\",\n",
    "                                     \"Viet Nam\"\n",
    "                                     \n",
    "                                    ], inplace=True)\n",
    "\n",
    "df_cnfrmd.drop([\"Lat\",\"Long\"], axis=1, inplace=True) # not needed\n",
    "\n",
    "sec2_df = df_cnfrmd.iloc[:,1:] # 2nd section containing only confirmed counts\n",
    "#sec2_df.columns = [\"timestamp \"+col for col in list(sec2_df.columns)] # format names\n",
    "\n",
    "sec1_df = pd.DataFrame(df_cnfrmd.iloc[:,0]) # 1st section containing location data\n",
    "def getCountryCode(x):\n",
    "    # get alph3 encoding to match plotly standard\n",
    "    try:\n",
    "        c = pycountry.countries.get(name=x)\n",
    "        return c.alpha_3\n",
    "    except Exception as e:\n",
    "        print(e)\n",
    "        pass\n",
    "    \n",
    "sec1_df[\"Country_Code\"] = sec1_df[\"Country/Region\"].apply(getCountryCode)\n",
    "sec1_df.columns = [\"Country\", \"Country_Code\"]\n",
    "df_cnfrmd = pd.concat([sec1_df, sec2_df],axis=1) # concat back two sections\n",
    "\n",
    "df_cnfrmd.dropna(axis=0, inplace=True)\n",
    "df_cnfrmd.reset_index(inplace=True, drop=True)\n",
    "\n",
    "# melt (i.e: wide to long function)\n",
    "df_cnfrmd = pd.melt(df_cnfrmd, id_vars=[\"Country\",\"Country_Code\"],var_name=\"Time_Stamp\", value_name=\"Cases\")\n",
    "\n",
    "print(df_cnfrmd.shape)\n",
    "df_cnfrmd.head(3)\n"
   ]
  },
  {
   "cell_type": "code",
   "execution_count": 7,
   "metadata": {},
   "outputs": [
    {
     "data": {
      "application/vnd.plotly.v1+json": {
       "config": {
        "plotlyServerURL": "https://plot.ly"
       },
       "data": [
        {
         "geo": "geo",
         "hoverlabel": {
          "namelength": 0
         },
         "hovertemplate": "<b>%{hovertext}</b><br><br>Time_Stamp=1/21/20 22:00<br>Cases=%{marker.size}<br>Country_Code=%{location}",
         "hovertext": [
          "Australia",
          "Belgium",
          "Cambodia",
          "Canada",
          "Finland",
          "France",
          "Germany",
          "Hong Kong",
          "India",
          "Italy",
          "Japan",
          "Macao",
          "Malaysia",
          "Nepal",
          "Philippines",
          "Russian Federation",
          "Singapore",
          "Korea, Republic of",
          "Spain",
          "Sri Lanka",
          "Sweden",
          "Taiwan, Province of China",
          "Thailand",
          "United Kingdom",
          "United States",
          "United Arab Emirates",
          "Viet Nam"
         ],
         "legendgroup": "",
         "locations": [
          "AUS",
          "BEL",
          "KHM",
          "CAN",
          "FIN",
          "FRA",
          "DEU",
          "HKG",
          "IND",
          "ITA",
          "JPN",
          "MAC",
          "MYS",
          "NPL",
          "PHL",
          "RUS",
          "SGP",
          "KOR",
          "ESP",
          "LKA",
          "SWE",
          "TWN",
          "THA",
          "GBR",
          "USA",
          "ARE",
          "VNM"
         ],
         "marker": {
          "color": "#636efa",
          "size": [
           0,
           0,
           0,
           0,
           0,
           0,
           0,
           0,
           0,
           0,
           1,
           0,
           0,
           0,
           0,
           0,
           0,
           0,
           0,
           0,
           0,
           1,
           2,
           0,
           1,
           0,
           0
          ],
          "sizemode": "area",
          "sizeref": 0.1125
         },
         "name": "",
         "showlegend": false,
         "type": "scattergeo"
        }
       ],
       "frames": [
        {
         "data": [
          {
           "geo": "geo",
           "hoverlabel": {
            "namelength": 0
           },
           "hovertemplate": "<b>%{hovertext}</b><br><br>Time_Stamp=1/21/20 22:00<br>Cases=%{marker.size}<br>Country_Code=%{location}",
           "hovertext": [
            "Australia",
            "Belgium",
            "Cambodia",
            "Canada",
            "Finland",
            "France",
            "Germany",
            "Hong Kong",
            "India",
            "Italy",
            "Japan",
            "Macao",
            "Malaysia",
            "Nepal",
            "Philippines",
            "Russian Federation",
            "Singapore",
            "Korea, Republic of",
            "Spain",
            "Sri Lanka",
            "Sweden",
            "Taiwan, Province of China",
            "Thailand",
            "United Kingdom",
            "United States",
            "United Arab Emirates",
            "Viet Nam"
           ],
           "legendgroup": "",
           "locations": [
            "AUS",
            "BEL",
            "KHM",
            "CAN",
            "FIN",
            "FRA",
            "DEU",
            "HKG",
            "IND",
            "ITA",
            "JPN",
            "MAC",
            "MYS",
            "NPL",
            "PHL",
            "RUS",
            "SGP",
            "KOR",
            "ESP",
            "LKA",
            "SWE",
            "TWN",
            "THA",
            "GBR",
            "USA",
            "ARE",
            "VNM"
           ],
           "marker": {
            "color": "#636efa",
            "size": [
             0,
             0,
             0,
             0,
             0,
             0,
             0,
             0,
             0,
             0,
             1,
             0,
             0,
             0,
             0,
             0,
             0,
             0,
             0,
             0,
             0,
             1,
             2,
             0,
             1,
             0,
             0
            ],
            "sizemode": "area",
            "sizeref": 0.1125
           },
           "name": "",
           "showlegend": false,
           "type": "scattergeo"
          }
         ],
         "name": "1/21/20 22:00"
        },
        {
         "data": [
          {
           "geo": "geo",
           "hoverlabel": {
            "namelength": 0
           },
           "hovertemplate": "<b>%{hovertext}</b><br><br>Time_Stamp=1/22/20 12:00<br>Cases=%{marker.size}<br>Country_Code=%{location}",
           "hovertext": [
            "Australia",
            "Belgium",
            "Cambodia",
            "Canada",
            "Finland",
            "France",
            "Germany",
            "Hong Kong",
            "India",
            "Italy",
            "Japan",
            "Macao",
            "Malaysia",
            "Nepal",
            "Philippines",
            "Russian Federation",
            "Singapore",
            "Korea, Republic of",
            "Spain",
            "Sri Lanka",
            "Sweden",
            "Taiwan, Province of China",
            "Thailand",
            "United Kingdom",
            "United States",
            "United Arab Emirates",
            "Viet Nam"
           ],
           "legendgroup": "",
           "locations": [
            "AUS",
            "BEL",
            "KHM",
            "CAN",
            "FIN",
            "FRA",
            "DEU",
            "HKG",
            "IND",
            "ITA",
            "JPN",
            "MAC",
            "MYS",
            "NPL",
            "PHL",
            "RUS",
            "SGP",
            "KOR",
            "ESP",
            "LKA",
            "SWE",
            "TWN",
            "THA",
            "GBR",
            "USA",
            "ARE",
            "VNM"
           ],
           "marker": {
            "color": "#636efa",
            "size": [
             0,
             0,
             0,
             0,
             0,
             0,
             0,
             0,
             0,
             0,
             2,
             1,
             0,
             0,
             0,
             0,
             0,
             1,
             0,
             0,
             0,
             1,
             2,
             0,
             1,
             0,
             0
            ],
            "sizemode": "area",
            "sizeref": 0.1125
           },
           "name": "",
           "showlegend": false,
           "type": "scattergeo"
          }
         ],
         "name": "1/22/20 12:00"
        },
        {
         "data": [
          {
           "geo": "geo",
           "hoverlabel": {
            "namelength": 0
           },
           "hovertemplate": "<b>%{hovertext}</b><br><br>Time_Stamp=1/23/20 12:00<br>Cases=%{marker.size}<br>Country_Code=%{location}",
           "hovertext": [
            "Australia",
            "Belgium",
            "Cambodia",
            "Canada",
            "Finland",
            "France",
            "Germany",
            "Hong Kong",
            "India",
            "Italy",
            "Japan",
            "Macao",
            "Malaysia",
            "Nepal",
            "Philippines",
            "Russian Federation",
            "Singapore",
            "Korea, Republic of",
            "Spain",
            "Sri Lanka",
            "Sweden",
            "Taiwan, Province of China",
            "Thailand",
            "United Kingdom",
            "United States",
            "United Arab Emirates",
            "Viet Nam"
           ],
           "legendgroup": "",
           "locations": [
            "AUS",
            "BEL",
            "KHM",
            "CAN",
            "FIN",
            "FRA",
            "DEU",
            "HKG",
            "IND",
            "ITA",
            "JPN",
            "MAC",
            "MYS",
            "NPL",
            "PHL",
            "RUS",
            "SGP",
            "KOR",
            "ESP",
            "LKA",
            "SWE",
            "TWN",
            "THA",
            "GBR",
            "USA",
            "ARE",
            "VNM"
           ],
           "marker": {
            "color": "#636efa",
            "size": [
             0,
             0,
             0,
             0,
             0,
             0,
             0,
             2,
             0,
             0,
             2,
             2,
             0,
             0,
             0,
             0,
             1,
             1,
             0,
             0,
             0,
             1,
             3,
             0,
             1,
             0,
             2
            ],
            "sizemode": "area",
            "sizeref": 0.1125
           },
           "name": "",
           "showlegend": false,
           "type": "scattergeo"
          }
         ],
         "name": "1/23/20 12:00"
        },
        {
         "data": [
          {
           "geo": "geo",
           "hoverlabel": {
            "namelength": 0
           },
           "hovertemplate": "<b>%{hovertext}</b><br><br>Time_Stamp=1/24/20 0:00<br>Cases=%{marker.size}<br>Country_Code=%{location}",
           "hovertext": [
            "Australia",
            "Belgium",
            "Cambodia",
            "Canada",
            "Finland",
            "France",
            "Germany",
            "Hong Kong",
            "India",
            "Italy",
            "Japan",
            "Macao",
            "Malaysia",
            "Nepal",
            "Philippines",
            "Russian Federation",
            "Singapore",
            "Korea, Republic of",
            "Spain",
            "Sri Lanka",
            "Sweden",
            "Taiwan, Province of China",
            "Thailand",
            "United Kingdom",
            "United States",
            "United Arab Emirates",
            "Viet Nam"
           ],
           "legendgroup": "",
           "locations": [
            "AUS",
            "BEL",
            "KHM",
            "CAN",
            "FIN",
            "FRA",
            "DEU",
            "HKG",
            "IND",
            "ITA",
            "JPN",
            "MAC",
            "MYS",
            "NPL",
            "PHL",
            "RUS",
            "SGP",
            "KOR",
            "ESP",
            "LKA",
            "SWE",
            "TWN",
            "THA",
            "GBR",
            "USA",
            "ARE",
            "VNM"
           ],
           "marker": {
            "color": "#636efa",
            "size": [
             0,
             0,
             0,
             0,
             0,
             0,
             0,
             2,
             0,
             0,
             2,
             2,
             0,
             0,
             0,
             0,
             1,
             1,
             0,
             0,
             0,
             1,
             4,
             0,
             1,
             0,
             2
            ],
            "sizemode": "area",
            "sizeref": 0.1125
           },
           "name": "",
           "showlegend": false,
           "type": "scattergeo"
          }
         ],
         "name": "1/24/20 0:00"
        },
        {
         "data": [
          {
           "geo": "geo",
           "hoverlabel": {
            "namelength": 0
           },
           "hovertemplate": "<b>%{hovertext}</b><br><br>Time_Stamp=1/24/20 12:00<br>Cases=%{marker.size}<br>Country_Code=%{location}",
           "hovertext": [
            "Australia",
            "Belgium",
            "Cambodia",
            "Canada",
            "Finland",
            "France",
            "Germany",
            "Hong Kong",
            "India",
            "Italy",
            "Japan",
            "Macao",
            "Malaysia",
            "Nepal",
            "Philippines",
            "Russian Federation",
            "Singapore",
            "Korea, Republic of",
            "Spain",
            "Sri Lanka",
            "Sweden",
            "Taiwan, Province of China",
            "Thailand",
            "United Kingdom",
            "United States",
            "United Arab Emirates",
            "Viet Nam"
           ],
           "legendgroup": "",
           "locations": [
            "AUS",
            "BEL",
            "KHM",
            "CAN",
            "FIN",
            "FRA",
            "DEU",
            "HKG",
            "IND",
            "ITA",
            "JPN",
            "MAC",
            "MYS",
            "NPL",
            "PHL",
            "RUS",
            "SGP",
            "KOR",
            "ESP",
            "LKA",
            "SWE",
            "TWN",
            "THA",
            "GBR",
            "USA",
            "ARE",
            "VNM"
           ],
           "marker": {
            "color": "#636efa",
            "size": [
             0,
             0,
             0,
             0,
             0,
             2,
             0,
             2,
             0,
             0,
             2,
             2,
             0,
             0,
             0,
             0,
             3,
             2,
             0,
             0,
             0,
             3,
             5,
             0,
             2,
             0,
             2
            ],
            "sizemode": "area",
            "sizeref": 0.1125
           },
           "name": "",
           "showlegend": false,
           "type": "scattergeo"
          }
         ],
         "name": "1/24/20 12:00"
        },
        {
         "data": [
          {
           "geo": "geo",
           "hoverlabel": {
            "namelength": 0
           },
           "hovertemplate": "<b>%{hovertext}</b><br><br>Time_Stamp=1/25/20 0:00<br>Cases=%{marker.size}<br>Country_Code=%{location}",
           "hovertext": [
            "Australia",
            "Belgium",
            "Cambodia",
            "Canada",
            "Finland",
            "France",
            "Germany",
            "Hong Kong",
            "India",
            "Italy",
            "Japan",
            "Macao",
            "Malaysia",
            "Nepal",
            "Philippines",
            "Russian Federation",
            "Singapore",
            "Korea, Republic of",
            "Spain",
            "Sri Lanka",
            "Sweden",
            "Taiwan, Province of China",
            "Thailand",
            "United Kingdom",
            "United States",
            "United Arab Emirates",
            "Viet Nam"
           ],
           "legendgroup": "",
           "locations": [
            "AUS",
            "BEL",
            "KHM",
            "CAN",
            "FIN",
            "FRA",
            "DEU",
            "HKG",
            "IND",
            "ITA",
            "JPN",
            "MAC",
            "MYS",
            "NPL",
            "PHL",
            "RUS",
            "SGP",
            "KOR",
            "ESP",
            "LKA",
            "SWE",
            "TWN",
            "THA",
            "GBR",
            "USA",
            "ARE",
            "VNM"
           ],
           "marker": {
            "color": "#636efa",
            "size": [
             0,
             0,
             0,
             0,
             0,
             3,
             0,
             5,
             0,
             0,
             2,
             2,
             3,
             1,
             0,
             0,
             3,
             2,
             0,
             0,
             0,
             3,
             5,
             0,
             2,
             0,
             2
            ],
            "sizemode": "area",
            "sizeref": 0.1125
           },
           "name": "",
           "showlegend": false,
           "type": "scattergeo"
          }
         ],
         "name": "1/25/20 0:00"
        },
        {
         "data": [
          {
           "geo": "geo",
           "hoverlabel": {
            "namelength": 0
           },
           "hovertemplate": "<b>%{hovertext}</b><br><br>Time_Stamp=1/25/20 12:00<br>Cases=%{marker.size}<br>Country_Code=%{location}",
           "hovertext": [
            "Australia",
            "Belgium",
            "Cambodia",
            "Canada",
            "Finland",
            "France",
            "Germany",
            "Hong Kong",
            "India",
            "Italy",
            "Japan",
            "Macao",
            "Malaysia",
            "Nepal",
            "Philippines",
            "Russian Federation",
            "Singapore",
            "Korea, Republic of",
            "Spain",
            "Sri Lanka",
            "Sweden",
            "Taiwan, Province of China",
            "Thailand",
            "United Kingdom",
            "United States",
            "United Arab Emirates",
            "Viet Nam"
           ],
           "legendgroup": "",
           "locations": [
            "AUS",
            "BEL",
            "KHM",
            "CAN",
            "FIN",
            "FRA",
            "DEU",
            "HKG",
            "IND",
            "ITA",
            "JPN",
            "MAC",
            "MYS",
            "NPL",
            "PHL",
            "RUS",
            "SGP",
            "KOR",
            "ESP",
            "LKA",
            "SWE",
            "TWN",
            "THA",
            "GBR",
            "USA",
            "ARE",
            "VNM"
           ],
           "marker": {
            "color": "#636efa",
            "size": [
             0,
             0,
             0,
             0,
             0,
             3,
             0,
             5,
             0,
             0,
             2,
             2,
             3,
             1,
             0,
             0,
             3,
             2,
             0,
             0,
             0,
             3,
             7,
             0,
             2,
             0,
             2
            ],
            "sizemode": "area",
            "sizeref": 0.1125
           },
           "name": "",
           "showlegend": false,
           "type": "scattergeo"
          }
         ],
         "name": "1/25/20 12:00"
        },
        {
         "data": [
          {
           "geo": "geo",
           "hoverlabel": {
            "namelength": 0
           },
           "hovertemplate": "<b>%{hovertext}</b><br><br>Time_Stamp=1/25/20 22:00<br>Cases=%{marker.size}<br>Country_Code=%{location}",
           "hovertext": [
            "Australia",
            "Belgium",
            "Cambodia",
            "Canada",
            "Finland",
            "France",
            "Germany",
            "Hong Kong",
            "India",
            "Italy",
            "Japan",
            "Macao",
            "Malaysia",
            "Nepal",
            "Philippines",
            "Russian Federation",
            "Singapore",
            "Korea, Republic of",
            "Spain",
            "Sri Lanka",
            "Sweden",
            "Taiwan, Province of China",
            "Thailand",
            "United Kingdom",
            "United States",
            "United Arab Emirates",
            "Viet Nam"
           ],
           "legendgroup": "",
           "locations": [
            "AUS",
            "BEL",
            "KHM",
            "CAN",
            "FIN",
            "FRA",
            "DEU",
            "HKG",
            "IND",
            "ITA",
            "JPN",
            "MAC",
            "MYS",
            "NPL",
            "PHL",
            "RUS",
            "SGP",
            "KOR",
            "ESP",
            "LKA",
            "SWE",
            "TWN",
            "THA",
            "GBR",
            "USA",
            "ARE",
            "VNM"
           ],
           "marker": {
            "color": "#636efa",
            "size": [
             0,
             0,
             0,
             0,
             0,
             3,
             0,
             5,
             0,
             0,
             2,
             2,
             3,
             1,
             0,
             0,
             3,
             2,
             0,
             0,
             0,
             3,
             7,
             0,
             2,
             0,
             2
            ],
            "sizemode": "area",
            "sizeref": 0.1125
           },
           "name": "",
           "showlegend": false,
           "type": "scattergeo"
          }
         ],
         "name": "1/25/20 22:00"
        },
        {
         "data": [
          {
           "geo": "geo",
           "hoverlabel": {
            "namelength": 0
           },
           "hovertemplate": "<b>%{hovertext}</b><br><br>Time_Stamp=1/26/20 11:00<br>Cases=%{marker.size}<br>Country_Code=%{location}",
           "hovertext": [
            "Australia",
            "Belgium",
            "Cambodia",
            "Canada",
            "Finland",
            "France",
            "Germany",
            "Hong Kong",
            "India",
            "Italy",
            "Japan",
            "Macao",
            "Malaysia",
            "Nepal",
            "Philippines",
            "Russian Federation",
            "Singapore",
            "Korea, Republic of",
            "Spain",
            "Sri Lanka",
            "Sweden",
            "Taiwan, Province of China",
            "Thailand",
            "United Kingdom",
            "United States",
            "United Arab Emirates",
            "Viet Nam"
           ],
           "legendgroup": "",
           "locations": [
            "AUS",
            "BEL",
            "KHM",
            "CAN",
            "FIN",
            "FRA",
            "DEU",
            "HKG",
            "IND",
            "ITA",
            "JPN",
            "MAC",
            "MYS",
            "NPL",
            "PHL",
            "RUS",
            "SGP",
            "KOR",
            "ESP",
            "LKA",
            "SWE",
            "TWN",
            "THA",
            "GBR",
            "USA",
            "ARE",
            "VNM"
           ],
           "marker": {
            "color": "#636efa",
            "size": [
             4,
             0,
             0,
             1,
             0,
             3,
             0,
             8,
             0,
             0,
             4,
             5,
             4,
             1,
             0,
             0,
             4,
             3,
             0,
             0,
             0,
             4,
             8,
             0,
             5,
             0,
             2
            ],
            "sizemode": "area",
            "sizeref": 0.1125
           },
           "name": "",
           "showlegend": false,
           "type": "scattergeo"
          }
         ],
         "name": "1/26/20 11:00"
        },
        {
         "data": [
          {
           "geo": "geo",
           "hoverlabel": {
            "namelength": 0
           },
           "hovertemplate": "<b>%{hovertext}</b><br><br>Time_Stamp=1/26/20 23:00<br>Cases=%{marker.size}<br>Country_Code=%{location}",
           "hovertext": [
            "Australia",
            "Belgium",
            "Cambodia",
            "Canada",
            "Finland",
            "France",
            "Germany",
            "Hong Kong",
            "India",
            "Italy",
            "Japan",
            "Macao",
            "Malaysia",
            "Nepal",
            "Philippines",
            "Russian Federation",
            "Singapore",
            "Korea, Republic of",
            "Spain",
            "Sri Lanka",
            "Sweden",
            "Taiwan, Province of China",
            "Thailand",
            "United Kingdom",
            "United States",
            "United Arab Emirates",
            "Viet Nam"
           ],
           "legendgroup": "",
           "locations": [
            "AUS",
            "BEL",
            "KHM",
            "CAN",
            "FIN",
            "FRA",
            "DEU",
            "HKG",
            "IND",
            "ITA",
            "JPN",
            "MAC",
            "MYS",
            "NPL",
            "PHL",
            "RUS",
            "SGP",
            "KOR",
            "ESP",
            "LKA",
            "SWE",
            "TWN",
            "THA",
            "GBR",
            "USA",
            "ARE",
            "VNM"
           ],
           "marker": {
            "color": "#636efa",
            "size": [
             4,
             0,
             0,
             1,
             0,
             3,
             0,
             8,
             0,
             0,
             4,
             6,
             4,
             1,
             0,
             0,
             4,
             3,
             0,
             0,
             0,
             4,
             8,
             0,
             5,
             0,
             2
            ],
            "sizemode": "area",
            "sizeref": 0.1125
           },
           "name": "",
           "showlegend": false,
           "type": "scattergeo"
          }
         ],
         "name": "1/26/20 23:00"
        },
        {
         "data": [
          {
           "geo": "geo",
           "hoverlabel": {
            "namelength": 0
           },
           "hovertemplate": "<b>%{hovertext}</b><br><br>Time_Stamp=1/27/20 9:00<br>Cases=%{marker.size}<br>Country_Code=%{location}",
           "hovertext": [
            "Australia",
            "Belgium",
            "Cambodia",
            "Canada",
            "Finland",
            "France",
            "Germany",
            "Hong Kong",
            "India",
            "Italy",
            "Japan",
            "Macao",
            "Malaysia",
            "Nepal",
            "Philippines",
            "Russian Federation",
            "Singapore",
            "Korea, Republic of",
            "Spain",
            "Sri Lanka",
            "Sweden",
            "Taiwan, Province of China",
            "Thailand",
            "United Kingdom",
            "United States",
            "United Arab Emirates",
            "Viet Nam"
           ],
           "legendgroup": "",
           "locations": [
            "AUS",
            "BEL",
            "KHM",
            "CAN",
            "FIN",
            "FRA",
            "DEU",
            "HKG",
            "IND",
            "ITA",
            "JPN",
            "MAC",
            "MYS",
            "NPL",
            "PHL",
            "RUS",
            "SGP",
            "KOR",
            "ESP",
            "LKA",
            "SWE",
            "TWN",
            "THA",
            "GBR",
            "USA",
            "ARE",
            "VNM"
           ],
           "marker": {
            "color": "#636efa",
            "size": [
             5,
             0,
             1,
             1,
             0,
             3,
             0,
             8,
             0,
             0,
             4,
             6,
             4,
             1,
             0,
             0,
             4,
             4,
             0,
             0,
             0,
             5,
             8,
             0,
             5,
             0,
             2
            ],
            "sizemode": "area",
            "sizeref": 0.1125
           },
           "name": "",
           "showlegend": false,
           "type": "scattergeo"
          }
         ],
         "name": "1/27/20 9:00"
        },
        {
         "data": [
          {
           "geo": "geo",
           "hoverlabel": {
            "namelength": 0
           },
           "hovertemplate": "<b>%{hovertext}</b><br><br>Time_Stamp=1/27/20 19:00<br>Cases=%{marker.size}<br>Country_Code=%{location}",
           "hovertext": [
            "Australia",
            "Belgium",
            "Cambodia",
            "Canada",
            "Finland",
            "France",
            "Germany",
            "Hong Kong",
            "India",
            "Italy",
            "Japan",
            "Macao",
            "Malaysia",
            "Nepal",
            "Philippines",
            "Russian Federation",
            "Singapore",
            "Korea, Republic of",
            "Spain",
            "Sri Lanka",
            "Sweden",
            "Taiwan, Province of China",
            "Thailand",
            "United Kingdom",
            "United States",
            "United Arab Emirates",
            "Viet Nam"
           ],
           "legendgroup": "",
           "locations": [
            "AUS",
            "BEL",
            "KHM",
            "CAN",
            "FIN",
            "FRA",
            "DEU",
            "HKG",
            "IND",
            "ITA",
            "JPN",
            "MAC",
            "MYS",
            "NPL",
            "PHL",
            "RUS",
            "SGP",
            "KOR",
            "ESP",
            "LKA",
            "SWE",
            "TWN",
            "THA",
            "GBR",
            "USA",
            "ARE",
            "VNM"
           ],
           "marker": {
            "color": "#636efa",
            "size": [
             5,
             0,
             1,
             1,
             0,
             3,
             0,
             8,
             0,
             0,
             4,
             6,
             4,
             1,
             0,
             0,
             5,
             4,
             0,
             1,
             0,
             5,
             8,
             0,
             5,
             0,
             2
            ],
            "sizemode": "area",
            "sizeref": 0.1125
           },
           "name": "",
           "showlegend": false,
           "type": "scattergeo"
          }
         ],
         "name": "1/27/20 19:00"
        },
        {
         "data": [
          {
           "geo": "geo",
           "hoverlabel": {
            "namelength": 0
           },
           "hovertemplate": "<b>%{hovertext}</b><br><br>Time_Stamp=1/27/20 20:30<br>Cases=%{marker.size}<br>Country_Code=%{location}",
           "hovertext": [
            "Australia",
            "Belgium",
            "Cambodia",
            "Canada",
            "Finland",
            "France",
            "Germany",
            "Hong Kong",
            "India",
            "Italy",
            "Japan",
            "Macao",
            "Malaysia",
            "Nepal",
            "Philippines",
            "Russian Federation",
            "Singapore",
            "Korea, Republic of",
            "Spain",
            "Sri Lanka",
            "Sweden",
            "Taiwan, Province of China",
            "Thailand",
            "United Kingdom",
            "United States",
            "United Arab Emirates",
            "Viet Nam"
           ],
           "legendgroup": "",
           "locations": [
            "AUS",
            "BEL",
            "KHM",
            "CAN",
            "FIN",
            "FRA",
            "DEU",
            "HKG",
            "IND",
            "ITA",
            "JPN",
            "MAC",
            "MYS",
            "NPL",
            "PHL",
            "RUS",
            "SGP",
            "KOR",
            "ESP",
            "LKA",
            "SWE",
            "TWN",
            "THA",
            "GBR",
            "USA",
            "ARE",
            "VNM"
           ],
           "marker": {
            "color": "#636efa",
            "size": [
             5,
             0,
             1,
             1,
             0,
             3,
             1,
             8,
             0,
             0,
             4,
             6,
             4,
             1,
             0,
             0,
             5,
             4,
             0,
             1,
             0,
             5,
             8,
             0,
             5,
             0,
             2
            ],
            "sizemode": "area",
            "sizeref": 0.1125
           },
           "name": "",
           "showlegend": false,
           "type": "scattergeo"
          }
         ],
         "name": "1/27/20 20:30"
        },
        {
         "data": [
          {
           "geo": "geo",
           "hoverlabel": {
            "namelength": 0
           },
           "hovertemplate": "<b>%{hovertext}</b><br><br>Time_Stamp=1/28/20 13:00<br>Cases=%{marker.size}<br>Country_Code=%{location}",
           "hovertext": [
            "Australia",
            "Belgium",
            "Cambodia",
            "Canada",
            "Finland",
            "France",
            "Germany",
            "Hong Kong",
            "India",
            "Italy",
            "Japan",
            "Macao",
            "Malaysia",
            "Nepal",
            "Philippines",
            "Russian Federation",
            "Singapore",
            "Korea, Republic of",
            "Spain",
            "Sri Lanka",
            "Sweden",
            "Taiwan, Province of China",
            "Thailand",
            "United Kingdom",
            "United States",
            "United Arab Emirates",
            "Viet Nam"
           ],
           "legendgroup": "",
           "locations": [
            "AUS",
            "BEL",
            "KHM",
            "CAN",
            "FIN",
            "FRA",
            "DEU",
            "HKG",
            "IND",
            "ITA",
            "JPN",
            "MAC",
            "MYS",
            "NPL",
            "PHL",
            "RUS",
            "SGP",
            "KOR",
            "ESP",
            "LKA",
            "SWE",
            "TWN",
            "THA",
            "GBR",
            "USA",
            "ARE",
            "VNM"
           ],
           "marker": {
            "color": "#636efa",
            "size": [
             5,
             0,
             1,
             2,
             0,
             3,
             1,
             8,
             0,
             0,
             7,
             7,
             4,
             1,
             0,
             0,
             7,
             4,
             0,
             1,
             0,
             8,
             14,
             0,
             5,
             0,
             2
            ],
            "sizemode": "area",
            "sizeref": 0.1125
           },
           "name": "",
           "showlegend": false,
           "type": "scattergeo"
          }
         ],
         "name": "1/28/20 13:00"
        },
        {
         "data": [
          {
           "geo": "geo",
           "hoverlabel": {
            "namelength": 0
           },
           "hovertemplate": "<b>%{hovertext}</b><br><br>Time_Stamp=1/28/20 18:00<br>Cases=%{marker.size}<br>Country_Code=%{location}",
           "hovertext": [
            "Australia",
            "Belgium",
            "Cambodia",
            "Canada",
            "Finland",
            "France",
            "Germany",
            "Hong Kong",
            "India",
            "Italy",
            "Japan",
            "Macao",
            "Malaysia",
            "Nepal",
            "Philippines",
            "Russian Federation",
            "Singapore",
            "Korea, Republic of",
            "Spain",
            "Sri Lanka",
            "Sweden",
            "Taiwan, Province of China",
            "Thailand",
            "United Kingdom",
            "United States",
            "United Arab Emirates",
            "Viet Nam"
           ],
           "legendgroup": "",
           "locations": [
            "AUS",
            "BEL",
            "KHM",
            "CAN",
            "FIN",
            "FRA",
            "DEU",
            "HKG",
            "IND",
            "ITA",
            "JPN",
            "MAC",
            "MYS",
            "NPL",
            "PHL",
            "RUS",
            "SGP",
            "KOR",
            "ESP",
            "LKA",
            "SWE",
            "TWN",
            "THA",
            "GBR",
            "USA",
            "ARE",
            "VNM"
           ],
           "marker": {
            "color": "#636efa",
            "size": [
             5,
             0,
             1,
             2,
             0,
             4,
             4,
             8,
             0,
             0,
             7,
             7,
             4,
             1,
             0,
             0,
             7,
             4,
             0,
             1,
             0,
             8,
             14,
             0,
             5,
             0,
             2
            ],
            "sizemode": "area",
            "sizeref": 0.1125
           },
           "name": "",
           "showlegend": false,
           "type": "scattergeo"
          }
         ],
         "name": "1/28/20 18:00"
        },
        {
         "data": [
          {
           "geo": "geo",
           "hoverlabel": {
            "namelength": 0
           },
           "hovertemplate": "<b>%{hovertext}</b><br><br>Time_Stamp=1/28/20 23:00<br>Cases=%{marker.size}<br>Country_Code=%{location}",
           "hovertext": [
            "Australia",
            "Belgium",
            "Cambodia",
            "Canada",
            "Finland",
            "France",
            "Germany",
            "Hong Kong",
            "India",
            "Italy",
            "Japan",
            "Macao",
            "Malaysia",
            "Nepal",
            "Philippines",
            "Russian Federation",
            "Singapore",
            "Korea, Republic of",
            "Spain",
            "Sri Lanka",
            "Sweden",
            "Taiwan, Province of China",
            "Thailand",
            "United Kingdom",
            "United States",
            "United Arab Emirates",
            "Viet Nam"
           ],
           "legendgroup": "",
           "locations": [
            "AUS",
            "BEL",
            "KHM",
            "CAN",
            "FIN",
            "FRA",
            "DEU",
            "HKG",
            "IND",
            "ITA",
            "JPN",
            "MAC",
            "MYS",
            "NPL",
            "PHL",
            "RUS",
            "SGP",
            "KOR",
            "ESP",
            "LKA",
            "SWE",
            "TWN",
            "THA",
            "GBR",
            "USA",
            "ARE",
            "VNM"
           ],
           "marker": {
            "color": "#636efa",
            "size": [
             5,
             0,
             1,
             2,
             0,
             4,
             4,
             8,
             0,
             0,
             7,
             7,
             7,
             1,
             0,
             0,
             7,
             4,
             0,
             1,
             0,
             8,
             14,
             0,
             5,
             0,
             2
            ],
            "sizemode": "area",
            "sizeref": 0.1125
           },
           "name": "",
           "showlegend": false,
           "type": "scattergeo"
          }
         ],
         "name": "1/28/20 23:00"
        },
        {
         "data": [
          {
           "geo": "geo",
           "hoverlabel": {
            "namelength": 0
           },
           "hovertemplate": "<b>%{hovertext}</b><br><br>Time_Stamp=1/29/20 13:30<br>Cases=%{marker.size}<br>Country_Code=%{location}",
           "hovertext": [
            "Australia",
            "Belgium",
            "Cambodia",
            "Canada",
            "Finland",
            "France",
            "Germany",
            "Hong Kong",
            "India",
            "Italy",
            "Japan",
            "Macao",
            "Malaysia",
            "Nepal",
            "Philippines",
            "Russian Federation",
            "Singapore",
            "Korea, Republic of",
            "Spain",
            "Sri Lanka",
            "Sweden",
            "Taiwan, Province of China",
            "Thailand",
            "United Kingdom",
            "United States",
            "United Arab Emirates",
            "Viet Nam"
           ],
           "legendgroup": "",
           "locations": [
            "AUS",
            "BEL",
            "KHM",
            "CAN",
            "FIN",
            "FRA",
            "DEU",
            "HKG",
            "IND",
            "ITA",
            "JPN",
            "MAC",
            "MYS",
            "NPL",
            "PHL",
            "RUS",
            "SGP",
            "KOR",
            "ESP",
            "LKA",
            "SWE",
            "TWN",
            "THA",
            "GBR",
            "USA",
            "ARE",
            "VNM"
           ],
           "marker": {
            "color": "#636efa",
            "size": [
             5,
             0,
             1,
             2,
             1,
             4,
             4,
             10,
             1,
             0,
             7,
             7,
             7,
             1,
             0,
             0,
             7,
             4,
             0,
             1,
             0,
             8,
             14,
             0,
             5,
             4,
             2
            ],
            "sizemode": "area",
            "sizeref": 0.1125
           },
           "name": "",
           "showlegend": false,
           "type": "scattergeo"
          }
         ],
         "name": "1/29/20 13:30"
        },
        {
         "data": [
          {
           "geo": "geo",
           "hoverlabel": {
            "namelength": 0
           },
           "hovertemplate": "<b>%{hovertext}</b><br><br>Time_Stamp=1/29/20 14:30<br>Cases=%{marker.size}<br>Country_Code=%{location}",
           "hovertext": [
            "Australia",
            "Belgium",
            "Cambodia",
            "Canada",
            "Finland",
            "France",
            "Germany",
            "Hong Kong",
            "India",
            "Italy",
            "Japan",
            "Macao",
            "Malaysia",
            "Nepal",
            "Philippines",
            "Russian Federation",
            "Singapore",
            "Korea, Republic of",
            "Spain",
            "Sri Lanka",
            "Sweden",
            "Taiwan, Province of China",
            "Thailand",
            "United Kingdom",
            "United States",
            "United Arab Emirates",
            "Viet Nam"
           ],
           "legendgroup": "",
           "locations": [
            "AUS",
            "BEL",
            "KHM",
            "CAN",
            "FIN",
            "FRA",
            "DEU",
            "HKG",
            "IND",
            "ITA",
            "JPN",
            "MAC",
            "MYS",
            "NPL",
            "PHL",
            "RUS",
            "SGP",
            "KOR",
            "ESP",
            "LKA",
            "SWE",
            "TWN",
            "THA",
            "GBR",
            "USA",
            "ARE",
            "VNM"
           ],
           "marker": {
            "color": "#636efa",
            "size": [
             5,
             0,
             1,
             2,
             1,
             5,
             4,
             10,
             0,
             0,
             7,
             7,
             7,
             1,
             0,
             0,
             7,
             4,
             0,
             1,
             0,
             8,
             14,
             0,
             5,
             4,
             2
            ],
            "sizemode": "area",
            "sizeref": 0.1125
           },
           "name": "",
           "showlegend": false,
           "type": "scattergeo"
          }
         ],
         "name": "1/29/20 14:30"
        },
        {
         "data": [
          {
           "geo": "geo",
           "hoverlabel": {
            "namelength": 0
           },
           "hovertemplate": "<b>%{hovertext}</b><br><br>Time_Stamp=1/29/20 21:00<br>Cases=%{marker.size}<br>Country_Code=%{location}",
           "hovertext": [
            "Australia",
            "Belgium",
            "Cambodia",
            "Canada",
            "Finland",
            "France",
            "Germany",
            "Hong Kong",
            "India",
            "Italy",
            "Japan",
            "Macao",
            "Malaysia",
            "Nepal",
            "Philippines",
            "Russian Federation",
            "Singapore",
            "Korea, Republic of",
            "Spain",
            "Sri Lanka",
            "Sweden",
            "Taiwan, Province of China",
            "Thailand",
            "United Kingdom",
            "United States",
            "United Arab Emirates",
            "Viet Nam"
           ],
           "legendgroup": "",
           "locations": [
            "AUS",
            "BEL",
            "KHM",
            "CAN",
            "FIN",
            "FRA",
            "DEU",
            "HKG",
            "IND",
            "ITA",
            "JPN",
            "MAC",
            "MYS",
            "NPL",
            "PHL",
            "RUS",
            "SGP",
            "KOR",
            "ESP",
            "LKA",
            "SWE",
            "TWN",
            "THA",
            "GBR",
            "USA",
            "ARE",
            "VNM"
           ],
           "marker": {
            "color": "#636efa",
            "size": [
             7,
             0,
             1,
             2,
             1,
             5,
             4,
             10,
             0,
             0,
             11,
             7,
             7,
             1,
             0,
             0,
             10,
             4,
             0,
             1,
             0,
             8,
             14,
             0,
             5,
             4,
             2
            ],
            "sizemode": "area",
            "sizeref": 0.1125
           },
           "name": "",
           "showlegend": false,
           "type": "scattergeo"
          }
         ],
         "name": "1/29/20 21:00"
        },
        {
         "data": [
          {
           "geo": "geo",
           "hoverlabel": {
            "namelength": 0
           },
           "hovertemplate": "<b>%{hovertext}</b><br><br>Time_Stamp=1/30/20 11:00<br>Cases=%{marker.size}<br>Country_Code=%{location}",
           "hovertext": [
            "Australia",
            "Belgium",
            "Cambodia",
            "Canada",
            "Finland",
            "France",
            "Germany",
            "Hong Kong",
            "India",
            "Italy",
            "Japan",
            "Macao",
            "Malaysia",
            "Nepal",
            "Philippines",
            "Russian Federation",
            "Singapore",
            "Korea, Republic of",
            "Spain",
            "Sri Lanka",
            "Sweden",
            "Taiwan, Province of China",
            "Thailand",
            "United Kingdom",
            "United States",
            "United Arab Emirates",
            "Viet Nam"
           ],
           "legendgroup": "",
           "locations": [
            "AUS",
            "BEL",
            "KHM",
            "CAN",
            "FIN",
            "FRA",
            "DEU",
            "HKG",
            "IND",
            "ITA",
            "JPN",
            "MAC",
            "MYS",
            "NPL",
            "PHL",
            "RUS",
            "SGP",
            "KOR",
            "ESP",
            "LKA",
            "SWE",
            "TWN",
            "THA",
            "GBR",
            "USA",
            "ARE",
            "VNM"
           ],
           "marker": {
            "color": "#636efa",
            "size": [
             9,
             0,
             1,
             2,
             1,
             5,
             4,
             10,
             1,
             0,
             11,
             7,
             8,
             1,
             1,
             0,
             10,
             4,
             0,
             1,
             0,
             9,
             14,
             0,
             5,
             4,
             2
            ],
            "sizemode": "area",
            "sizeref": 0.1125
           },
           "name": "",
           "showlegend": false,
           "type": "scattergeo"
          }
         ],
         "name": "1/30/20 11:00"
        },
        {
         "data": [
          {
           "geo": "geo",
           "hoverlabel": {
            "namelength": 0
           },
           "hovertemplate": "<b>%{hovertext}</b><br><br>Time_Stamp=1/31/20 14:00<br>Cases=%{marker.size}<br>Country_Code=%{location}",
           "hovertext": [
            "Australia",
            "Belgium",
            "Cambodia",
            "Canada",
            "Finland",
            "France",
            "Germany",
            "Hong Kong",
            "India",
            "Italy",
            "Japan",
            "Macao",
            "Malaysia",
            "Nepal",
            "Philippines",
            "Russian Federation",
            "Singapore",
            "Korea, Republic of",
            "Spain",
            "Sri Lanka",
            "Sweden",
            "Taiwan, Province of China",
            "Thailand",
            "United Kingdom",
            "United States",
            "United Arab Emirates",
            "Viet Nam"
           ],
           "legendgroup": "",
           "locations": [
            "AUS",
            "BEL",
            "KHM",
            "CAN",
            "FIN",
            "FRA",
            "DEU",
            "HKG",
            "IND",
            "ITA",
            "JPN",
            "MAC",
            "MYS",
            "NPL",
            "PHL",
            "RUS",
            "SGP",
            "KOR",
            "ESP",
            "LKA",
            "SWE",
            "TWN",
            "THA",
            "GBR",
            "USA",
            "ARE",
            "VNM"
           ],
           "marker": {
            "color": "#636efa",
            "size": [
             9,
             0,
             1,
             4,
             1,
             5,
             5,
             12,
             1,
             2,
             15,
             7,
             8,
             1,
             1,
             2,
             13,
             11,
             0,
             1,
             1,
             10,
             19,
             2,
             7,
             4,
             2
            ],
            "sizemode": "area",
            "sizeref": 0.1125
           },
           "name": "",
           "showlegend": false,
           "type": "scattergeo"
          }
         ],
         "name": "1/31/20 14:00"
        },
        {
         "data": [
          {
           "geo": "geo",
           "hoverlabel": {
            "namelength": 0
           },
           "hovertemplate": "<b>%{hovertext}</b><br><br>Time_Stamp=02/01/20 10:00<br>Cases=%{marker.size}<br>Country_Code=%{location}",
           "hovertext": [
            "Australia",
            "Belgium",
            "Cambodia",
            "Canada",
            "Finland",
            "France",
            "Germany",
            "Hong Kong",
            "India",
            "Italy",
            "Japan",
            "Macao",
            "Malaysia",
            "Nepal",
            "Philippines",
            "Russian Federation",
            "Singapore",
            "Korea, Republic of",
            "Spain",
            "Sri Lanka",
            "Sweden",
            "Taiwan, Province of China",
            "Thailand",
            "United Kingdom",
            "United States",
            "United Arab Emirates",
            "Viet Nam"
           ],
           "legendgroup": "",
           "locations": [
            "AUS",
            "BEL",
            "KHM",
            "CAN",
            "FIN",
            "FRA",
            "DEU",
            "HKG",
            "IND",
            "ITA",
            "JPN",
            "MAC",
            "MYS",
            "NPL",
            "PHL",
            "RUS",
            "SGP",
            "KOR",
            "ESP",
            "LKA",
            "SWE",
            "TWN",
            "THA",
            "GBR",
            "USA",
            "ARE",
            "VNM"
           ],
           "marker": {
            "color": "#636efa",
            "size": [
             12,
             0,
             1,
             4,
             1,
             6,
             7,
             13,
             1,
             2,
             17,
             7,
             8,
             1,
             1,
             2,
             18,
             12,
             1,
             1,
             1,
             10,
             19,
             2,
             7,
             4,
             6
            ],
            "sizemode": "area",
            "sizeref": 0.1125
           },
           "name": "",
           "showlegend": false,
           "type": "scattergeo"
          }
         ],
         "name": "02/01/20 10:00"
        },
        {
         "data": [
          {
           "geo": "geo",
           "hoverlabel": {
            "namelength": 0
           },
           "hovertemplate": "<b>%{hovertext}</b><br><br>Time_Stamp=02/02/20 21:00<br>Cases=%{marker.size}<br>Country_Code=%{location}",
           "hovertext": [
            "Australia",
            "Belgium",
            "Cambodia",
            "Canada",
            "Finland",
            "France",
            "Germany",
            "Hong Kong",
            "India",
            "Italy",
            "Japan",
            "Macao",
            "Malaysia",
            "Nepal",
            "Philippines",
            "Russian Federation",
            "Singapore",
            "Korea, Republic of",
            "Spain",
            "Sri Lanka",
            "Sweden",
            "Taiwan, Province of China",
            "Thailand",
            "United Kingdom",
            "United States",
            "United Arab Emirates",
            "Viet Nam"
           ],
           "legendgroup": "",
           "locations": [
            "AUS",
            "BEL",
            "KHM",
            "CAN",
            "FIN",
            "FRA",
            "DEU",
            "HKG",
            "IND",
            "ITA",
            "JPN",
            "MAC",
            "MYS",
            "NPL",
            "PHL",
            "RUS",
            "SGP",
            "KOR",
            "ESP",
            "LKA",
            "SWE",
            "TWN",
            "THA",
            "GBR",
            "USA",
            "ARE",
            "VNM"
           ],
           "marker": {
            "color": "#636efa",
            "size": [
             12,
             0,
             1,
             4,
             1,
             6,
             10,
             15,
             2,
             2,
             20,
             8,
             8,
             1,
             2,
             2,
             18,
             15,
             1,
             1,
             1,
             10,
             19,
             2,
             8,
             5,
             6
            ],
            "sizemode": "area",
            "sizeref": 0.1125
           },
           "name": "",
           "showlegend": false,
           "type": "scattergeo"
          }
         ],
         "name": "02/02/20 21:00"
        },
        {
         "data": [
          {
           "geo": "geo",
           "hoverlabel": {
            "namelength": 0
           },
           "hovertemplate": "<b>%{hovertext}</b><br><br>Time_Stamp=02/03/20 21:00<br>Cases=%{marker.size}<br>Country_Code=%{location}",
           "hovertext": [
            "Australia",
            "Belgium",
            "Cambodia",
            "Canada",
            "Finland",
            "France",
            "Germany",
            "Hong Kong",
            "India",
            "Italy",
            "Japan",
            "Macao",
            "Malaysia",
            "Nepal",
            "Philippines",
            "Russian Federation",
            "Singapore",
            "Korea, Republic of",
            "Spain",
            "Sri Lanka",
            "Sweden",
            "Taiwan, Province of China",
            "Thailand",
            "United Kingdom",
            "United States",
            "United Arab Emirates",
            "Viet Nam"
           ],
           "legendgroup": "",
           "locations": [
            "AUS",
            "BEL",
            "KHM",
            "CAN",
            "FIN",
            "FRA",
            "DEU",
            "HKG",
            "IND",
            "ITA",
            "JPN",
            "MAC",
            "MYS",
            "NPL",
            "PHL",
            "RUS",
            "SGP",
            "KOR",
            "ESP",
            "LKA",
            "SWE",
            "TWN",
            "THA",
            "GBR",
            "USA",
            "ARE",
            "VNM"
           ],
           "marker": {
            "color": "#636efa",
            "size": [
             12,
             0,
             1,
             4,
             1,
             6,
             10,
             15,
             2,
             2,
             20,
             8,
             8,
             1,
             2,
             2,
             18,
             15,
             1,
             1,
             1,
             10,
             19,
             2,
             10,
             5,
             8
            ],
            "sizemode": "area",
            "sizeref": 0.1125
           },
           "name": "",
           "showlegend": false,
           "type": "scattergeo"
          }
         ],
         "name": "02/03/20 21:00"
        },
        {
         "data": [
          {
           "geo": "geo",
           "hoverlabel": {
            "namelength": 0
           },
           "hovertemplate": "<b>%{hovertext}</b><br><br>Time_Stamp=02/04/20 9:40<br>Cases=%{marker.size}<br>Country_Code=%{location}",
           "hovertext": [
            "Australia",
            "Belgium",
            "Cambodia",
            "Canada",
            "Finland",
            "France",
            "Germany",
            "Hong Kong",
            "India",
            "Italy",
            "Japan",
            "Macao",
            "Malaysia",
            "Nepal",
            "Philippines",
            "Russian Federation",
            "Singapore",
            "Korea, Republic of",
            "Spain",
            "Sri Lanka",
            "Sweden",
            "Taiwan, Province of China",
            "Thailand",
            "United Kingdom",
            "United States",
            "United Arab Emirates",
            "Viet Nam"
           ],
           "legendgroup": "",
           "locations": [
            "AUS",
            "BEL",
            "KHM",
            "CAN",
            "FIN",
            "FRA",
            "DEU",
            "HKG",
            "IND",
            "ITA",
            "JPN",
            "MAC",
            "MYS",
            "NPL",
            "PHL",
            "RUS",
            "SGP",
            "KOR",
            "ESP",
            "LKA",
            "SWE",
            "TWN",
            "THA",
            "GBR",
            "USA",
            "ARE",
            "VNM"
           ],
           "marker": {
            "color": "#636efa",
            "size": [
             12,
             1,
             1,
             4,
             1,
             6,
             12,
             15,
             3,
             2,
             20,
             8,
             8,
             1,
             2,
             2,
             18,
             15,
             1,
             1,
             1,
             10,
             19,
             2,
             11,
             5,
             8
            ],
            "sizemode": "area",
            "sizeref": 0.1125
           },
           "name": "",
           "showlegend": false,
           "type": "scattergeo"
          }
         ],
         "name": "02/04/20 9:40"
        },
        {
         "data": [
          {
           "geo": "geo",
           "hoverlabel": {
            "namelength": 0
           },
           "hovertemplate": "<b>%{hovertext}</b><br><br>Time_Stamp=02/04/20 22:00<br>Cases=%{marker.size}<br>Country_Code=%{location}",
           "hovertext": [
            "Australia",
            "Belgium",
            "Cambodia",
            "Canada",
            "Finland",
            "France",
            "Germany",
            "Hong Kong",
            "India",
            "Italy",
            "Japan",
            "Macao",
            "Malaysia",
            "Nepal",
            "Philippines",
            "Russian Federation",
            "Singapore",
            "Korea, Republic of",
            "Spain",
            "Sri Lanka",
            "Sweden",
            "Taiwan, Province of China",
            "Thailand",
            "United Kingdom",
            "United States",
            "United Arab Emirates",
            "Viet Nam"
           ],
           "legendgroup": "",
           "locations": [
            "AUS",
            "BEL",
            "KHM",
            "CAN",
            "FIN",
            "FRA",
            "DEU",
            "HKG",
            "IND",
            "ITA",
            "JPN",
            "MAC",
            "MYS",
            "NPL",
            "PHL",
            "RUS",
            "SGP",
            "KOR",
            "ESP",
            "LKA",
            "SWE",
            "TWN",
            "THA",
            "GBR",
            "USA",
            "ARE",
            "VNM"
           ],
           "marker": {
            "color": "#636efa",
            "size": [
             13,
             1,
             1,
             4,
             1,
             6,
             12,
             18,
             3,
             2,
             22,
             10,
             10,
             1,
             2,
             2,
             24,
             16,
             1,
             1,
             1,
             11,
             25,
             2,
             11,
             5,
             8
            ],
            "sizemode": "area",
            "sizeref": 0.1125
           },
           "name": "",
           "showlegend": false,
           "type": "scattergeo"
          }
         ],
         "name": "02/04/20 22:00"
        },
        {
         "data": [
          {
           "geo": "geo",
           "hoverlabel": {
            "namelength": 0
           },
           "hovertemplate": "<b>%{hovertext}</b><br><br>Time_Stamp=02/05/20 9:00<br>Cases=%{marker.size}<br>Country_Code=%{location}",
           "hovertext": [
            "Australia",
            "Belgium",
            "Cambodia",
            "Canada",
            "Finland",
            "France",
            "Germany",
            "Hong Kong",
            "India",
            "Italy",
            "Japan",
            "Macao",
            "Malaysia",
            "Nepal",
            "Philippines",
            "Russian Federation",
            "Singapore",
            "Korea, Republic of",
            "Spain",
            "Sri Lanka",
            "Sweden",
            "Taiwan, Province of China",
            "Thailand",
            "United Kingdom",
            "United States",
            "United Arab Emirates",
            "Viet Nam"
           ],
           "legendgroup": "",
           "locations": [
            "AUS",
            "BEL",
            "KHM",
            "CAN",
            "FIN",
            "FRA",
            "DEU",
            "HKG",
            "IND",
            "ITA",
            "JPN",
            "MAC",
            "MYS",
            "NPL",
            "PHL",
            "RUS",
            "SGP",
            "KOR",
            "ESP",
            "LKA",
            "SWE",
            "TWN",
            "THA",
            "GBR",
            "USA",
            "ARE",
            "VNM"
           ],
           "marker": {
            "color": "#636efa",
            "size": [
             13,
             1,
             1,
             4,
             1,
             6,
             12,
             21,
             3,
             2,
             22,
             10,
             10,
             1,
             2,
             2,
             24,
             16,
             1,
             1,
             1,
             11,
             25,
             2,
             11,
             5,
             8
            ],
            "sizemode": "area",
            "sizeref": 0.1125
           },
           "name": "",
           "showlegend": false,
           "type": "scattergeo"
          }
         ],
         "name": "02/05/20 9:00"
        },
        {
         "data": [
          {
           "geo": "geo",
           "hoverlabel": {
            "namelength": 0
           },
           "hovertemplate": "<b>%{hovertext}</b><br><br>Time_Stamp=02/05/20 23:00<br>Cases=%{marker.size}<br>Country_Code=%{location}",
           "hovertext": [
            "Australia",
            "Belgium",
            "Cambodia",
            "Canada",
            "Finland",
            "France",
            "Germany",
            "Hong Kong",
            "India",
            "Italy",
            "Japan",
            "Macao",
            "Malaysia",
            "Nepal",
            "Philippines",
            "Russian Federation",
            "Singapore",
            "Korea, Republic of",
            "Spain",
            "Sri Lanka",
            "Sweden",
            "Taiwan, Province of China",
            "Thailand",
            "United Kingdom",
            "United States",
            "United Arab Emirates",
            "Viet Nam"
           ],
           "legendgroup": "",
           "locations": [
            "AUS",
            "BEL",
            "KHM",
            "CAN",
            "FIN",
            "FRA",
            "DEU",
            "HKG",
            "IND",
            "ITA",
            "JPN",
            "MAC",
            "MYS",
            "NPL",
            "PHL",
            "RUS",
            "SGP",
            "KOR",
            "ESP",
            "LKA",
            "SWE",
            "TWN",
            "THA",
            "GBR",
            "USA",
            "ARE",
            "VNM"
           ],
           "marker": {
            "color": "#636efa",
            "size": [
             14,
             1,
             1,
             5,
             1,
             6,
             12,
             21,
             3,
             2,
             45,
             10,
             12,
             1,
             2,
             2,
             28,
             23,
             1,
             1,
             1,
             11,
             25,
             2,
             12,
             5,
             10
            ],
            "sizemode": "area",
            "sizeref": 0.1125
           },
           "name": "",
           "showlegend": false,
           "type": "scattergeo"
          }
         ],
         "name": "02/05/20 23:00"
        },
        {
         "data": [
          {
           "geo": "geo",
           "hoverlabel": {
            "namelength": 0
           },
           "hovertemplate": "<b>%{hovertext}</b><br><br>Time_Stamp=02/06/20 9:00<br>Cases=%{marker.size}<br>Country_Code=%{location}",
           "hovertext": [
            "Australia",
            "Belgium",
            "Cambodia",
            "Canada",
            "Finland",
            "France",
            "Germany",
            "Hong Kong",
            "India",
            "Italy",
            "Japan",
            "Macao",
            "Malaysia",
            "Nepal",
            "Philippines",
            "Russian Federation",
            "Singapore",
            "Korea, Republic of",
            "Spain",
            "Sri Lanka",
            "Sweden",
            "Taiwan, Province of China",
            "Thailand",
            "United Kingdom",
            "United States",
            "United Arab Emirates",
            "Viet Nam"
           ],
           "legendgroup": "",
           "locations": [
            "AUS",
            "BEL",
            "KHM",
            "CAN",
            "FIN",
            "FRA",
            "DEU",
            "HKG",
            "IND",
            "ITA",
            "JPN",
            "MAC",
            "MYS",
            "NPL",
            "PHL",
            "RUS",
            "SGP",
            "KOR",
            "ESP",
            "LKA",
            "SWE",
            "TWN",
            "THA",
            "GBR",
            "USA",
            "ARE",
            "VNM"
           ],
           "marker": {
            "color": "#636efa",
            "size": [
             14,
             1,
             1,
             5,
             1,
             6,
             12,
             21,
             3,
             2,
             45,
             10,
             12,
             1,
             2,
             2,
             28,
             23,
             1,
             1,
             1,
             13,
             25,
             2,
             12,
             5,
             10
            ],
            "sizemode": "area",
            "sizeref": 0.1125
           },
           "name": "",
           "showlegend": false,
           "type": "scattergeo"
          }
         ],
         "name": "02/06/20 9:00"
        },
        {
         "data": [
          {
           "geo": "geo",
           "hoverlabel": {
            "namelength": 0
           },
           "hovertemplate": "<b>%{hovertext}</b><br><br>Time_Stamp=02/06/20 14:20<br>Cases=%{marker.size}<br>Country_Code=%{location}",
           "hovertext": [
            "Australia",
            "Belgium",
            "Cambodia",
            "Canada",
            "Finland",
            "France",
            "Germany",
            "Hong Kong",
            "India",
            "Italy",
            "Japan",
            "Macao",
            "Malaysia",
            "Nepal",
            "Philippines",
            "Russian Federation",
            "Singapore",
            "Korea, Republic of",
            "Spain",
            "Sri Lanka",
            "Sweden",
            "Taiwan, Province of China",
            "Thailand",
            "United Kingdom",
            "United States",
            "United Arab Emirates",
            "Viet Nam"
           ],
           "legendgroup": "",
           "locations": [
            "AUS",
            "BEL",
            "KHM",
            "CAN",
            "FIN",
            "FRA",
            "DEU",
            "HKG",
            "IND",
            "ITA",
            "JPN",
            "MAC",
            "MYS",
            "NPL",
            "PHL",
            "RUS",
            "SGP",
            "KOR",
            "ESP",
            "LKA",
            "SWE",
            "TWN",
            "THA",
            "GBR",
            "USA",
            "ARE",
            "VNM"
           ],
           "marker": {
            "color": "#636efa",
            "size": [
             14,
             1,
             1,
             5,
             1,
             6,
             12,
             24,
             3,
             2,
             45,
             10,
             12,
             1,
             2,
             2,
             28,
             23,
             1,
             1,
             1,
             16,
             25,
             2,
             12,
             5,
             10
            ],
            "sizemode": "area",
            "sizeref": 0.1125
           },
           "name": "",
           "showlegend": false,
           "type": "scattergeo"
          }
         ],
         "name": "02/06/20 14:20"
        },
        {
         "data": [
          {
           "geo": "geo",
           "hoverlabel": {
            "namelength": 0
           },
           "hovertemplate": "<b>%{hovertext}</b><br><br>Time_Stamp=02/07/20 20:13<br>Cases=%{marker.size}<br>Country_Code=%{location}",
           "hovertext": [
            "Australia",
            "Belgium",
            "Cambodia",
            "Canada",
            "Finland",
            "France",
            "Germany",
            "Hong Kong",
            "India",
            "Italy",
            "Japan",
            "Macao",
            "Malaysia",
            "Nepal",
            "Philippines",
            "Russian Federation",
            "Singapore",
            "Korea, Republic of",
            "Spain",
            "Sri Lanka",
            "Sweden",
            "Taiwan, Province of China",
            "Thailand",
            "United Kingdom",
            "United States",
            "United Arab Emirates",
            "Viet Nam"
           ],
           "legendgroup": "",
           "locations": [
            "AUS",
            "BEL",
            "KHM",
            "CAN",
            "FIN",
            "FRA",
            "DEU",
            "HKG",
            "IND",
            "ITA",
            "JPN",
            "MAC",
            "MYS",
            "NPL",
            "PHL",
            "RUS",
            "SGP",
            "KOR",
            "ESP",
            "LKA",
            "SWE",
            "TWN",
            "THA",
            "GBR",
            "USA",
            "ARE",
            "VNM"
           ],
           "marker": {
            "color": "#636efa",
            "size": [
             15,
             1,
             1,
             7,
             1,
             6,
             13,
             25,
             3,
             3,
             25,
             10,
             12,
             1,
             3,
             2,
             30,
             24,
             1,
             1,
             1,
             16,
             25,
             3,
             12,
             5,
             10
            ],
            "sizemode": "area",
            "sizeref": 0.1125
           },
           "name": "",
           "showlegend": false,
           "type": "scattergeo"
          }
         ],
         "name": "02/07/20 20:13"
        },
        {
         "data": [
          {
           "geo": "geo",
           "hoverlabel": {
            "namelength": 0
           },
           "hovertemplate": "<b>%{hovertext}</b><br><br>Time_Stamp=02/07/20 22:50<br>Cases=%{marker.size}<br>Country_Code=%{location}",
           "hovertext": [
            "Australia",
            "Belgium",
            "Cambodia",
            "Canada",
            "Finland",
            "France",
            "Germany",
            "Hong Kong",
            "India",
            "Italy",
            "Japan",
            "Macao",
            "Malaysia",
            "Nepal",
            "Philippines",
            "Russian Federation",
            "Singapore",
            "Korea, Republic of",
            "Spain",
            "Sri Lanka",
            "Sweden",
            "Taiwan, Province of China",
            "Thailand",
            "United Kingdom",
            "United States",
            "United Arab Emirates",
            "Viet Nam"
           ],
           "legendgroup": "",
           "locations": [
            "AUS",
            "BEL",
            "KHM",
            "CAN",
            "FIN",
            "FRA",
            "DEU",
            "HKG",
            "IND",
            "ITA",
            "JPN",
            "MAC",
            "MYS",
            "NPL",
            "PHL",
            "RUS",
            "SGP",
            "KOR",
            "ESP",
            "LKA",
            "SWE",
            "TWN",
            "THA",
            "GBR",
            "USA",
            "ARE",
            "VNM"
           ],
           "marker": {
            "color": "#636efa",
            "size": [
             15,
             1,
             1,
             7,
             1,
             6,
             13,
             26,
             3,
             3,
             25,
             10,
             12,
             1,
             3,
             2,
             30,
             36,
             1,
             1,
             1,
             16,
             25,
             3,
             12,
             5,
             10
            ],
            "sizemode": "area",
            "sizeref": 0.1125
           },
           "name": "",
           "showlegend": false,
           "type": "scattergeo"
          }
         ],
         "name": "02/07/20 22:50"
        },
        {
         "data": [
          {
           "geo": "geo",
           "hoverlabel": {
            "namelength": 0
           },
           "hovertemplate": "<b>%{hovertext}</b><br><br>Time_Stamp=02/08/20 22:04<br>Cases=%{marker.size}<br>Country_Code=%{location}",
           "hovertext": [
            "Australia",
            "Belgium",
            "Cambodia",
            "Canada",
            "Finland",
            "France",
            "Germany",
            "Hong Kong",
            "India",
            "Italy",
            "Japan",
            "Macao",
            "Malaysia",
            "Nepal",
            "Philippines",
            "Russian Federation",
            "Singapore",
            "Korea, Republic of",
            "Spain",
            "Sri Lanka",
            "Sweden",
            "Taiwan, Province of China",
            "Thailand",
            "United Kingdom",
            "United States",
            "United Arab Emirates",
            "Viet Nam"
           ],
           "legendgroup": "",
           "locations": [
            "AUS",
            "BEL",
            "KHM",
            "CAN",
            "FIN",
            "FRA",
            "DEU",
            "HKG",
            "IND",
            "ITA",
            "JPN",
            "MAC",
            "MYS",
            "NPL",
            "PHL",
            "RUS",
            "SGP",
            "KOR",
            "ESP",
            "LKA",
            "SWE",
            "TWN",
            "THA",
            "GBR",
            "USA",
            "ARE",
            "VNM"
           ],
           "marker": {
            "color": "#636efa",
            "size": [
             15,
             1,
             1,
             7,
             1,
             11,
             13,
             26,
             3,
             3,
             25,
             10,
             16,
             1,
             3,
             2,
             33,
             24,
             1,
             1,
             1,
             17,
             32,
             3,
             12,
             7,
             13
            ],
            "sizemode": "area",
            "sizeref": 0.1125
           },
           "name": "",
           "showlegend": false,
           "type": "scattergeo"
          }
         ],
         "name": "02/08/20 22:04"
        },
        {
         "data": [
          {
           "geo": "geo",
           "hoverlabel": {
            "namelength": 0
           },
           "hovertemplate": "<b>%{hovertext}</b><br><br>Time_Stamp=02/08/20 23:04<br>Cases=%{marker.size}<br>Country_Code=%{location}",
           "hovertext": [
            "Australia",
            "Belgium",
            "Cambodia",
            "Canada",
            "Finland",
            "France",
            "Germany",
            "Hong Kong",
            "India",
            "Italy",
            "Japan",
            "Macao",
            "Malaysia",
            "Nepal",
            "Philippines",
            "Russian Federation",
            "Singapore",
            "Korea, Republic of",
            "Spain",
            "Sri Lanka",
            "Sweden",
            "Taiwan, Province of China",
            "Thailand",
            "United Kingdom",
            "United States",
            "United Arab Emirates",
            "Viet Nam"
           ],
           "legendgroup": "",
           "locations": [
            "AUS",
            "BEL",
            "KHM",
            "CAN",
            "FIN",
            "FRA",
            "DEU",
            "HKG",
            "IND",
            "ITA",
            "JPN",
            "MAC",
            "MYS",
            "NPL",
            "PHL",
            "RUS",
            "SGP",
            "KOR",
            "ESP",
            "LKA",
            "SWE",
            "TWN",
            "THA",
            "GBR",
            "USA",
            "ARE",
            "VNM"
           ],
           "marker": {
            "color": "#636efa",
            "size": [
             15,
             1,
             1,
             7,
             1,
             11,
             13,
             26,
             3,
             3,
             25,
             10,
             16,
             1,
             3,
             2,
             40,
             25,
             1,
             1,
             1,
             17,
             32,
             3,
             12,
             7,
             13
            ],
            "sizemode": "area",
            "sizeref": 0.1125
           },
           "name": "",
           "showlegend": false,
           "type": "scattergeo"
          }
         ],
         "name": "02/08/20 23:04"
        },
        {
         "data": [
          {
           "geo": "geo",
           "hoverlabel": {
            "namelength": 0
           },
           "hovertemplate": "<b>%{hovertext}</b><br><br>Time_Stamp=02/09/20 10:30<br>Cases=%{marker.size}<br>Country_Code=%{location}",
           "hovertext": [
            "Australia",
            "Belgium",
            "Cambodia",
            "Canada",
            "Finland",
            "France",
            "Germany",
            "Hong Kong",
            "India",
            "Italy",
            "Japan",
            "Macao",
            "Malaysia",
            "Nepal",
            "Philippines",
            "Russian Federation",
            "Singapore",
            "Korea, Republic of",
            "Spain",
            "Sri Lanka",
            "Sweden",
            "Taiwan, Province of China",
            "Thailand",
            "United Kingdom",
            "United States",
            "United Arab Emirates",
            "Viet Nam"
           ],
           "legendgroup": "",
           "locations": [
            "AUS",
            "BEL",
            "KHM",
            "CAN",
            "FIN",
            "FRA",
            "DEU",
            "HKG",
            "IND",
            "ITA",
            "JPN",
            "MAC",
            "MYS",
            "NPL",
            "PHL",
            "RUS",
            "SGP",
            "KOR",
            "ESP",
            "LKA",
            "SWE",
            "TWN",
            "THA",
            "GBR",
            "USA",
            "ARE",
            "VNM"
           ],
           "marker": {
            "color": "#636efa",
            "size": [
             15,
             1,
             1,
             7,
             1,
             11,
             14,
             29,
             3,
             3,
             26,
             10,
             16,
             1,
             3,
             2,
             40,
             25,
             1,
             1,
             1,
             18,
             32,
             3,
             12,
             7,
             13
            ],
            "sizemode": "area",
            "sizeref": 0.1125
           },
           "name": "",
           "showlegend": false,
           "type": "scattergeo"
          }
         ],
         "name": "02/09/20 10:30"
        },
        {
         "data": [
          {
           "geo": "geo",
           "hoverlabel": {
            "namelength": 0
           },
           "hovertemplate": "<b>%{hovertext}</b><br><br>Time_Stamp=02/09/20 23:20<br>Cases=%{marker.size}<br>Country_Code=%{location}",
           "hovertext": [
            "Australia",
            "Belgium",
            "Cambodia",
            "Canada",
            "Finland",
            "France",
            "Germany",
            "Hong Kong",
            "India",
            "Italy",
            "Japan",
            "Macao",
            "Malaysia",
            "Nepal",
            "Philippines",
            "Russian Federation",
            "Singapore",
            "Korea, Republic of",
            "Spain",
            "Sri Lanka",
            "Sweden",
            "Taiwan, Province of China",
            "Thailand",
            "United Kingdom",
            "United States",
            "United Arab Emirates",
            "Viet Nam"
           ],
           "legendgroup": "",
           "locations": [
            "AUS",
            "BEL",
            "KHM",
            "CAN",
            "FIN",
            "FRA",
            "DEU",
            "HKG",
            "IND",
            "ITA",
            "JPN",
            "MAC",
            "MYS",
            "NPL",
            "PHL",
            "RUS",
            "SGP",
            "KOR",
            "ESP",
            "LKA",
            "SWE",
            "TWN",
            "THA",
            "GBR",
            "USA",
            "ARE",
            "VNM"
           ],
           "marker": {
            "color": "#636efa",
            "size": [
             15,
             1,
             1,
             7,
             1,
             11,
             14,
             36,
             3,
             3,
             26,
             10,
             18,
             1,
             3,
             2,
             43,
             27,
             2,
             1,
             1,
             18,
             32,
             3,
             12,
             7,
             14
            ],
            "sizemode": "area",
            "sizeref": 0.1125
           },
           "name": "",
           "showlegend": false,
           "type": "scattergeo"
          }
         ],
         "name": "02/09/20 23:20"
        }
       ],
       "layout": {
        "geo": {
         "center": {},
         "domain": {
          "x": [
           0,
           1
          ],
          "y": [
           0,
           1
          ]
         },
         "projection": {
          "type": "natural earth"
         }
        },
        "height": 700,
        "legend": {
         "itemsizing": "constant",
         "tracegroupgap": 0
        },
        "margin": {
         "t": 60
        },
        "showlegend": true,
        "sliders": [
         {
          "active": 0,
          "currentvalue": {
           "prefix": "Time_Stamp="
          },
          "len": 0.9,
          "pad": {
           "b": 10,
           "t": 60
          },
          "steps": [
           {
            "args": [
             [
              "1/21/20 22:00"
             ],
             {
              "frame": {
               "duration": 0,
               "redraw": true
              },
              "fromcurrent": true,
              "mode": "immediate",
              "transition": {
               "duration": 0,
               "easing": "linear"
              }
             }
            ],
            "label": "1/21/20 22:00",
            "method": "animate"
           },
           {
            "args": [
             [
              "1/22/20 12:00"
             ],
             {
              "frame": {
               "duration": 0,
               "redraw": true
              },
              "fromcurrent": true,
              "mode": "immediate",
              "transition": {
               "duration": 0,
               "easing": "linear"
              }
             }
            ],
            "label": "1/22/20 12:00",
            "method": "animate"
           },
           {
            "args": [
             [
              "1/23/20 12:00"
             ],
             {
              "frame": {
               "duration": 0,
               "redraw": true
              },
              "fromcurrent": true,
              "mode": "immediate",
              "transition": {
               "duration": 0,
               "easing": "linear"
              }
             }
            ],
            "label": "1/23/20 12:00",
            "method": "animate"
           },
           {
            "args": [
             [
              "1/24/20 0:00"
             ],
             {
              "frame": {
               "duration": 0,
               "redraw": true
              },
              "fromcurrent": true,
              "mode": "immediate",
              "transition": {
               "duration": 0,
               "easing": "linear"
              }
             }
            ],
            "label": "1/24/20 0:00",
            "method": "animate"
           },
           {
            "args": [
             [
              "1/24/20 12:00"
             ],
             {
              "frame": {
               "duration": 0,
               "redraw": true
              },
              "fromcurrent": true,
              "mode": "immediate",
              "transition": {
               "duration": 0,
               "easing": "linear"
              }
             }
            ],
            "label": "1/24/20 12:00",
            "method": "animate"
           },
           {
            "args": [
             [
              "1/25/20 0:00"
             ],
             {
              "frame": {
               "duration": 0,
               "redraw": true
              },
              "fromcurrent": true,
              "mode": "immediate",
              "transition": {
               "duration": 0,
               "easing": "linear"
              }
             }
            ],
            "label": "1/25/20 0:00",
            "method": "animate"
           },
           {
            "args": [
             [
              "1/25/20 12:00"
             ],
             {
              "frame": {
               "duration": 0,
               "redraw": true
              },
              "fromcurrent": true,
              "mode": "immediate",
              "transition": {
               "duration": 0,
               "easing": "linear"
              }
             }
            ],
            "label": "1/25/20 12:00",
            "method": "animate"
           },
           {
            "args": [
             [
              "1/25/20 22:00"
             ],
             {
              "frame": {
               "duration": 0,
               "redraw": true
              },
              "fromcurrent": true,
              "mode": "immediate",
              "transition": {
               "duration": 0,
               "easing": "linear"
              }
             }
            ],
            "label": "1/25/20 22:00",
            "method": "animate"
           },
           {
            "args": [
             [
              "1/26/20 11:00"
             ],
             {
              "frame": {
               "duration": 0,
               "redraw": true
              },
              "fromcurrent": true,
              "mode": "immediate",
              "transition": {
               "duration": 0,
               "easing": "linear"
              }
             }
            ],
            "label": "1/26/20 11:00",
            "method": "animate"
           },
           {
            "args": [
             [
              "1/26/20 23:00"
             ],
             {
              "frame": {
               "duration": 0,
               "redraw": true
              },
              "fromcurrent": true,
              "mode": "immediate",
              "transition": {
               "duration": 0,
               "easing": "linear"
              }
             }
            ],
            "label": "1/26/20 23:00",
            "method": "animate"
           },
           {
            "args": [
             [
              "1/27/20 9:00"
             ],
             {
              "frame": {
               "duration": 0,
               "redraw": true
              },
              "fromcurrent": true,
              "mode": "immediate",
              "transition": {
               "duration": 0,
               "easing": "linear"
              }
             }
            ],
            "label": "1/27/20 9:00",
            "method": "animate"
           },
           {
            "args": [
             [
              "1/27/20 19:00"
             ],
             {
              "frame": {
               "duration": 0,
               "redraw": true
              },
              "fromcurrent": true,
              "mode": "immediate",
              "transition": {
               "duration": 0,
               "easing": "linear"
              }
             }
            ],
            "label": "1/27/20 19:00",
            "method": "animate"
           },
           {
            "args": [
             [
              "1/27/20 20:30"
             ],
             {
              "frame": {
               "duration": 0,
               "redraw": true
              },
              "fromcurrent": true,
              "mode": "immediate",
              "transition": {
               "duration": 0,
               "easing": "linear"
              }
             }
            ],
            "label": "1/27/20 20:30",
            "method": "animate"
           },
           {
            "args": [
             [
              "1/28/20 13:00"
             ],
             {
              "frame": {
               "duration": 0,
               "redraw": true
              },
              "fromcurrent": true,
              "mode": "immediate",
              "transition": {
               "duration": 0,
               "easing": "linear"
              }
             }
            ],
            "label": "1/28/20 13:00",
            "method": "animate"
           },
           {
            "args": [
             [
              "1/28/20 18:00"
             ],
             {
              "frame": {
               "duration": 0,
               "redraw": true
              },
              "fromcurrent": true,
              "mode": "immediate",
              "transition": {
               "duration": 0,
               "easing": "linear"
              }
             }
            ],
            "label": "1/28/20 18:00",
            "method": "animate"
           },
           {
            "args": [
             [
              "1/28/20 23:00"
             ],
             {
              "frame": {
               "duration": 0,
               "redraw": true
              },
              "fromcurrent": true,
              "mode": "immediate",
              "transition": {
               "duration": 0,
               "easing": "linear"
              }
             }
            ],
            "label": "1/28/20 23:00",
            "method": "animate"
           },
           {
            "args": [
             [
              "1/29/20 13:30"
             ],
             {
              "frame": {
               "duration": 0,
               "redraw": true
              },
              "fromcurrent": true,
              "mode": "immediate",
              "transition": {
               "duration": 0,
               "easing": "linear"
              }
             }
            ],
            "label": "1/29/20 13:30",
            "method": "animate"
           },
           {
            "args": [
             [
              "1/29/20 14:30"
             ],
             {
              "frame": {
               "duration": 0,
               "redraw": true
              },
              "fromcurrent": true,
              "mode": "immediate",
              "transition": {
               "duration": 0,
               "easing": "linear"
              }
             }
            ],
            "label": "1/29/20 14:30",
            "method": "animate"
           },
           {
            "args": [
             [
              "1/29/20 21:00"
             ],
             {
              "frame": {
               "duration": 0,
               "redraw": true
              },
              "fromcurrent": true,
              "mode": "immediate",
              "transition": {
               "duration": 0,
               "easing": "linear"
              }
             }
            ],
            "label": "1/29/20 21:00",
            "method": "animate"
           },
           {
            "args": [
             [
              "1/30/20 11:00"
             ],
             {
              "frame": {
               "duration": 0,
               "redraw": true
              },
              "fromcurrent": true,
              "mode": "immediate",
              "transition": {
               "duration": 0,
               "easing": "linear"
              }
             }
            ],
            "label": "1/30/20 11:00",
            "method": "animate"
           },
           {
            "args": [
             [
              "1/31/20 14:00"
             ],
             {
              "frame": {
               "duration": 0,
               "redraw": true
              },
              "fromcurrent": true,
              "mode": "immediate",
              "transition": {
               "duration": 0,
               "easing": "linear"
              }
             }
            ],
            "label": "1/31/20 14:00",
            "method": "animate"
           },
           {
            "args": [
             [
              "02/01/20 10:00"
             ],
             {
              "frame": {
               "duration": 0,
               "redraw": true
              },
              "fromcurrent": true,
              "mode": "immediate",
              "transition": {
               "duration": 0,
               "easing": "linear"
              }
             }
            ],
            "label": "02/01/20 10:00",
            "method": "animate"
           },
           {
            "args": [
             [
              "02/02/20 21:00"
             ],
             {
              "frame": {
               "duration": 0,
               "redraw": true
              },
              "fromcurrent": true,
              "mode": "immediate",
              "transition": {
               "duration": 0,
               "easing": "linear"
              }
             }
            ],
            "label": "02/02/20 21:00",
            "method": "animate"
           },
           {
            "args": [
             [
              "02/03/20 21:00"
             ],
             {
              "frame": {
               "duration": 0,
               "redraw": true
              },
              "fromcurrent": true,
              "mode": "immediate",
              "transition": {
               "duration": 0,
               "easing": "linear"
              }
             }
            ],
            "label": "02/03/20 21:00",
            "method": "animate"
           },
           {
            "args": [
             [
              "02/04/20 9:40"
             ],
             {
              "frame": {
               "duration": 0,
               "redraw": true
              },
              "fromcurrent": true,
              "mode": "immediate",
              "transition": {
               "duration": 0,
               "easing": "linear"
              }
             }
            ],
            "label": "02/04/20 9:40",
            "method": "animate"
           },
           {
            "args": [
             [
              "02/04/20 22:00"
             ],
             {
              "frame": {
               "duration": 0,
               "redraw": true
              },
              "fromcurrent": true,
              "mode": "immediate",
              "transition": {
               "duration": 0,
               "easing": "linear"
              }
             }
            ],
            "label": "02/04/20 22:00",
            "method": "animate"
           },
           {
            "args": [
             [
              "02/05/20 9:00"
             ],
             {
              "frame": {
               "duration": 0,
               "redraw": true
              },
              "fromcurrent": true,
              "mode": "immediate",
              "transition": {
               "duration": 0,
               "easing": "linear"
              }
             }
            ],
            "label": "02/05/20 9:00",
            "method": "animate"
           },
           {
            "args": [
             [
              "02/05/20 23:00"
             ],
             {
              "frame": {
               "duration": 0,
               "redraw": true
              },
              "fromcurrent": true,
              "mode": "immediate",
              "transition": {
               "duration": 0,
               "easing": "linear"
              }
             }
            ],
            "label": "02/05/20 23:00",
            "method": "animate"
           },
           {
            "args": [
             [
              "02/06/20 9:00"
             ],
             {
              "frame": {
               "duration": 0,
               "redraw": true
              },
              "fromcurrent": true,
              "mode": "immediate",
              "transition": {
               "duration": 0,
               "easing": "linear"
              }
             }
            ],
            "label": "02/06/20 9:00",
            "method": "animate"
           },
           {
            "args": [
             [
              "02/06/20 14:20"
             ],
             {
              "frame": {
               "duration": 0,
               "redraw": true
              },
              "fromcurrent": true,
              "mode": "immediate",
              "transition": {
               "duration": 0,
               "easing": "linear"
              }
             }
            ],
            "label": "02/06/20 14:20",
            "method": "animate"
           },
           {
            "args": [
             [
              "02/07/20 20:13"
             ],
             {
              "frame": {
               "duration": 0,
               "redraw": true
              },
              "fromcurrent": true,
              "mode": "immediate",
              "transition": {
               "duration": 0,
               "easing": "linear"
              }
             }
            ],
            "label": "02/07/20 20:13",
            "method": "animate"
           },
           {
            "args": [
             [
              "02/07/20 22:50"
             ],
             {
              "frame": {
               "duration": 0,
               "redraw": true
              },
              "fromcurrent": true,
              "mode": "immediate",
              "transition": {
               "duration": 0,
               "easing": "linear"
              }
             }
            ],
            "label": "02/07/20 22:50",
            "method": "animate"
           },
           {
            "args": [
             [
              "02/08/20 22:04"
             ],
             {
              "frame": {
               "duration": 0,
               "redraw": true
              },
              "fromcurrent": true,
              "mode": "immediate",
              "transition": {
               "duration": 0,
               "easing": "linear"
              }
             }
            ],
            "label": "02/08/20 22:04",
            "method": "animate"
           },
           {
            "args": [
             [
              "02/08/20 23:04"
             ],
             {
              "frame": {
               "duration": 0,
               "redraw": true
              },
              "fromcurrent": true,
              "mode": "immediate",
              "transition": {
               "duration": 0,
               "easing": "linear"
              }
             }
            ],
            "label": "02/08/20 23:04",
            "method": "animate"
           },
           {
            "args": [
             [
              "02/09/20 10:30"
             ],
             {
              "frame": {
               "duration": 0,
               "redraw": true
              },
              "fromcurrent": true,
              "mode": "immediate",
              "transition": {
               "duration": 0,
               "easing": "linear"
              }
             }
            ],
            "label": "02/09/20 10:30",
            "method": "animate"
           },
           {
            "args": [
             [
              "02/09/20 23:20"
             ],
             {
              "frame": {
               "duration": 0,
               "redraw": true
              },
              "fromcurrent": true,
              "mode": "immediate",
              "transition": {
               "duration": 0,
               "easing": "linear"
              }
             }
            ],
            "label": "02/09/20 23:20",
            "method": "animate"
           }
          ],
          "x": 0.1,
          "xanchor": "left",
          "y": 0,
          "yanchor": "top"
         }
        ],
        "template": {
         "data": {
          "bar": [
           {
            "error_x": {
             "color": "#2a3f5f"
            },
            "error_y": {
             "color": "#2a3f5f"
            },
            "marker": {
             "line": {
              "color": "#E5ECF6",
              "width": 0.5
             }
            },
            "type": "bar"
           }
          ],
          "barpolar": [
           {
            "marker": {
             "line": {
              "color": "#E5ECF6",
              "width": 0.5
             }
            },
            "type": "barpolar"
           }
          ],
          "carpet": [
           {
            "aaxis": {
             "endlinecolor": "#2a3f5f",
             "gridcolor": "white",
             "linecolor": "white",
             "minorgridcolor": "white",
             "startlinecolor": "#2a3f5f"
            },
            "baxis": {
             "endlinecolor": "#2a3f5f",
             "gridcolor": "white",
             "linecolor": "white",
             "minorgridcolor": "white",
             "startlinecolor": "#2a3f5f"
            },
            "type": "carpet"
           }
          ],
          "choropleth": [
           {
            "colorbar": {
             "outlinewidth": 0,
             "ticks": ""
            },
            "type": "choropleth"
           }
          ],
          "contour": [
           {
            "colorbar": {
             "outlinewidth": 0,
             "ticks": ""
            },
            "colorscale": [
             [
              0,
              "#0d0887"
             ],
             [
              0.1111111111111111,
              "#46039f"
             ],
             [
              0.2222222222222222,
              "#7201a8"
             ],
             [
              0.3333333333333333,
              "#9c179e"
             ],
             [
              0.4444444444444444,
              "#bd3786"
             ],
             [
              0.5555555555555556,
              "#d8576b"
             ],
             [
              0.6666666666666666,
              "#ed7953"
             ],
             [
              0.7777777777777778,
              "#fb9f3a"
             ],
             [
              0.8888888888888888,
              "#fdca26"
             ],
             [
              1,
              "#f0f921"
             ]
            ],
            "type": "contour"
           }
          ],
          "contourcarpet": [
           {
            "colorbar": {
             "outlinewidth": 0,
             "ticks": ""
            },
            "type": "contourcarpet"
           }
          ],
          "heatmap": [
           {
            "colorbar": {
             "outlinewidth": 0,
             "ticks": ""
            },
            "colorscale": [
             [
              0,
              "#0d0887"
             ],
             [
              0.1111111111111111,
              "#46039f"
             ],
             [
              0.2222222222222222,
              "#7201a8"
             ],
             [
              0.3333333333333333,
              "#9c179e"
             ],
             [
              0.4444444444444444,
              "#bd3786"
             ],
             [
              0.5555555555555556,
              "#d8576b"
             ],
             [
              0.6666666666666666,
              "#ed7953"
             ],
             [
              0.7777777777777778,
              "#fb9f3a"
             ],
             [
              0.8888888888888888,
              "#fdca26"
             ],
             [
              1,
              "#f0f921"
             ]
            ],
            "type": "heatmap"
           }
          ],
          "heatmapgl": [
           {
            "colorbar": {
             "outlinewidth": 0,
             "ticks": ""
            },
            "colorscale": [
             [
              0,
              "#0d0887"
             ],
             [
              0.1111111111111111,
              "#46039f"
             ],
             [
              0.2222222222222222,
              "#7201a8"
             ],
             [
              0.3333333333333333,
              "#9c179e"
             ],
             [
              0.4444444444444444,
              "#bd3786"
             ],
             [
              0.5555555555555556,
              "#d8576b"
             ],
             [
              0.6666666666666666,
              "#ed7953"
             ],
             [
              0.7777777777777778,
              "#fb9f3a"
             ],
             [
              0.8888888888888888,
              "#fdca26"
             ],
             [
              1,
              "#f0f921"
             ]
            ],
            "type": "heatmapgl"
           }
          ],
          "histogram": [
           {
            "marker": {
             "colorbar": {
              "outlinewidth": 0,
              "ticks": ""
             }
            },
            "type": "histogram"
           }
          ],
          "histogram2d": [
           {
            "colorbar": {
             "outlinewidth": 0,
             "ticks": ""
            },
            "colorscale": [
             [
              0,
              "#0d0887"
             ],
             [
              0.1111111111111111,
              "#46039f"
             ],
             [
              0.2222222222222222,
              "#7201a8"
             ],
             [
              0.3333333333333333,
              "#9c179e"
             ],
             [
              0.4444444444444444,
              "#bd3786"
             ],
             [
              0.5555555555555556,
              "#d8576b"
             ],
             [
              0.6666666666666666,
              "#ed7953"
             ],
             [
              0.7777777777777778,
              "#fb9f3a"
             ],
             [
              0.8888888888888888,
              "#fdca26"
             ],
             [
              1,
              "#f0f921"
             ]
            ],
            "type": "histogram2d"
           }
          ],
          "histogram2dcontour": [
           {
            "colorbar": {
             "outlinewidth": 0,
             "ticks": ""
            },
            "colorscale": [
             [
              0,
              "#0d0887"
             ],
             [
              0.1111111111111111,
              "#46039f"
             ],
             [
              0.2222222222222222,
              "#7201a8"
             ],
             [
              0.3333333333333333,
              "#9c179e"
             ],
             [
              0.4444444444444444,
              "#bd3786"
             ],
             [
              0.5555555555555556,
              "#d8576b"
             ],
             [
              0.6666666666666666,
              "#ed7953"
             ],
             [
              0.7777777777777778,
              "#fb9f3a"
             ],
             [
              0.8888888888888888,
              "#fdca26"
             ],
             [
              1,
              "#f0f921"
             ]
            ],
            "type": "histogram2dcontour"
           }
          ],
          "mesh3d": [
           {
            "colorbar": {
             "outlinewidth": 0,
             "ticks": ""
            },
            "type": "mesh3d"
           }
          ],
          "parcoords": [
           {
            "line": {
             "colorbar": {
              "outlinewidth": 0,
              "ticks": ""
             }
            },
            "type": "parcoords"
           }
          ],
          "pie": [
           {
            "automargin": true,
            "type": "pie"
           }
          ],
          "scatter": [
           {
            "marker": {
             "colorbar": {
              "outlinewidth": 0,
              "ticks": ""
             }
            },
            "type": "scatter"
           }
          ],
          "scatter3d": [
           {
            "line": {
             "colorbar": {
              "outlinewidth": 0,
              "ticks": ""
             }
            },
            "marker": {
             "colorbar": {
              "outlinewidth": 0,
              "ticks": ""
             }
            },
            "type": "scatter3d"
           }
          ],
          "scattercarpet": [
           {
            "marker": {
             "colorbar": {
              "outlinewidth": 0,
              "ticks": ""
             }
            },
            "type": "scattercarpet"
           }
          ],
          "scattergeo": [
           {
            "marker": {
             "colorbar": {
              "outlinewidth": 0,
              "ticks": ""
             }
            },
            "type": "scattergeo"
           }
          ],
          "scattergl": [
           {
            "marker": {
             "colorbar": {
              "outlinewidth": 0,
              "ticks": ""
             }
            },
            "type": "scattergl"
           }
          ],
          "scattermapbox": [
           {
            "marker": {
             "colorbar": {
              "outlinewidth": 0,
              "ticks": ""
             }
            },
            "type": "scattermapbox"
           }
          ],
          "scatterpolar": [
           {
            "marker": {
             "colorbar": {
              "outlinewidth": 0,
              "ticks": ""
             }
            },
            "type": "scatterpolar"
           }
          ],
          "scatterpolargl": [
           {
            "marker": {
             "colorbar": {
              "outlinewidth": 0,
              "ticks": ""
             }
            },
            "type": "scatterpolargl"
           }
          ],
          "scatterternary": [
           {
            "marker": {
             "colorbar": {
              "outlinewidth": 0,
              "ticks": ""
             }
            },
            "type": "scatterternary"
           }
          ],
          "surface": [
           {
            "colorbar": {
             "outlinewidth": 0,
             "ticks": ""
            },
            "colorscale": [
             [
              0,
              "#0d0887"
             ],
             [
              0.1111111111111111,
              "#46039f"
             ],
             [
              0.2222222222222222,
              "#7201a8"
             ],
             [
              0.3333333333333333,
              "#9c179e"
             ],
             [
              0.4444444444444444,
              "#bd3786"
             ],
             [
              0.5555555555555556,
              "#d8576b"
             ],
             [
              0.6666666666666666,
              "#ed7953"
             ],
             [
              0.7777777777777778,
              "#fb9f3a"
             ],
             [
              0.8888888888888888,
              "#fdca26"
             ],
             [
              1,
              "#f0f921"
             ]
            ],
            "type": "surface"
           }
          ],
          "table": [
           {
            "cells": {
             "fill": {
              "color": "#EBF0F8"
             },
             "line": {
              "color": "white"
             }
            },
            "header": {
             "fill": {
              "color": "#C8D4E3"
             },
             "line": {
              "color": "white"
             }
            },
            "type": "table"
           }
          ]
         },
         "layout": {
          "annotationdefaults": {
           "arrowcolor": "#2a3f5f",
           "arrowhead": 0,
           "arrowwidth": 1
          },
          "coloraxis": {
           "colorbar": {
            "outlinewidth": 0,
            "ticks": ""
           }
          },
          "colorscale": {
           "diverging": [
            [
             0,
             "#8e0152"
            ],
            [
             0.1,
             "#c51b7d"
            ],
            [
             0.2,
             "#de77ae"
            ],
            [
             0.3,
             "#f1b6da"
            ],
            [
             0.4,
             "#fde0ef"
            ],
            [
             0.5,
             "#f7f7f7"
            ],
            [
             0.6,
             "#e6f5d0"
            ],
            [
             0.7,
             "#b8e186"
            ],
            [
             0.8,
             "#7fbc41"
            ],
            [
             0.9,
             "#4d9221"
            ],
            [
             1,
             "#276419"
            ]
           ],
           "sequential": [
            [
             0,
             "#0d0887"
            ],
            [
             0.1111111111111111,
             "#46039f"
            ],
            [
             0.2222222222222222,
             "#7201a8"
            ],
            [
             0.3333333333333333,
             "#9c179e"
            ],
            [
             0.4444444444444444,
             "#bd3786"
            ],
            [
             0.5555555555555556,
             "#d8576b"
            ],
            [
             0.6666666666666666,
             "#ed7953"
            ],
            [
             0.7777777777777778,
             "#fb9f3a"
            ],
            [
             0.8888888888888888,
             "#fdca26"
            ],
            [
             1,
             "#f0f921"
            ]
           ],
           "sequentialminus": [
            [
             0,
             "#0d0887"
            ],
            [
             0.1111111111111111,
             "#46039f"
            ],
            [
             0.2222222222222222,
             "#7201a8"
            ],
            [
             0.3333333333333333,
             "#9c179e"
            ],
            [
             0.4444444444444444,
             "#bd3786"
            ],
            [
             0.5555555555555556,
             "#d8576b"
            ],
            [
             0.6666666666666666,
             "#ed7953"
            ],
            [
             0.7777777777777778,
             "#fb9f3a"
            ],
            [
             0.8888888888888888,
             "#fdca26"
            ],
            [
             1,
             "#f0f921"
            ]
           ]
          },
          "colorway": [
           "#636efa",
           "#EF553B",
           "#00cc96",
           "#ab63fa",
           "#FFA15A",
           "#19d3f3",
           "#FF6692",
           "#B6E880",
           "#FF97FF",
           "#FECB52"
          ],
          "font": {
           "color": "#2a3f5f"
          },
          "geo": {
           "bgcolor": "white",
           "lakecolor": "white",
           "landcolor": "#E5ECF6",
           "showlakes": true,
           "showland": true,
           "subunitcolor": "white"
          },
          "hoverlabel": {
           "align": "left"
          },
          "hovermode": "closest",
          "mapbox": {
           "style": "light"
          },
          "paper_bgcolor": "white",
          "plot_bgcolor": "#E5ECF6",
          "polar": {
           "angularaxis": {
            "gridcolor": "white",
            "linecolor": "white",
            "ticks": ""
           },
           "bgcolor": "#E5ECF6",
           "radialaxis": {
            "gridcolor": "white",
            "linecolor": "white",
            "ticks": ""
           }
          },
          "scene": {
           "xaxis": {
            "backgroundcolor": "#E5ECF6",
            "gridcolor": "white",
            "gridwidth": 2,
            "linecolor": "white",
            "showbackground": true,
            "ticks": "",
            "zerolinecolor": "white"
           },
           "yaxis": {
            "backgroundcolor": "#E5ECF6",
            "gridcolor": "white",
            "gridwidth": 2,
            "linecolor": "white",
            "showbackground": true,
            "ticks": "",
            "zerolinecolor": "white"
           },
           "zaxis": {
            "backgroundcolor": "#E5ECF6",
            "gridcolor": "white",
            "gridwidth": 2,
            "linecolor": "white",
            "showbackground": true,
            "ticks": "",
            "zerolinecolor": "white"
           }
          },
          "shapedefaults": {
           "line": {
            "color": "#2a3f5f"
           }
          },
          "ternary": {
           "aaxis": {
            "gridcolor": "white",
            "linecolor": "white",
            "ticks": ""
           },
           "baxis": {
            "gridcolor": "white",
            "linecolor": "white",
            "ticks": ""
           },
           "bgcolor": "#E5ECF6",
           "caxis": {
            "gridcolor": "white",
            "linecolor": "white",
            "ticks": ""
           }
          },
          "title": {
           "x": 0.05
          },
          "xaxis": {
           "automargin": true,
           "gridcolor": "white",
           "linecolor": "white",
           "ticks": "",
           "title": {
            "standoff": 15
           },
           "zerolinecolor": "white",
           "zerolinewidth": 2
          },
          "yaxis": {
           "automargin": true,
           "gridcolor": "white",
           "linecolor": "white",
           "ticks": "",
           "title": {
            "standoff": 15
           },
           "zerolinecolor": "white",
           "zerolinewidth": 2
          }
         }
        },
        "title": {
         "text": "<b>2019-nCoV</b>: Coronavirus disease 2019-20<br>Study <i>Excludes</i> cases in China"
        },
        "updatemenus": [
         {
          "buttons": [
           {
            "args": [
             null,
             {
              "frame": {
               "duration": 500,
               "redraw": true
              },
              "fromcurrent": true,
              "mode": "immediate",
              "transition": {
               "duration": 500,
               "easing": "linear"
              }
             }
            ],
            "label": "&#9654;",
            "method": "animate"
           },
           {
            "args": [
             [
              null
             ],
             {
              "frame": {
               "duration": 0,
               "redraw": true
              },
              "fromcurrent": true,
              "mode": "immediate",
              "transition": {
               "duration": 0,
               "easing": "linear"
              }
             }
            ],
            "label": "&#9724;",
            "method": "animate"
           }
          ],
          "direction": "left",
          "pad": {
           "r": 10,
           "t": 70
          },
          "showactive": false,
          "type": "buttons",
          "x": 0.1,
          "xanchor": "right",
          "y": 0,
          "yanchor": "top"
         }
        ],
        "width": 1100
       }
      },
      "image/png": "[encoded data removed]",
      "text/html": [
       "<div>\n",
       "        \n",
       "        \n",
       "            <div id=\"ff928b4e-cdc6-4ab5-9d9c-a3083217943e\" class=\"plotly-graph-div\" style=\"height:700px; width:1100px;\"></div>\n",
       "            <script type=\"text/javascript\">\n",
       "                require([\"plotly\"], function(Plotly) {\n",
       "                    window.PLOTLYENV=window.PLOTLYENV || {};\n",
       "                    \n",
       "                if (document.getElementById(\"ff928b4e-cdc6-4ab5-9d9c-a3083217943e\")) {\n",
       "                    Plotly.newPlot(\n",
       "                        'ff928b4e-cdc6-4ab5-9d9c-a3083217943e',\n",
       "                        [{\"geo\": \"geo\", \"hoverlabel\": {\"namelength\": 0}, \"hovertemplate\": \"<b>%{hovertext}</b><br><br>Time_Stamp=1/21/20 22:00<br>Cases=%{marker.size}<br>Country_Code=%{location}\", \"hovertext\": [\"Australia\", \"Belgium\", \"Cambodia\", \"Canada\", \"Finland\", \"France\", \"Germany\", \"Hong Kong\", \"India\", \"Italy\", \"Japan\", \"Macao\", \"Malaysia\", \"Nepal\", \"Philippines\", \"Russian Federation\", \"Singapore\", \"Korea, Republic of\", \"Spain\", \"Sri Lanka\", \"Sweden\", \"Taiwan, Province of China\", \"Thailand\", \"United Kingdom\", \"United States\", \"United Arab Emirates\", \"Viet Nam\"], \"legendgroup\": \"\", \"locations\": [\"AUS\", \"BEL\", \"KHM\", \"CAN\", \"FIN\", \"FRA\", \"DEU\", \"HKG\", \"IND\", \"ITA\", \"JPN\", \"MAC\", \"MYS\", \"NPL\", \"PHL\", \"RUS\", \"SGP\", \"KOR\", \"ESP\", \"LKA\", \"SWE\", \"TWN\", \"THA\", \"GBR\", \"USA\", \"ARE\", \"VNM\"], \"marker\": {\"color\": \"#636efa\", \"size\": [0.0, 0.0, 0.0, 0.0, 0.0, 0.0, 0.0, 0.0, 0.0, 0.0, 1.0, 0.0, 0.0, 0.0, 0.0, 0.0, 0.0, 0.0, 0.0, 0.0, 0.0, 1.0, 2.0, 0.0, 1.0, 0.0, 0.0], \"sizemode\": \"area\", \"sizeref\": 0.1125}, \"name\": \"\", \"showlegend\": false, \"type\": \"scattergeo\"}],\n",
       "                        {\"geo\": {\"center\": {}, \"domain\": {\"x\": [0.0, 1.0], \"y\": [0.0, 1.0]}, \"projection\": {\"type\": \"natural earth\"}}, \"height\": 700, \"legend\": {\"itemsizing\": \"constant\", \"tracegroupgap\": 0}, \"margin\": {\"t\": 60}, \"showlegend\": true, \"sliders\": [{\"active\": 0, \"currentvalue\": {\"prefix\": \"Time_Stamp=\"}, \"len\": 0.9, \"pad\": {\"b\": 10, \"t\": 60}, \"steps\": [{\"args\": [[\"1/21/20 22:00\"], {\"frame\": {\"duration\": 0, \"redraw\": true}, \"fromcurrent\": true, \"mode\": \"immediate\", \"transition\": {\"duration\": 0, \"easing\": \"linear\"}}], \"label\": \"1/21/20 22:00\", \"method\": \"animate\"}, {\"args\": [[\"1/22/20 12:00\"], {\"frame\": {\"duration\": 0, \"redraw\": true}, \"fromcurrent\": true, \"mode\": \"immediate\", \"transition\": {\"duration\": 0, \"easing\": \"linear\"}}], \"label\": \"1/22/20 12:00\", \"method\": \"animate\"}, {\"args\": [[\"1/23/20 12:00\"], {\"frame\": {\"duration\": 0, \"redraw\": true}, \"fromcurrent\": true, \"mode\": \"immediate\", \"transition\": {\"duration\": 0, \"easing\": \"linear\"}}], \"label\": \"1/23/20 12:00\", \"method\": \"animate\"}, {\"args\": [[\"1/24/20 0:00\"], {\"frame\": {\"duration\": 0, \"redraw\": true}, \"fromcurrent\": true, \"mode\": \"immediate\", \"transition\": {\"duration\": 0, \"easing\": \"linear\"}}], \"label\": \"1/24/20 0:00\", \"method\": \"animate\"}, {\"args\": [[\"1/24/20 12:00\"], {\"frame\": {\"duration\": 0, \"redraw\": true}, \"fromcurrent\": true, \"mode\": \"immediate\", \"transition\": {\"duration\": 0, \"easing\": \"linear\"}}], \"label\": \"1/24/20 12:00\", \"method\": \"animate\"}, {\"args\": [[\"1/25/20 0:00\"], {\"frame\": {\"duration\": 0, \"redraw\": true}, \"fromcurrent\": true, \"mode\": \"immediate\", \"transition\": {\"duration\": 0, \"easing\": \"linear\"}}], \"label\": \"1/25/20 0:00\", \"method\": \"animate\"}, {\"args\": [[\"1/25/20 12:00\"], {\"frame\": {\"duration\": 0, \"redraw\": true}, \"fromcurrent\": true, \"mode\": \"immediate\", \"transition\": {\"duration\": 0, \"easing\": \"linear\"}}], \"label\": \"1/25/20 12:00\", \"method\": \"animate\"}, {\"args\": [[\"1/25/20 22:00\"], {\"frame\": {\"duration\": 0, \"redraw\": true}, \"fromcurrent\": true, \"mode\": \"immediate\", \"transition\": {\"duration\": 0, \"easing\": \"linear\"}}], \"label\": \"1/25/20 22:00\", \"method\": \"animate\"}, {\"args\": [[\"1/26/20 11:00\"], {\"frame\": {\"duration\": 0, \"redraw\": true}, \"fromcurrent\": true, \"mode\": \"immediate\", \"transition\": {\"duration\": 0, \"easing\": \"linear\"}}], \"label\": \"1/26/20 11:00\", \"method\": \"animate\"}, {\"args\": [[\"1/26/20 23:00\"], {\"frame\": {\"duration\": 0, \"redraw\": true}, \"fromcurrent\": true, \"mode\": \"immediate\", \"transition\": {\"duration\": 0, \"easing\": \"linear\"}}], \"label\": \"1/26/20 23:00\", \"method\": \"animate\"}, {\"args\": [[\"1/27/20 9:00\"], {\"frame\": {\"duration\": 0, \"redraw\": true}, \"fromcurrent\": true, \"mode\": \"immediate\", \"transition\": {\"duration\": 0, \"easing\": \"linear\"}}], \"label\": \"1/27/20 9:00\", \"method\": \"animate\"}, {\"args\": [[\"1/27/20 19:00\"], {\"frame\": {\"duration\": 0, \"redraw\": true}, \"fromcurrent\": true, \"mode\": \"immediate\", \"transition\": {\"duration\": 0, \"easing\": \"linear\"}}], \"label\": \"1/27/20 19:00\", \"method\": \"animate\"}, {\"args\": [[\"1/27/20 20:30\"], {\"frame\": {\"duration\": 0, \"redraw\": true}, \"fromcurrent\": true, \"mode\": \"immediate\", \"transition\": {\"duration\": 0, \"easing\": \"linear\"}}], \"label\": \"1/27/20 20:30\", \"method\": \"animate\"}, {\"args\": [[\"1/28/20 13:00\"], {\"frame\": {\"duration\": 0, \"redraw\": true}, \"fromcurrent\": true, \"mode\": \"immediate\", \"transition\": {\"duration\": 0, \"easing\": \"linear\"}}], \"label\": \"1/28/20 13:00\", \"method\": \"animate\"}, {\"args\": [[\"1/28/20 18:00\"], {\"frame\": {\"duration\": 0, \"redraw\": true}, \"fromcurrent\": true, \"mode\": \"immediate\", \"transition\": {\"duration\": 0, \"easing\": \"linear\"}}], \"label\": \"1/28/20 18:00\", \"method\": \"animate\"}, {\"args\": [[\"1/28/20 23:00\"], {\"frame\": {\"duration\": 0, \"redraw\": true}, \"fromcurrent\": true, \"mode\": \"immediate\", \"transition\": {\"duration\": 0, \"easing\": \"linear\"}}], \"label\": \"1/28/20 23:00\", \"method\": \"animate\"}, {\"args\": [[\"1/29/20 13:30\"], {\"frame\": {\"duration\": 0, \"redraw\": true}, \"fromcurrent\": true, \"mode\": \"immediate\", \"transition\": {\"duration\": 0, \"easing\": \"linear\"}}], \"label\": \"1/29/20 13:30\", \"method\": \"animate\"}, {\"args\": [[\"1/29/20 14:30\"], {\"frame\": {\"duration\": 0, \"redraw\": true}, \"fromcurrent\": true, \"mode\": \"immediate\", \"transition\": {\"duration\": 0, \"easing\": \"linear\"}}], \"label\": \"1/29/20 14:30\", \"method\": \"animate\"}, {\"args\": [[\"1/29/20 21:00\"], {\"frame\": {\"duration\": 0, \"redraw\": true}, \"fromcurrent\": true, \"mode\": \"immediate\", \"transition\": {\"duration\": 0, \"easing\": \"linear\"}}], \"label\": \"1/29/20 21:00\", \"method\": \"animate\"}, {\"args\": [[\"1/30/20 11:00\"], {\"frame\": {\"duration\": 0, \"redraw\": true}, \"fromcurrent\": true, \"mode\": \"immediate\", \"transition\": {\"duration\": 0, \"easing\": \"linear\"}}], \"label\": \"1/30/20 11:00\", \"method\": \"animate\"}, {\"args\": [[\"1/31/20 14:00\"], {\"frame\": {\"duration\": 0, \"redraw\": true}, \"fromcurrent\": true, \"mode\": \"immediate\", \"transition\": {\"duration\": 0, \"easing\": \"linear\"}}], \"label\": \"1/31/20 14:00\", \"method\": \"animate\"}, {\"args\": [[\"02/01/20 10:00\"], {\"frame\": {\"duration\": 0, \"redraw\": true}, \"fromcurrent\": true, \"mode\": \"immediate\", \"transition\": {\"duration\": 0, \"easing\": \"linear\"}}], \"label\": \"02/01/20 10:00\", \"method\": \"animate\"}, {\"args\": [[\"02/02/20 21:00\"], {\"frame\": {\"duration\": 0, \"redraw\": true}, \"fromcurrent\": true, \"mode\": \"immediate\", \"transition\": {\"duration\": 0, \"easing\": \"linear\"}}], \"label\": \"02/02/20 21:00\", \"method\": \"animate\"}, {\"args\": [[\"02/03/20 21:00\"], {\"frame\": {\"duration\": 0, \"redraw\": true}, \"fromcurrent\": true, \"mode\": \"immediate\", \"transition\": {\"duration\": 0, \"easing\": \"linear\"}}], \"label\": \"02/03/20 21:00\", \"method\": \"animate\"}, {\"args\": [[\"02/04/20 9:40\"], {\"frame\": {\"duration\": 0, \"redraw\": true}, \"fromcurrent\": true, \"mode\": \"immediate\", \"transition\": {\"duration\": 0, \"easing\": \"linear\"}}], \"label\": \"02/04/20 9:40\", \"method\": \"animate\"}, {\"args\": [[\"02/04/20 22:00\"], {\"frame\": {\"duration\": 0, \"redraw\": true}, \"fromcurrent\": true, \"mode\": \"immediate\", \"transition\": {\"duration\": 0, \"easing\": \"linear\"}}], \"label\": \"02/04/20 22:00\", \"method\": \"animate\"}, {\"args\": [[\"02/05/20 9:00\"], {\"frame\": {\"duration\": 0, \"redraw\": true}, \"fromcurrent\": true, \"mode\": \"immediate\", \"transition\": {\"duration\": 0, \"easing\": \"linear\"}}], \"label\": \"02/05/20 9:00\", \"method\": \"animate\"}, {\"args\": [[\"02/05/20 23:00\"], {\"frame\": {\"duration\": 0, \"redraw\": true}, \"fromcurrent\": true, \"mode\": \"immediate\", \"transition\": {\"duration\": 0, \"easing\": \"linear\"}}], \"label\": \"02/05/20 23:00\", \"method\": \"animate\"}, {\"args\": [[\"02/06/20 9:00\"], {\"frame\": {\"duration\": 0, \"redraw\": true}, \"fromcurrent\": true, \"mode\": \"immediate\", \"transition\": {\"duration\": 0, \"easing\": \"linear\"}}], \"label\": \"02/06/20 9:00\", \"method\": \"animate\"}, {\"args\": [[\"02/06/20 14:20\"], {\"frame\": {\"duration\": 0, \"redraw\": true}, \"fromcurrent\": true, \"mode\": \"immediate\", \"transition\": {\"duration\": 0, \"easing\": \"linear\"}}], \"label\": \"02/06/20 14:20\", \"method\": \"animate\"}, {\"args\": [[\"02/07/20 20:13\"], {\"frame\": {\"duration\": 0, \"redraw\": true}, \"fromcurrent\": true, \"mode\": \"immediate\", \"transition\": {\"duration\": 0, \"easing\": \"linear\"}}], \"label\": \"02/07/20 20:13\", \"method\": \"animate\"}, {\"args\": [[\"02/07/20 22:50\"], {\"frame\": {\"duration\": 0, \"redraw\": true}, \"fromcurrent\": true, \"mode\": \"immediate\", \"transition\": {\"duration\": 0, \"easing\": \"linear\"}}], \"label\": \"02/07/20 22:50\", \"method\": \"animate\"}, {\"args\": [[\"02/08/20 22:04\"], {\"frame\": {\"duration\": 0, \"redraw\": true}, \"fromcurrent\": true, \"mode\": \"immediate\", \"transition\": {\"duration\": 0, \"easing\": \"linear\"}}], \"label\": \"02/08/20 22:04\", \"method\": \"animate\"}, {\"args\": [[\"02/08/20 23:04\"], {\"frame\": {\"duration\": 0, \"redraw\": true}, \"fromcurrent\": true, \"mode\": \"immediate\", \"transition\": {\"duration\": 0, \"easing\": \"linear\"}}], \"label\": \"02/08/20 23:04\", \"method\": \"animate\"}, {\"args\": [[\"02/09/20 10:30\"], {\"frame\": {\"duration\": 0, \"redraw\": true}, \"fromcurrent\": true, \"mode\": \"immediate\", \"transition\": {\"duration\": 0, \"easing\": \"linear\"}}], \"label\": \"02/09/20 10:30\", \"method\": \"animate\"}, {\"args\": [[\"02/09/20 23:20\"], {\"frame\": {\"duration\": 0, \"redraw\": true}, \"fromcurrent\": true, \"mode\": \"immediate\", \"transition\": {\"duration\": 0, \"easing\": \"linear\"}}], \"label\": \"02/09/20 23:20\", \"method\": \"animate\"}], \"x\": 0.1, \"xanchor\": \"left\", \"y\": 0, \"yanchor\": \"top\"}], \"template\": {\"data\": {\"bar\": [{\"error_x\": {\"color\": \"#2a3f5f\"}, \"error_y\": {\"color\": \"#2a3f5f\"}, \"marker\": {\"line\": {\"color\": \"#E5ECF6\", \"width\": 0.5}}, \"type\": \"bar\"}], \"barpolar\": [{\"marker\": {\"line\": {\"color\": \"#E5ECF6\", \"width\": 0.5}}, \"type\": \"barpolar\"}], \"carpet\": [{\"aaxis\": {\"endlinecolor\": \"#2a3f5f\", \"gridcolor\": \"white\", \"linecolor\": \"white\", \"minorgridcolor\": \"white\", \"startlinecolor\": \"#2a3f5f\"}, \"baxis\": {\"endlinecolor\": \"#2a3f5f\", \"gridcolor\": \"white\", \"linecolor\": \"white\", \"minorgridcolor\": \"white\", \"startlinecolor\": \"#2a3f5f\"}, \"type\": \"carpet\"}], \"choropleth\": [{\"colorbar\": {\"outlinewidth\": 0, \"ticks\": \"\"}, \"type\": \"choropleth\"}], \"contour\": [{\"colorbar\": {\"outlinewidth\": 0, \"ticks\": \"\"}, \"colorscale\": [[0.0, \"#0d0887\"], [0.1111111111111111, \"#46039f\"], [0.2222222222222222, \"#7201a8\"], [0.3333333333333333, \"#9c179e\"], [0.4444444444444444, \"#bd3786\"], [0.5555555555555556, \"#d8576b\"], [0.6666666666666666, \"#ed7953\"], [0.7777777777777778, \"#fb9f3a\"], [0.8888888888888888, \"#fdca26\"], [1.0, \"#f0f921\"]], \"type\": \"contour\"}], \"contourcarpet\": [{\"colorbar\": {\"outlinewidth\": 0, \"ticks\": \"\"}, \"type\": \"contourcarpet\"}], \"heatmap\": [{\"colorbar\": {\"outlinewidth\": 0, \"ticks\": \"\"}, \"colorscale\": [[0.0, \"#0d0887\"], [0.1111111111111111, \"#46039f\"], [0.2222222222222222, \"#7201a8\"], [0.3333333333333333, \"#9c179e\"], [0.4444444444444444, \"#bd3786\"], [0.5555555555555556, \"#d8576b\"], [0.6666666666666666, \"#ed7953\"], [0.7777777777777778, \"#fb9f3a\"], [0.8888888888888888, \"#fdca26\"], [1.0, \"#f0f921\"]], \"type\": \"heatmap\"}], \"heatmapgl\": [{\"colorbar\": {\"outlinewidth\": 0, \"ticks\": \"\"}, \"colorscale\": [[0.0, \"#0d0887\"], [0.1111111111111111, \"#46039f\"], [0.2222222222222222, \"#7201a8\"], [0.3333333333333333, \"#9c179e\"], [0.4444444444444444, \"#bd3786\"], [0.5555555555555556, \"#d8576b\"], [0.6666666666666666, \"#ed7953\"], [0.7777777777777778, \"#fb9f3a\"], [0.8888888888888888, \"#fdca26\"], [1.0, \"#f0f921\"]], \"type\": \"heatmapgl\"}], \"histogram\": [{\"marker\": {\"colorbar\": {\"outlinewidth\": 0, \"ticks\": \"\"}}, \"type\": \"histogram\"}], \"histogram2d\": [{\"colorbar\": {\"outlinewidth\": 0, \"ticks\": \"\"}, \"colorscale\": [[0.0, \"#0d0887\"], [0.1111111111111111, \"#46039f\"], [0.2222222222222222, \"#7201a8\"], [0.3333333333333333, \"#9c179e\"], [0.4444444444444444, \"#bd3786\"], [0.5555555555555556, \"#d8576b\"], [0.6666666666666666, \"#ed7953\"], [0.7777777777777778, \"#fb9f3a\"], [0.8888888888888888, \"#fdca26\"], [1.0, \"#f0f921\"]], \"type\": \"histogram2d\"}], \"histogram2dcontour\": [{\"colorbar\": {\"outlinewidth\": 0, \"ticks\": \"\"}, \"colorscale\": [[0.0, \"#0d0887\"], [0.1111111111111111, \"#46039f\"], [0.2222222222222222, \"#7201a8\"], [0.3333333333333333, \"#9c179e\"], [0.4444444444444444, \"#bd3786\"], [0.5555555555555556, \"#d8576b\"], [0.6666666666666666, \"#ed7953\"], [0.7777777777777778, \"#fb9f3a\"], [0.8888888888888888, \"#fdca26\"], [1.0, \"#f0f921\"]], \"type\": \"histogram2dcontour\"}], \"mesh3d\": [{\"colorbar\": {\"outlinewidth\": 0, \"ticks\": \"\"}, \"type\": \"mesh3d\"}], \"parcoords\": [{\"line\": {\"colorbar\": {\"outlinewidth\": 0, \"ticks\": \"\"}}, \"type\": \"parcoords\"}], \"pie\": [{\"automargin\": true, \"type\": \"pie\"}], \"scatter\": [{\"marker\": {\"colorbar\": {\"outlinewidth\": 0, \"ticks\": \"\"}}, \"type\": \"scatter\"}], \"scatter3d\": [{\"line\": {\"colorbar\": {\"outlinewidth\": 0, \"ticks\": \"\"}}, \"marker\": {\"colorbar\": {\"outlinewidth\": 0, \"ticks\": \"\"}}, \"type\": \"scatter3d\"}], \"scattercarpet\": [{\"marker\": {\"colorbar\": {\"outlinewidth\": 0, \"ticks\": \"\"}}, \"type\": \"scattercarpet\"}], \"scattergeo\": [{\"marker\": {\"colorbar\": {\"outlinewidth\": 0, \"ticks\": \"\"}}, \"type\": \"scattergeo\"}], \"scattergl\": [{\"marker\": {\"colorbar\": {\"outlinewidth\": 0, \"ticks\": \"\"}}, \"type\": \"scattergl\"}], \"scattermapbox\": [{\"marker\": {\"colorbar\": {\"outlinewidth\": 0, \"ticks\": \"\"}}, \"type\": \"scattermapbox\"}], \"scatterpolar\": [{\"marker\": {\"colorbar\": {\"outlinewidth\": 0, \"ticks\": \"\"}}, \"type\": \"scatterpolar\"}], \"scatterpolargl\": [{\"marker\": {\"colorbar\": {\"outlinewidth\": 0, \"ticks\": \"\"}}, \"type\": \"scatterpolargl\"}], \"scatterternary\": [{\"marker\": {\"colorbar\": {\"outlinewidth\": 0, \"ticks\": \"\"}}, \"type\": \"scatterternary\"}], \"surface\": [{\"colorbar\": {\"outlinewidth\": 0, \"ticks\": \"\"}, \"colorscale\": [[0.0, \"#0d0887\"], [0.1111111111111111, \"#46039f\"], [0.2222222222222222, \"#7201a8\"], [0.3333333333333333, \"#9c179e\"], [0.4444444444444444, \"#bd3786\"], [0.5555555555555556, \"#d8576b\"], [0.6666666666666666, \"#ed7953\"], [0.7777777777777778, \"#fb9f3a\"], [0.8888888888888888, \"#fdca26\"], [1.0, \"#f0f921\"]], \"type\": \"surface\"}], \"table\": [{\"cells\": {\"fill\": {\"color\": \"#EBF0F8\"}, \"line\": {\"color\": \"white\"}}, \"header\": {\"fill\": {\"color\": \"#C8D4E3\"}, \"line\": {\"color\": \"white\"}}, \"type\": \"table\"}]}, \"layout\": {\"annotationdefaults\": {\"arrowcolor\": \"#2a3f5f\", \"arrowhead\": 0, \"arrowwidth\": 1}, \"coloraxis\": {\"colorbar\": {\"outlinewidth\": 0, \"ticks\": \"\"}}, \"colorscale\": {\"diverging\": [[0, \"#8e0152\"], [0.1, \"#c51b7d\"], [0.2, \"#de77ae\"], [0.3, \"#f1b6da\"], [0.4, \"#fde0ef\"], [0.5, \"#f7f7f7\"], [0.6, \"#e6f5d0\"], [0.7, \"#b8e186\"], [0.8, \"#7fbc41\"], [0.9, \"#4d9221\"], [1, \"#276419\"]], \"sequential\": [[0.0, \"#0d0887\"], [0.1111111111111111, \"#46039f\"], [0.2222222222222222, \"#7201a8\"], [0.3333333333333333, \"#9c179e\"], [0.4444444444444444, \"#bd3786\"], [0.5555555555555556, \"#d8576b\"], [0.6666666666666666, \"#ed7953\"], [0.7777777777777778, \"#fb9f3a\"], [0.8888888888888888, \"#fdca26\"], [1.0, \"#f0f921\"]], \"sequentialminus\": [[0.0, \"#0d0887\"], [0.1111111111111111, \"#46039f\"], [0.2222222222222222, \"#7201a8\"], [0.3333333333333333, \"#9c179e\"], [0.4444444444444444, \"#bd3786\"], [0.5555555555555556, \"#d8576b\"], [0.6666666666666666, \"#ed7953\"], [0.7777777777777778, \"#fb9f3a\"], [0.8888888888888888, \"#fdca26\"], [1.0, \"#f0f921\"]]}, \"colorway\": [\"#636efa\", \"#EF553B\", \"#00cc96\", \"#ab63fa\", \"#FFA15A\", \"#19d3f3\", \"#FF6692\", \"#B6E880\", \"#FF97FF\", \"#FECB52\"], \"font\": {\"color\": \"#2a3f5f\"}, \"geo\": {\"bgcolor\": \"white\", \"lakecolor\": \"white\", \"landcolor\": \"#E5ECF6\", \"showlakes\": true, \"showland\": true, \"subunitcolor\": \"white\"}, \"hoverlabel\": {\"align\": \"left\"}, \"hovermode\": \"closest\", \"mapbox\": {\"style\": \"light\"}, \"paper_bgcolor\": \"white\", \"plot_bgcolor\": \"#E5ECF6\", \"polar\": {\"angularaxis\": {\"gridcolor\": \"white\", \"linecolor\": \"white\", \"ticks\": \"\"}, \"bgcolor\": \"#E5ECF6\", \"radialaxis\": {\"gridcolor\": \"white\", \"linecolor\": \"white\", \"ticks\": \"\"}}, \"scene\": {\"xaxis\": {\"backgroundcolor\": \"#E5ECF6\", \"gridcolor\": \"white\", \"gridwidth\": 2, \"linecolor\": \"white\", \"showbackground\": true, \"ticks\": \"\", \"zerolinecolor\": \"white\"}, \"yaxis\": {\"backgroundcolor\": \"#E5ECF6\", \"gridcolor\": \"white\", \"gridwidth\": 2, \"linecolor\": \"white\", \"showbackground\": true, \"ticks\": \"\", \"zerolinecolor\": \"white\"}, \"zaxis\": {\"backgroundcolor\": \"#E5ECF6\", \"gridcolor\": \"white\", \"gridwidth\": 2, \"linecolor\": \"white\", \"showbackground\": true, \"ticks\": \"\", \"zerolinecolor\": \"white\"}}, \"shapedefaults\": {\"line\": {\"color\": \"#2a3f5f\"}}, \"ternary\": {\"aaxis\": {\"gridcolor\": \"white\", \"linecolor\": \"white\", \"ticks\": \"\"}, \"baxis\": {\"gridcolor\": \"white\", \"linecolor\": \"white\", \"ticks\": \"\"}, \"bgcolor\": \"#E5ECF6\", \"caxis\": {\"gridcolor\": \"white\", \"linecolor\": \"white\", \"ticks\": \"\"}}, \"title\": {\"x\": 0.05}, \"xaxis\": {\"automargin\": true, \"gridcolor\": \"white\", \"linecolor\": \"white\", \"ticks\": \"\", \"title\": {\"standoff\": 15}, \"zerolinecolor\": \"white\", \"zerolinewidth\": 2}, \"yaxis\": {\"automargin\": true, \"gridcolor\": \"white\", \"linecolor\": \"white\", \"ticks\": \"\", \"title\": {\"standoff\": 15}, \"zerolinecolor\": \"white\", \"zerolinewidth\": 2}}}, \"title\": {\"text\": \"<b>2019-nCoV</b>: Coronavirus disease 2019-20<br>Study <i>Excludes</i> cases in China\"}, \"updatemenus\": [{\"buttons\": [{\"args\": [null, {\"frame\": {\"duration\": 500, \"redraw\": true}, \"fromcurrent\": true, \"mode\": \"immediate\", \"transition\": {\"duration\": 500, \"easing\": \"linear\"}}], \"label\": \"&#9654;\", \"method\": \"animate\"}, {\"args\": [[null], {\"frame\": {\"duration\": 0, \"redraw\": true}, \"fromcurrent\": true, \"mode\": \"immediate\", \"transition\": {\"duration\": 0, \"easing\": \"linear\"}}], \"label\": \"&#9724;\", \"method\": \"animate\"}], \"direction\": \"left\", \"pad\": {\"r\": 10, \"t\": 70}, \"showactive\": false, \"type\": \"buttons\", \"x\": 0.1, \"xanchor\": \"right\", \"y\": 0, \"yanchor\": \"top\"}], \"width\": 1100},\n",
       "                        {\"responsive\": true}\n",
       "                    ).then(function(){\n",
       "                            Plotly.addFrames('ff928b4e-cdc6-4ab5-9d9c-a3083217943e', [{\"data\": [{\"geo\": \"geo\", \"hoverlabel\": {\"namelength\": 0}, \"hovertemplate\": \"<b>%{hovertext}</b><br><br>Time_Stamp=1/21/20 22:00<br>Cases=%{marker.size}<br>Country_Code=%{location}\", \"hovertext\": [\"Australia\", \"Belgium\", \"Cambodia\", \"Canada\", \"Finland\", \"France\", \"Germany\", \"Hong Kong\", \"India\", \"Italy\", \"Japan\", \"Macao\", \"Malaysia\", \"Nepal\", \"Philippines\", \"Russian Federation\", \"Singapore\", \"Korea, Republic of\", \"Spain\", \"Sri Lanka\", \"Sweden\", \"Taiwan, Province of China\", \"Thailand\", \"United Kingdom\", \"United States\", \"United Arab Emirates\", \"Viet Nam\"], \"legendgroup\": \"\", \"locations\": [\"AUS\", \"BEL\", \"KHM\", \"CAN\", \"FIN\", \"FRA\", \"DEU\", \"HKG\", \"IND\", \"ITA\", \"JPN\", \"MAC\", \"MYS\", \"NPL\", \"PHL\", \"RUS\", \"SGP\", \"KOR\", \"ESP\", \"LKA\", \"SWE\", \"TWN\", \"THA\", \"GBR\", \"USA\", \"ARE\", \"VNM\"], \"marker\": {\"color\": \"#636efa\", \"size\": [0.0, 0.0, 0.0, 0.0, 0.0, 0.0, 0.0, 0.0, 0.0, 0.0, 1.0, 0.0, 0.0, 0.0, 0.0, 0.0, 0.0, 0.0, 0.0, 0.0, 0.0, 1.0, 2.0, 0.0, 1.0, 0.0, 0.0], \"sizemode\": \"area\", \"sizeref\": 0.1125}, \"name\": \"\", \"showlegend\": false, \"type\": \"scattergeo\"}], \"name\": \"1/21/20 22:00\"}, {\"data\": [{\"geo\": \"geo\", \"hoverlabel\": {\"namelength\": 0}, \"hovertemplate\": \"<b>%{hovertext}</b><br><br>Time_Stamp=1/22/20 12:00<br>Cases=%{marker.size}<br>Country_Code=%{location}\", \"hovertext\": [\"Australia\", \"Belgium\", \"Cambodia\", \"Canada\", \"Finland\", \"France\", \"Germany\", \"Hong Kong\", \"India\", \"Italy\", \"Japan\", \"Macao\", \"Malaysia\", \"Nepal\", \"Philippines\", \"Russian Federation\", \"Singapore\", \"Korea, Republic of\", \"Spain\", \"Sri Lanka\", \"Sweden\", \"Taiwan, Province of China\", \"Thailand\", \"United Kingdom\", \"United States\", \"United Arab Emirates\", \"Viet Nam\"], \"legendgroup\": \"\", \"locations\": [\"AUS\", \"BEL\", \"KHM\", \"CAN\", \"FIN\", \"FRA\", \"DEU\", \"HKG\", \"IND\", \"ITA\", \"JPN\", \"MAC\", \"MYS\", \"NPL\", \"PHL\", \"RUS\", \"SGP\", \"KOR\", \"ESP\", \"LKA\", \"SWE\", \"TWN\", \"THA\", \"GBR\", \"USA\", \"ARE\", \"VNM\"], \"marker\": {\"color\": \"#636efa\", \"size\": [0.0, 0.0, 0.0, 0.0, 0.0, 0.0, 0.0, 0.0, 0.0, 0.0, 2.0, 1.0, 0.0, 0.0, 0.0, 0.0, 0.0, 1.0, 0.0, 0.0, 0.0, 1.0, 2.0, 0.0, 1.0, 0.0, 0.0], \"sizemode\": \"area\", \"sizeref\": 0.1125}, \"name\": \"\", \"showlegend\": false, \"type\": \"scattergeo\"}], \"name\": \"1/22/20 12:00\"}, {\"data\": [{\"geo\": \"geo\", \"hoverlabel\": {\"namelength\": 0}, \"hovertemplate\": \"<b>%{hovertext}</b><br><br>Time_Stamp=1/23/20 12:00<br>Cases=%{marker.size}<br>Country_Code=%{location}\", \"hovertext\": [\"Australia\", \"Belgium\", \"Cambodia\", \"Canada\", \"Finland\", \"France\", \"Germany\", \"Hong Kong\", \"India\", \"Italy\", \"Japan\", \"Macao\", \"Malaysia\", \"Nepal\", \"Philippines\", \"Russian Federation\", \"Singapore\", \"Korea, Republic of\", \"Spain\", \"Sri Lanka\", \"Sweden\", \"Taiwan, Province of China\", \"Thailand\", \"United Kingdom\", \"United States\", \"United Arab Emirates\", \"Viet Nam\"], \"legendgroup\": \"\", \"locations\": [\"AUS\", \"BEL\", \"KHM\", \"CAN\", \"FIN\", \"FRA\", \"DEU\", \"HKG\", \"IND\", \"ITA\", \"JPN\", \"MAC\", \"MYS\", \"NPL\", \"PHL\", \"RUS\", \"SGP\", \"KOR\", \"ESP\", \"LKA\", \"SWE\", \"TWN\", \"THA\", \"GBR\", \"USA\", \"ARE\", \"VNM\"], \"marker\": {\"color\": \"#636efa\", \"size\": [0.0, 0.0, 0.0, 0.0, 0.0, 0.0, 0.0, 2.0, 0.0, 0.0, 2.0, 2.0, 0.0, 0.0, 0.0, 0.0, 1.0, 1.0, 0.0, 0.0, 0.0, 1.0, 3.0, 0.0, 1.0, 0.0, 2.0], \"sizemode\": \"area\", \"sizeref\": 0.1125}, \"name\": \"\", \"showlegend\": false, \"type\": \"scattergeo\"}], \"name\": \"1/23/20 12:00\"}, {\"data\": [{\"geo\": \"geo\", \"hoverlabel\": {\"namelength\": 0}, \"hovertemplate\": \"<b>%{hovertext}</b><br><br>Time_Stamp=1/24/20 0:00<br>Cases=%{marker.size}<br>Country_Code=%{location}\", \"hovertext\": [\"Australia\", \"Belgium\", \"Cambodia\", \"Canada\", \"Finland\", \"France\", \"Germany\", \"Hong Kong\", \"India\", \"Italy\", \"Japan\", \"Macao\", \"Malaysia\", \"Nepal\", \"Philippines\", \"Russian Federation\", \"Singapore\", \"Korea, Republic of\", \"Spain\", \"Sri Lanka\", \"Sweden\", \"Taiwan, Province of China\", \"Thailand\", \"United Kingdom\", \"United States\", \"United Arab Emirates\", \"Viet Nam\"], \"legendgroup\": \"\", \"locations\": [\"AUS\", \"BEL\", \"KHM\", \"CAN\", \"FIN\", \"FRA\", \"DEU\", \"HKG\", \"IND\", \"ITA\", \"JPN\", \"MAC\", \"MYS\", \"NPL\", \"PHL\", \"RUS\", \"SGP\", \"KOR\", \"ESP\", \"LKA\", \"SWE\", \"TWN\", \"THA\", \"GBR\", \"USA\", \"ARE\", \"VNM\"], \"marker\": {\"color\": \"#636efa\", \"size\": [0.0, 0.0, 0.0, 0.0, 0.0, 0.0, 0.0, 2.0, 0.0, 0.0, 2.0, 2.0, 0.0, 0.0, 0.0, 0.0, 1.0, 1.0, 0.0, 0.0, 0.0, 1.0, 4.0, 0.0, 1.0, 0.0, 2.0], \"sizemode\": \"area\", \"sizeref\": 0.1125}, \"name\": \"\", \"showlegend\": false, \"type\": \"scattergeo\"}], \"name\": \"1/24/20 0:00\"}, {\"data\": [{\"geo\": \"geo\", \"hoverlabel\": {\"namelength\": 0}, \"hovertemplate\": \"<b>%{hovertext}</b><br><br>Time_Stamp=1/24/20 12:00<br>Cases=%{marker.size}<br>Country_Code=%{location}\", \"hovertext\": [\"Australia\", \"Belgium\", \"Cambodia\", \"Canada\", \"Finland\", \"France\", \"Germany\", \"Hong Kong\", \"India\", \"Italy\", \"Japan\", \"Macao\", \"Malaysia\", \"Nepal\", \"Philippines\", \"Russian Federation\", \"Singapore\", \"Korea, Republic of\", \"Spain\", \"Sri Lanka\", \"Sweden\", \"Taiwan, Province of China\", \"Thailand\", \"United Kingdom\", \"United States\", \"United Arab Emirates\", \"Viet Nam\"], \"legendgroup\": \"\", \"locations\": [\"AUS\", \"BEL\", \"KHM\", \"CAN\", \"FIN\", \"FRA\", \"DEU\", \"HKG\", \"IND\", \"ITA\", \"JPN\", \"MAC\", \"MYS\", \"NPL\", \"PHL\", \"RUS\", \"SGP\", \"KOR\", \"ESP\", \"LKA\", \"SWE\", \"TWN\", \"THA\", \"GBR\", \"USA\", \"ARE\", \"VNM\"], \"marker\": {\"color\": \"#636efa\", \"size\": [0.0, 0.0, 0.0, 0.0, 0.0, 2.0, 0.0, 2.0, 0.0, 0.0, 2.0, 2.0, 0.0, 0.0, 0.0, 0.0, 3.0, 2.0, 0.0, 0.0, 0.0, 3.0, 5.0, 0.0, 2.0, 0.0, 2.0], \"sizemode\": \"area\", \"sizeref\": 0.1125}, \"name\": \"\", \"showlegend\": false, \"type\": \"scattergeo\"}], \"name\": \"1/24/20 12:00\"}, {\"data\": [{\"geo\": \"geo\", \"hoverlabel\": {\"namelength\": 0}, \"hovertemplate\": \"<b>%{hovertext}</b><br><br>Time_Stamp=1/25/20 0:00<br>Cases=%{marker.size}<br>Country_Code=%{location}\", \"hovertext\": [\"Australia\", \"Belgium\", \"Cambodia\", \"Canada\", \"Finland\", \"France\", \"Germany\", \"Hong Kong\", \"India\", \"Italy\", \"Japan\", \"Macao\", \"Malaysia\", \"Nepal\", \"Philippines\", \"Russian Federation\", \"Singapore\", \"Korea, Republic of\", \"Spain\", \"Sri Lanka\", \"Sweden\", \"Taiwan, Province of China\", \"Thailand\", \"United Kingdom\", \"United States\", \"United Arab Emirates\", \"Viet Nam\"], \"legendgroup\": \"\", \"locations\": [\"AUS\", \"BEL\", \"KHM\", \"CAN\", \"FIN\", \"FRA\", \"DEU\", \"HKG\", \"IND\", \"ITA\", \"JPN\", \"MAC\", \"MYS\", \"NPL\", \"PHL\", \"RUS\", \"SGP\", \"KOR\", \"ESP\", \"LKA\", \"SWE\", \"TWN\", \"THA\", \"GBR\", \"USA\", \"ARE\", \"VNM\"], \"marker\": {\"color\": \"#636efa\", \"size\": [0.0, 0.0, 0.0, 0.0, 0.0, 3.0, 0.0, 5.0, 0.0, 0.0, 2.0, 2.0, 3.0, 1.0, 0.0, 0.0, 3.0, 2.0, 0.0, 0.0, 0.0, 3.0, 5.0, 0.0, 2.0, 0.0, 2.0], \"sizemode\": \"area\", \"sizeref\": 0.1125}, \"name\": \"\", \"showlegend\": false, \"type\": \"scattergeo\"}], \"name\": \"1/25/20 0:00\"}, {\"data\": [{\"geo\": \"geo\", \"hoverlabel\": {\"namelength\": 0}, \"hovertemplate\": \"<b>%{hovertext}</b><br><br>Time_Stamp=1/25/20 12:00<br>Cases=%{marker.size}<br>Country_Code=%{location}\", \"hovertext\": [\"Australia\", \"Belgium\", \"Cambodia\", \"Canada\", \"Finland\", \"France\", \"Germany\", \"Hong Kong\", \"India\", \"Italy\", \"Japan\", \"Macao\", \"Malaysia\", \"Nepal\", \"Philippines\", \"Russian Federation\", \"Singapore\", \"Korea, Republic of\", \"Spain\", \"Sri Lanka\", \"Sweden\", \"Taiwan, Province of China\", \"Thailand\", \"United Kingdom\", \"United States\", \"United Arab Emirates\", \"Viet Nam\"], \"legendgroup\": \"\", \"locations\": [\"AUS\", \"BEL\", \"KHM\", \"CAN\", \"FIN\", \"FRA\", \"DEU\", \"HKG\", \"IND\", \"ITA\", \"JPN\", \"MAC\", \"MYS\", \"NPL\", \"PHL\", \"RUS\", \"SGP\", \"KOR\", \"ESP\", \"LKA\", \"SWE\", \"TWN\", \"THA\", \"GBR\", \"USA\", \"ARE\", \"VNM\"], \"marker\": {\"color\": \"#636efa\", \"size\": [0.0, 0.0, 0.0, 0.0, 0.0, 3.0, 0.0, 5.0, 0.0, 0.0, 2.0, 2.0, 3.0, 1.0, 0.0, 0.0, 3.0, 2.0, 0.0, 0.0, 0.0, 3.0, 7.0, 0.0, 2.0, 0.0, 2.0], \"sizemode\": \"area\", \"sizeref\": 0.1125}, \"name\": \"\", \"showlegend\": false, \"type\": \"scattergeo\"}], \"name\": \"1/25/20 12:00\"}, {\"data\": [{\"geo\": \"geo\", \"hoverlabel\": {\"namelength\": 0}, \"hovertemplate\": \"<b>%{hovertext}</b><br><br>Time_Stamp=1/25/20 22:00<br>Cases=%{marker.size}<br>Country_Code=%{location}\", \"hovertext\": [\"Australia\", \"Belgium\", \"Cambodia\", \"Canada\", \"Finland\", \"France\", \"Germany\", \"Hong Kong\", \"India\", \"Italy\", \"Japan\", \"Macao\", \"Malaysia\", \"Nepal\", \"Philippines\", \"Russian Federation\", \"Singapore\", \"Korea, Republic of\", \"Spain\", \"Sri Lanka\", \"Sweden\", \"Taiwan, Province of China\", \"Thailand\", \"United Kingdom\", \"United States\", \"United Arab Emirates\", \"Viet Nam\"], \"legendgroup\": \"\", \"locations\": [\"AUS\", \"BEL\", \"KHM\", \"CAN\", \"FIN\", \"FRA\", \"DEU\", \"HKG\", \"IND\", \"ITA\", \"JPN\", \"MAC\", \"MYS\", \"NPL\", \"PHL\", \"RUS\", \"SGP\", \"KOR\", \"ESP\", \"LKA\", \"SWE\", \"TWN\", \"THA\", \"GBR\", \"USA\", \"ARE\", \"VNM\"], \"marker\": {\"color\": \"#636efa\", \"size\": [0.0, 0.0, 0.0, 0.0, 0.0, 3.0, 0.0, 5.0, 0.0, 0.0, 2.0, 2.0, 3.0, 1.0, 0.0, 0.0, 3.0, 2.0, 0.0, 0.0, 0.0, 3.0, 7.0, 0.0, 2.0, 0.0, 2.0], \"sizemode\": \"area\", \"sizeref\": 0.1125}, \"name\": \"\", \"showlegend\": false, \"type\": \"scattergeo\"}], \"name\": \"1/25/20 22:00\"}, {\"data\": [{\"geo\": \"geo\", \"hoverlabel\": {\"namelength\": 0}, \"hovertemplate\": \"<b>%{hovertext}</b><br><br>Time_Stamp=1/26/20 11:00<br>Cases=%{marker.size}<br>Country_Code=%{location}\", \"hovertext\": [\"Australia\", \"Belgium\", \"Cambodia\", \"Canada\", \"Finland\", \"France\", \"Germany\", \"Hong Kong\", \"India\", \"Italy\", \"Japan\", \"Macao\", \"Malaysia\", \"Nepal\", \"Philippines\", \"Russian Federation\", \"Singapore\", \"Korea, Republic of\", \"Spain\", \"Sri Lanka\", \"Sweden\", \"Taiwan, Province of China\", \"Thailand\", \"United Kingdom\", \"United States\", \"United Arab Emirates\", \"Viet Nam\"], \"legendgroup\": \"\", \"locations\": [\"AUS\", \"BEL\", \"KHM\", \"CAN\", \"FIN\", \"FRA\", \"DEU\", \"HKG\", \"IND\", \"ITA\", \"JPN\", \"MAC\", \"MYS\", \"NPL\", \"PHL\", \"RUS\", \"SGP\", \"KOR\", \"ESP\", \"LKA\", \"SWE\", \"TWN\", \"THA\", \"GBR\", \"USA\", \"ARE\", \"VNM\"], \"marker\": {\"color\": \"#636efa\", \"size\": [4.0, 0.0, 0.0, 1.0, 0.0, 3.0, 0.0, 8.0, 0.0, 0.0, 4.0, 5.0, 4.0, 1.0, 0.0, 0.0, 4.0, 3.0, 0.0, 0.0, 0.0, 4.0, 8.0, 0.0, 5.0, 0.0, 2.0], \"sizemode\": \"area\", \"sizeref\": 0.1125}, \"name\": \"\", \"showlegend\": false, \"type\": \"scattergeo\"}], \"name\": \"1/26/20 11:00\"}, {\"data\": [{\"geo\": \"geo\", \"hoverlabel\": {\"namelength\": 0}, \"hovertemplate\": \"<b>%{hovertext}</b><br><br>Time_Stamp=1/26/20 23:00<br>Cases=%{marker.size}<br>Country_Code=%{location}\", \"hovertext\": [\"Australia\", \"Belgium\", \"Cambodia\", \"Canada\", \"Finland\", \"France\", \"Germany\", \"Hong Kong\", \"India\", \"Italy\", \"Japan\", \"Macao\", \"Malaysia\", \"Nepal\", \"Philippines\", \"Russian Federation\", \"Singapore\", \"Korea, Republic of\", \"Spain\", \"Sri Lanka\", \"Sweden\", \"Taiwan, Province of China\", \"Thailand\", \"United Kingdom\", \"United States\", \"United Arab Emirates\", \"Viet Nam\"], \"legendgroup\": \"\", \"locations\": [\"AUS\", \"BEL\", \"KHM\", \"CAN\", \"FIN\", \"FRA\", \"DEU\", \"HKG\", \"IND\", \"ITA\", \"JPN\", \"MAC\", \"MYS\", \"NPL\", \"PHL\", \"RUS\", \"SGP\", \"KOR\", \"ESP\", \"LKA\", \"SWE\", \"TWN\", \"THA\", \"GBR\", \"USA\", \"ARE\", \"VNM\"], \"marker\": {\"color\": \"#636efa\", \"size\": [4.0, 0.0, 0.0, 1.0, 0.0, 3.0, 0.0, 8.0, 0.0, 0.0, 4.0, 6.0, 4.0, 1.0, 0.0, 0.0, 4.0, 3.0, 0.0, 0.0, 0.0, 4.0, 8.0, 0.0, 5.0, 0.0, 2.0], \"sizemode\": \"area\", \"sizeref\": 0.1125}, \"name\": \"\", \"showlegend\": false, \"type\": \"scattergeo\"}], \"name\": \"1/26/20 23:00\"}, {\"data\": [{\"geo\": \"geo\", \"hoverlabel\": {\"namelength\": 0}, \"hovertemplate\": \"<b>%{hovertext}</b><br><br>Time_Stamp=1/27/20 9:00<br>Cases=%{marker.size}<br>Country_Code=%{location}\", \"hovertext\": [\"Australia\", \"Belgium\", \"Cambodia\", \"Canada\", \"Finland\", \"France\", \"Germany\", \"Hong Kong\", \"India\", \"Italy\", \"Japan\", \"Macao\", \"Malaysia\", \"Nepal\", \"Philippines\", \"Russian Federation\", \"Singapore\", \"Korea, Republic of\", \"Spain\", \"Sri Lanka\", \"Sweden\", \"Taiwan, Province of China\", \"Thailand\", \"United Kingdom\", \"United States\", \"United Arab Emirates\", \"Viet Nam\"], \"legendgroup\": \"\", \"locations\": [\"AUS\", \"BEL\", \"KHM\", \"CAN\", \"FIN\", \"FRA\", \"DEU\", \"HKG\", \"IND\", \"ITA\", \"JPN\", \"MAC\", \"MYS\", \"NPL\", \"PHL\", \"RUS\", \"SGP\", \"KOR\", \"ESP\", \"LKA\", \"SWE\", \"TWN\", \"THA\", \"GBR\", \"USA\", \"ARE\", \"VNM\"], \"marker\": {\"color\": \"#636efa\", \"size\": [5.0, 0.0, 1.0, 1.0, 0.0, 3.0, 0.0, 8.0, 0.0, 0.0, 4.0, 6.0, 4.0, 1.0, 0.0, 0.0, 4.0, 4.0, 0.0, 0.0, 0.0, 5.0, 8.0, 0.0, 5.0, 0.0, 2.0], \"sizemode\": \"area\", \"sizeref\": 0.1125}, \"name\": \"\", \"showlegend\": false, \"type\": \"scattergeo\"}], \"name\": \"1/27/20 9:00\"}, {\"data\": [{\"geo\": \"geo\", \"hoverlabel\": {\"namelength\": 0}, \"hovertemplate\": \"<b>%{hovertext}</b><br><br>Time_Stamp=1/27/20 19:00<br>Cases=%{marker.size}<br>Country_Code=%{location}\", \"hovertext\": [\"Australia\", \"Belgium\", \"Cambodia\", \"Canada\", \"Finland\", \"France\", \"Germany\", \"Hong Kong\", \"India\", \"Italy\", \"Japan\", \"Macao\", \"Malaysia\", \"Nepal\", \"Philippines\", \"Russian Federation\", \"Singapore\", \"Korea, Republic of\", \"Spain\", \"Sri Lanka\", \"Sweden\", \"Taiwan, Province of China\", \"Thailand\", \"United Kingdom\", \"United States\", \"United Arab Emirates\", \"Viet Nam\"], \"legendgroup\": \"\", \"locations\": [\"AUS\", \"BEL\", \"KHM\", \"CAN\", \"FIN\", \"FRA\", \"DEU\", \"HKG\", \"IND\", \"ITA\", \"JPN\", \"MAC\", \"MYS\", \"NPL\", \"PHL\", \"RUS\", \"SGP\", \"KOR\", \"ESP\", \"LKA\", \"SWE\", \"TWN\", \"THA\", \"GBR\", \"USA\", \"ARE\", \"VNM\"], \"marker\": {\"color\": \"#636efa\", \"size\": [5.0, 0.0, 1.0, 1.0, 0.0, 3.0, 0.0, 8.0, 0.0, 0.0, 4.0, 6.0, 4.0, 1.0, 0.0, 0.0, 5.0, 4.0, 0.0, 1.0, 0.0, 5.0, 8.0, 0.0, 5.0, 0.0, 2.0], \"sizemode\": \"area\", \"sizeref\": 0.1125}, \"name\": \"\", \"showlegend\": false, \"type\": \"scattergeo\"}], \"name\": \"1/27/20 19:00\"}, {\"data\": [{\"geo\": \"geo\", \"hoverlabel\": {\"namelength\": 0}, \"hovertemplate\": \"<b>%{hovertext}</b><br><br>Time_Stamp=1/27/20 20:30<br>Cases=%{marker.size}<br>Country_Code=%{location}\", \"hovertext\": [\"Australia\", \"Belgium\", \"Cambodia\", \"Canada\", \"Finland\", \"France\", \"Germany\", \"Hong Kong\", \"India\", \"Italy\", \"Japan\", \"Macao\", \"Malaysia\", \"Nepal\", \"Philippines\", \"Russian Federation\", \"Singapore\", \"Korea, Republic of\", \"Spain\", \"Sri Lanka\", \"Sweden\", \"Taiwan, Province of China\", \"Thailand\", \"United Kingdom\", \"United States\", \"United Arab Emirates\", \"Viet Nam\"], \"legendgroup\": \"\", \"locations\": [\"AUS\", \"BEL\", \"KHM\", \"CAN\", \"FIN\", \"FRA\", \"DEU\", \"HKG\", \"IND\", \"ITA\", \"JPN\", \"MAC\", \"MYS\", \"NPL\", \"PHL\", \"RUS\", \"SGP\", \"KOR\", \"ESP\", \"LKA\", \"SWE\", \"TWN\", \"THA\", \"GBR\", \"USA\", \"ARE\", \"VNM\"], \"marker\": {\"color\": \"#636efa\", \"size\": [5.0, 0.0, 1.0, 1.0, 0.0, 3.0, 1.0, 8.0, 0.0, 0.0, 4.0, 6.0, 4.0, 1.0, 0.0, 0.0, 5.0, 4.0, 0.0, 1.0, 0.0, 5.0, 8.0, 0.0, 5.0, 0.0, 2.0], \"sizemode\": \"area\", \"sizeref\": 0.1125}, \"name\": \"\", \"showlegend\": false, \"type\": \"scattergeo\"}], \"name\": \"1/27/20 20:30\"}, {\"data\": [{\"geo\": \"geo\", \"hoverlabel\": {\"namelength\": 0}, \"hovertemplate\": \"<b>%{hovertext}</b><br><br>Time_Stamp=1/28/20 13:00<br>Cases=%{marker.size}<br>Country_Code=%{location}\", \"hovertext\": [\"Australia\", \"Belgium\", \"Cambodia\", \"Canada\", \"Finland\", \"France\", \"Germany\", \"Hong Kong\", \"India\", \"Italy\", \"Japan\", \"Macao\", \"Malaysia\", \"Nepal\", \"Philippines\", \"Russian Federation\", \"Singapore\", \"Korea, Republic of\", \"Spain\", \"Sri Lanka\", \"Sweden\", \"Taiwan, Province of China\", \"Thailand\", \"United Kingdom\", \"United States\", \"United Arab Emirates\", \"Viet Nam\"], \"legendgroup\": \"\", \"locations\": [\"AUS\", \"BEL\", \"KHM\", \"CAN\", \"FIN\", \"FRA\", \"DEU\", \"HKG\", \"IND\", \"ITA\", \"JPN\", \"MAC\", \"MYS\", \"NPL\", \"PHL\", \"RUS\", \"SGP\", \"KOR\", \"ESP\", \"LKA\", \"SWE\", \"TWN\", \"THA\", \"GBR\", \"USA\", \"ARE\", \"VNM\"], \"marker\": {\"color\": \"#636efa\", \"size\": [5.0, 0.0, 1.0, 2.0, 0.0, 3.0, 1.0, 8.0, 0.0, 0.0, 7.0, 7.0, 4.0, 1.0, 0.0, 0.0, 7.0, 4.0, 0.0, 1.0, 0.0, 8.0, 14.0, 0.0, 5.0, 0.0, 2.0], \"sizemode\": \"area\", \"sizeref\": 0.1125}, \"name\": \"\", \"showlegend\": false, \"type\": \"scattergeo\"}], \"name\": \"1/28/20 13:00\"}, {\"data\": [{\"geo\": \"geo\", \"hoverlabel\": {\"namelength\": 0}, \"hovertemplate\": \"<b>%{hovertext}</b><br><br>Time_Stamp=1/28/20 18:00<br>Cases=%{marker.size}<br>Country_Code=%{location}\", \"hovertext\": [\"Australia\", \"Belgium\", \"Cambodia\", \"Canada\", \"Finland\", \"France\", \"Germany\", \"Hong Kong\", \"India\", \"Italy\", \"Japan\", \"Macao\", \"Malaysia\", \"Nepal\", \"Philippines\", \"Russian Federation\", \"Singapore\", \"Korea, Republic of\", \"Spain\", \"Sri Lanka\", \"Sweden\", \"Taiwan, Province of China\", \"Thailand\", \"United Kingdom\", \"United States\", \"United Arab Emirates\", \"Viet Nam\"], \"legendgroup\": \"\", \"locations\": [\"AUS\", \"BEL\", \"KHM\", \"CAN\", \"FIN\", \"FRA\", \"DEU\", \"HKG\", \"IND\", \"ITA\", \"JPN\", \"MAC\", \"MYS\", \"NPL\", \"PHL\", \"RUS\", \"SGP\", \"KOR\", \"ESP\", \"LKA\", \"SWE\", \"TWN\", \"THA\", \"GBR\", \"USA\", \"ARE\", \"VNM\"], \"marker\": {\"color\": \"#636efa\", \"size\": [5.0, 0.0, 1.0, 2.0, 0.0, 4.0, 4.0, 8.0, 0.0, 0.0, 7.0, 7.0, 4.0, 1.0, 0.0, 0.0, 7.0, 4.0, 0.0, 1.0, 0.0, 8.0, 14.0, 0.0, 5.0, 0.0, 2.0], \"sizemode\": \"area\", \"sizeref\": 0.1125}, \"name\": \"\", \"showlegend\": false, \"type\": \"scattergeo\"}], \"name\": \"1/28/20 18:00\"}, {\"data\": [{\"geo\": \"geo\", \"hoverlabel\": {\"namelength\": 0}, \"hovertemplate\": \"<b>%{hovertext}</b><br><br>Time_Stamp=1/28/20 23:00<br>Cases=%{marker.size}<br>Country_Code=%{location}\", \"hovertext\": [\"Australia\", \"Belgium\", \"Cambodia\", \"Canada\", \"Finland\", \"France\", \"Germany\", \"Hong Kong\", \"India\", \"Italy\", \"Japan\", \"Macao\", \"Malaysia\", \"Nepal\", \"Philippines\", \"Russian Federation\", \"Singapore\", \"Korea, Republic of\", \"Spain\", \"Sri Lanka\", \"Sweden\", \"Taiwan, Province of China\", \"Thailand\", \"United Kingdom\", \"United States\", \"United Arab Emirates\", \"Viet Nam\"], \"legendgroup\": \"\", \"locations\": [\"AUS\", \"BEL\", \"KHM\", \"CAN\", \"FIN\", \"FRA\", \"DEU\", \"HKG\", \"IND\", \"ITA\", \"JPN\", \"MAC\", \"MYS\", \"NPL\", \"PHL\", \"RUS\", \"SGP\", \"KOR\", \"ESP\", \"LKA\", \"SWE\", \"TWN\", \"THA\", \"GBR\", \"USA\", \"ARE\", \"VNM\"], \"marker\": {\"color\": \"#636efa\", \"size\": [5.0, 0.0, 1.0, 2.0, 0.0, 4.0, 4.0, 8.0, 0.0, 0.0, 7.0, 7.0, 7.0, 1.0, 0.0, 0.0, 7.0, 4.0, 0.0, 1.0, 0.0, 8.0, 14.0, 0.0, 5.0, 0.0, 2.0], \"sizemode\": \"area\", \"sizeref\": 0.1125}, \"name\": \"\", \"showlegend\": false, \"type\": \"scattergeo\"}], \"name\": \"1/28/20 23:00\"}, {\"data\": [{\"geo\": \"geo\", \"hoverlabel\": {\"namelength\": 0}, \"hovertemplate\": \"<b>%{hovertext}</b><br><br>Time_Stamp=1/29/20 13:30<br>Cases=%{marker.size}<br>Country_Code=%{location}\", \"hovertext\": [\"Australia\", \"Belgium\", \"Cambodia\", \"Canada\", \"Finland\", \"France\", \"Germany\", \"Hong Kong\", \"India\", \"Italy\", \"Japan\", \"Macao\", \"Malaysia\", \"Nepal\", \"Philippines\", \"Russian Federation\", \"Singapore\", \"Korea, Republic of\", \"Spain\", \"Sri Lanka\", \"Sweden\", \"Taiwan, Province of China\", \"Thailand\", \"United Kingdom\", \"United States\", \"United Arab Emirates\", \"Viet Nam\"], \"legendgroup\": \"\", \"locations\": [\"AUS\", \"BEL\", \"KHM\", \"CAN\", \"FIN\", \"FRA\", \"DEU\", \"HKG\", \"IND\", \"ITA\", \"JPN\", \"MAC\", \"MYS\", \"NPL\", \"PHL\", \"RUS\", \"SGP\", \"KOR\", \"ESP\", \"LKA\", \"SWE\", \"TWN\", \"THA\", \"GBR\", \"USA\", \"ARE\", \"VNM\"], \"marker\": {\"color\": \"#636efa\", \"size\": [5.0, 0.0, 1.0, 2.0, 1.0, 4.0, 4.0, 10.0, 1.0, 0.0, 7.0, 7.0, 7.0, 1.0, 0.0, 0.0, 7.0, 4.0, 0.0, 1.0, 0.0, 8.0, 14.0, 0.0, 5.0, 4.0, 2.0], \"sizemode\": \"area\", \"sizeref\": 0.1125}, \"name\": \"\", \"showlegend\": false, \"type\": \"scattergeo\"}], \"name\": \"1/29/20 13:30\"}, {\"data\": [{\"geo\": \"geo\", \"hoverlabel\": {\"namelength\": 0}, \"hovertemplate\": \"<b>%{hovertext}</b><br><br>Time_Stamp=1/29/20 14:30<br>Cases=%{marker.size}<br>Country_Code=%{location}\", \"hovertext\": [\"Australia\", \"Belgium\", \"Cambodia\", \"Canada\", \"Finland\", \"France\", \"Germany\", \"Hong Kong\", \"India\", \"Italy\", \"Japan\", \"Macao\", \"Malaysia\", \"Nepal\", \"Philippines\", \"Russian Federation\", \"Singapore\", \"Korea, Republic of\", \"Spain\", \"Sri Lanka\", \"Sweden\", \"Taiwan, Province of China\", \"Thailand\", \"United Kingdom\", \"United States\", \"United Arab Emirates\", \"Viet Nam\"], \"legendgroup\": \"\", \"locations\": [\"AUS\", \"BEL\", \"KHM\", \"CAN\", \"FIN\", \"FRA\", \"DEU\", \"HKG\", \"IND\", \"ITA\", \"JPN\", \"MAC\", \"MYS\", \"NPL\", \"PHL\", \"RUS\", \"SGP\", \"KOR\", \"ESP\", \"LKA\", \"SWE\", \"TWN\", \"THA\", \"GBR\", \"USA\", \"ARE\", \"VNM\"], \"marker\": {\"color\": \"#636efa\", \"size\": [5.0, 0.0, 1.0, 2.0, 1.0, 5.0, 4.0, 10.0, 0.0, 0.0, 7.0, 7.0, 7.0, 1.0, 0.0, 0.0, 7.0, 4.0, 0.0, 1.0, 0.0, 8.0, 14.0, 0.0, 5.0, 4.0, 2.0], \"sizemode\": \"area\", \"sizeref\": 0.1125}, \"name\": \"\", \"showlegend\": false, \"type\": \"scattergeo\"}], \"name\": \"1/29/20 14:30\"}, {\"data\": [{\"geo\": \"geo\", \"hoverlabel\": {\"namelength\": 0}, \"hovertemplate\": \"<b>%{hovertext}</b><br><br>Time_Stamp=1/29/20 21:00<br>Cases=%{marker.size}<br>Country_Code=%{location}\", \"hovertext\": [\"Australia\", \"Belgium\", \"Cambodia\", \"Canada\", \"Finland\", \"France\", \"Germany\", \"Hong Kong\", \"India\", \"Italy\", \"Japan\", \"Macao\", \"Malaysia\", \"Nepal\", \"Philippines\", \"Russian Federation\", \"Singapore\", \"Korea, Republic of\", \"Spain\", \"Sri Lanka\", \"Sweden\", \"Taiwan, Province of China\", \"Thailand\", \"United Kingdom\", \"United States\", \"United Arab Emirates\", \"Viet Nam\"], \"legendgroup\": \"\", \"locations\": [\"AUS\", \"BEL\", \"KHM\", \"CAN\", \"FIN\", \"FRA\", \"DEU\", \"HKG\", \"IND\", \"ITA\", \"JPN\", \"MAC\", \"MYS\", \"NPL\", \"PHL\", \"RUS\", \"SGP\", \"KOR\", \"ESP\", \"LKA\", \"SWE\", \"TWN\", \"THA\", \"GBR\", \"USA\", \"ARE\", \"VNM\"], \"marker\": {\"color\": \"#636efa\", \"size\": [7.0, 0.0, 1.0, 2.0, 1.0, 5.0, 4.0, 10.0, 0.0, 0.0, 11.0, 7.0, 7.0, 1.0, 0.0, 0.0, 10.0, 4.0, 0.0, 1.0, 0.0, 8.0, 14.0, 0.0, 5.0, 4.0, 2.0], \"sizemode\": \"area\", \"sizeref\": 0.1125}, \"name\": \"\", \"showlegend\": false, \"type\": \"scattergeo\"}], \"name\": \"1/29/20 21:00\"}, {\"data\": [{\"geo\": \"geo\", \"hoverlabel\": {\"namelength\": 0}, \"hovertemplate\": \"<b>%{hovertext}</b><br><br>Time_Stamp=1/30/20 11:00<br>Cases=%{marker.size}<br>Country_Code=%{location}\", \"hovertext\": [\"Australia\", \"Belgium\", \"Cambodia\", \"Canada\", \"Finland\", \"France\", \"Germany\", \"Hong Kong\", \"India\", \"Italy\", \"Japan\", \"Macao\", \"Malaysia\", \"Nepal\", \"Philippines\", \"Russian Federation\", \"Singapore\", \"Korea, Republic of\", \"Spain\", \"Sri Lanka\", \"Sweden\", \"Taiwan, Province of China\", \"Thailand\", \"United Kingdom\", \"United States\", \"United Arab Emirates\", \"Viet Nam\"], \"legendgroup\": \"\", \"locations\": [\"AUS\", \"BEL\", \"KHM\", \"CAN\", \"FIN\", \"FRA\", \"DEU\", \"HKG\", \"IND\", \"ITA\", \"JPN\", \"MAC\", \"MYS\", \"NPL\", \"PHL\", \"RUS\", \"SGP\", \"KOR\", \"ESP\", \"LKA\", \"SWE\", \"TWN\", \"THA\", \"GBR\", \"USA\", \"ARE\", \"VNM\"], \"marker\": {\"color\": \"#636efa\", \"size\": [9.0, 0.0, 1.0, 2.0, 1.0, 5.0, 4.0, 10.0, 1.0, 0.0, 11.0, 7.0, 8.0, 1.0, 1.0, 0.0, 10.0, 4.0, 0.0, 1.0, 0.0, 9.0, 14.0, 0.0, 5.0, 4.0, 2.0], \"sizemode\": \"area\", \"sizeref\": 0.1125}, \"name\": \"\", \"showlegend\": false, \"type\": \"scattergeo\"}], \"name\": \"1/30/20 11:00\"}, {\"data\": [{\"geo\": \"geo\", \"hoverlabel\": {\"namelength\": 0}, \"hovertemplate\": \"<b>%{hovertext}</b><br><br>Time_Stamp=1/31/20 14:00<br>Cases=%{marker.size}<br>Country_Code=%{location}\", \"hovertext\": [\"Australia\", \"Belgium\", \"Cambodia\", \"Canada\", \"Finland\", \"France\", \"Germany\", \"Hong Kong\", \"India\", \"Italy\", \"Japan\", \"Macao\", \"Malaysia\", \"Nepal\", \"Philippines\", \"Russian Federation\", \"Singapore\", \"Korea, Republic of\", \"Spain\", \"Sri Lanka\", \"Sweden\", \"Taiwan, Province of China\", \"Thailand\", \"United Kingdom\", \"United States\", \"United Arab Emirates\", \"Viet Nam\"], \"legendgroup\": \"\", \"locations\": [\"AUS\", \"BEL\", \"KHM\", \"CAN\", \"FIN\", \"FRA\", \"DEU\", \"HKG\", \"IND\", \"ITA\", \"JPN\", \"MAC\", \"MYS\", \"NPL\", \"PHL\", \"RUS\", \"SGP\", \"KOR\", \"ESP\", \"LKA\", \"SWE\", \"TWN\", \"THA\", \"GBR\", \"USA\", \"ARE\", \"VNM\"], \"marker\": {\"color\": \"#636efa\", \"size\": [9.0, 0.0, 1.0, 4.0, 1.0, 5.0, 5.0, 12.0, 1.0, 2.0, 15.0, 7.0, 8.0, 1.0, 1.0, 2.0, 13.0, 11.0, 0.0, 1.0, 1.0, 10.0, 19.0, 2.0, 7.0, 4.0, 2.0], \"sizemode\": \"area\", \"sizeref\": 0.1125}, \"name\": \"\", \"showlegend\": false, \"type\": \"scattergeo\"}], \"name\": \"1/31/20 14:00\"}, {\"data\": [{\"geo\": \"geo\", \"hoverlabel\": {\"namelength\": 0}, \"hovertemplate\": \"<b>%{hovertext}</b><br><br>Time_Stamp=02/01/20 10:00<br>Cases=%{marker.size}<br>Country_Code=%{location}\", \"hovertext\": [\"Australia\", \"Belgium\", \"Cambodia\", \"Canada\", \"Finland\", \"France\", \"Germany\", \"Hong Kong\", \"India\", \"Italy\", \"Japan\", \"Macao\", \"Malaysia\", \"Nepal\", \"Philippines\", \"Russian Federation\", \"Singapore\", \"Korea, Republic of\", \"Spain\", \"Sri Lanka\", \"Sweden\", \"Taiwan, Province of China\", \"Thailand\", \"United Kingdom\", \"United States\", \"United Arab Emirates\", \"Viet Nam\"], \"legendgroup\": \"\", \"locations\": [\"AUS\", \"BEL\", \"KHM\", \"CAN\", \"FIN\", \"FRA\", \"DEU\", \"HKG\", \"IND\", \"ITA\", \"JPN\", \"MAC\", \"MYS\", \"NPL\", \"PHL\", \"RUS\", \"SGP\", \"KOR\", \"ESP\", \"LKA\", \"SWE\", \"TWN\", \"THA\", \"GBR\", \"USA\", \"ARE\", \"VNM\"], \"marker\": {\"color\": \"#636efa\", \"size\": [12.0, 0.0, 1.0, 4.0, 1.0, 6.0, 7.0, 13.0, 1.0, 2.0, 17.0, 7.0, 8.0, 1.0, 1.0, 2.0, 18.0, 12.0, 1.0, 1.0, 1.0, 10.0, 19.0, 2.0, 7.0, 4.0, 6.0], \"sizemode\": \"area\", \"sizeref\": 0.1125}, \"name\": \"\", \"showlegend\": false, \"type\": \"scattergeo\"}], \"name\": \"02/01/20 10:00\"}, {\"data\": [{\"geo\": \"geo\", \"hoverlabel\": {\"namelength\": 0}, \"hovertemplate\": \"<b>%{hovertext}</b><br><br>Time_Stamp=02/02/20 21:00<br>Cases=%{marker.size}<br>Country_Code=%{location}\", \"hovertext\": [\"Australia\", \"Belgium\", \"Cambodia\", \"Canada\", \"Finland\", \"France\", \"Germany\", \"Hong Kong\", \"India\", \"Italy\", \"Japan\", \"Macao\", \"Malaysia\", \"Nepal\", \"Philippines\", \"Russian Federation\", \"Singapore\", \"Korea, Republic of\", \"Spain\", \"Sri Lanka\", \"Sweden\", \"Taiwan, Province of China\", \"Thailand\", \"United Kingdom\", \"United States\", \"United Arab Emirates\", \"Viet Nam\"], \"legendgroup\": \"\", \"locations\": [\"AUS\", \"BEL\", \"KHM\", \"CAN\", \"FIN\", \"FRA\", \"DEU\", \"HKG\", \"IND\", \"ITA\", \"JPN\", \"MAC\", \"MYS\", \"NPL\", \"PHL\", \"RUS\", \"SGP\", \"KOR\", \"ESP\", \"LKA\", \"SWE\", \"TWN\", \"THA\", \"GBR\", \"USA\", \"ARE\", \"VNM\"], \"marker\": {\"color\": \"#636efa\", \"size\": [12.0, 0.0, 1.0, 4.0, 1.0, 6.0, 10.0, 15.0, 2.0, 2.0, 20.0, 8.0, 8.0, 1.0, 2.0, 2.0, 18.0, 15.0, 1.0, 1.0, 1.0, 10.0, 19.0, 2.0, 8.0, 5.0, 6.0], \"sizemode\": \"area\", \"sizeref\": 0.1125}, \"name\": \"\", \"showlegend\": false, \"type\": \"scattergeo\"}], \"name\": \"02/02/20 21:00\"}, {\"data\": [{\"geo\": \"geo\", \"hoverlabel\": {\"namelength\": 0}, \"hovertemplate\": \"<b>%{hovertext}</b><br><br>Time_Stamp=02/03/20 21:00<br>Cases=%{marker.size}<br>Country_Code=%{location}\", \"hovertext\": [\"Australia\", \"Belgium\", \"Cambodia\", \"Canada\", \"Finland\", \"France\", \"Germany\", \"Hong Kong\", \"India\", \"Italy\", \"Japan\", \"Macao\", \"Malaysia\", \"Nepal\", \"Philippines\", \"Russian Federation\", \"Singapore\", \"Korea, Republic of\", \"Spain\", \"Sri Lanka\", \"Sweden\", \"Taiwan, Province of China\", \"Thailand\", \"United Kingdom\", \"United States\", \"United Arab Emirates\", \"Viet Nam\"], \"legendgroup\": \"\", \"locations\": [\"AUS\", \"BEL\", \"KHM\", \"CAN\", \"FIN\", \"FRA\", \"DEU\", \"HKG\", \"IND\", \"ITA\", \"JPN\", \"MAC\", \"MYS\", \"NPL\", \"PHL\", \"RUS\", \"SGP\", \"KOR\", \"ESP\", \"LKA\", \"SWE\", \"TWN\", \"THA\", \"GBR\", \"USA\", \"ARE\", \"VNM\"], \"marker\": {\"color\": \"#636efa\", \"size\": [12.0, 0.0, 1.0, 4.0, 1.0, 6.0, 10.0, 15.0, 2.0, 2.0, 20.0, 8.0, 8.0, 1.0, 2.0, 2.0, 18.0, 15.0, 1.0, 1.0, 1.0, 10.0, 19.0, 2.0, 10.0, 5.0, 8.0], \"sizemode\": \"area\", \"sizeref\": 0.1125}, \"name\": \"\", \"showlegend\": false, \"type\": \"scattergeo\"}], \"name\": \"02/03/20 21:00\"}, {\"data\": [{\"geo\": \"geo\", \"hoverlabel\": {\"namelength\": 0}, \"hovertemplate\": \"<b>%{hovertext}</b><br><br>Time_Stamp=02/04/20 9:40<br>Cases=%{marker.size}<br>Country_Code=%{location}\", \"hovertext\": [\"Australia\", \"Belgium\", \"Cambodia\", \"Canada\", \"Finland\", \"France\", \"Germany\", \"Hong Kong\", \"India\", \"Italy\", \"Japan\", \"Macao\", \"Malaysia\", \"Nepal\", \"Philippines\", \"Russian Federation\", \"Singapore\", \"Korea, Republic of\", \"Spain\", \"Sri Lanka\", \"Sweden\", \"Taiwan, Province of China\", \"Thailand\", \"United Kingdom\", \"United States\", \"United Arab Emirates\", \"Viet Nam\"], \"legendgroup\": \"\", \"locations\": [\"AUS\", \"BEL\", \"KHM\", \"CAN\", \"FIN\", \"FRA\", \"DEU\", \"HKG\", \"IND\", \"ITA\", \"JPN\", \"MAC\", \"MYS\", \"NPL\", \"PHL\", \"RUS\", \"SGP\", \"KOR\", \"ESP\", \"LKA\", \"SWE\", \"TWN\", \"THA\", \"GBR\", \"USA\", \"ARE\", \"VNM\"], \"marker\": {\"color\": \"#636efa\", \"size\": [12.0, 1.0, 1.0, 4.0, 1.0, 6.0, 12.0, 15.0, 3.0, 2.0, 20.0, 8.0, 8.0, 1.0, 2.0, 2.0, 18.0, 15.0, 1.0, 1.0, 1.0, 10.0, 19.0, 2.0, 11.0, 5.0, 8.0], \"sizemode\": \"area\", \"sizeref\": 0.1125}, \"name\": \"\", \"showlegend\": false, \"type\": \"scattergeo\"}], \"name\": \"02/04/20 9:40\"}, {\"data\": [{\"geo\": \"geo\", \"hoverlabel\": {\"namelength\": 0}, \"hovertemplate\": \"<b>%{hovertext}</b><br><br>Time_Stamp=02/04/20 22:00<br>Cases=%{marker.size}<br>Country_Code=%{location}\", \"hovertext\": [\"Australia\", \"Belgium\", \"Cambodia\", \"Canada\", \"Finland\", \"France\", \"Germany\", \"Hong Kong\", \"India\", \"Italy\", \"Japan\", \"Macao\", \"Malaysia\", \"Nepal\", \"Philippines\", \"Russian Federation\", \"Singapore\", \"Korea, Republic of\", \"Spain\", \"Sri Lanka\", \"Sweden\", \"Taiwan, Province of China\", \"Thailand\", \"United Kingdom\", \"United States\", \"United Arab Emirates\", \"Viet Nam\"], \"legendgroup\": \"\", \"locations\": [\"AUS\", \"BEL\", \"KHM\", \"CAN\", \"FIN\", \"FRA\", \"DEU\", \"HKG\", \"IND\", \"ITA\", \"JPN\", \"MAC\", \"MYS\", \"NPL\", \"PHL\", \"RUS\", \"SGP\", \"KOR\", \"ESP\", \"LKA\", \"SWE\", \"TWN\", \"THA\", \"GBR\", \"USA\", \"ARE\", \"VNM\"], \"marker\": {\"color\": \"#636efa\", \"size\": [13.0, 1.0, 1.0, 4.0, 1.0, 6.0, 12.0, 18.0, 3.0, 2.0, 22.0, 10.0, 10.0, 1.0, 2.0, 2.0, 24.0, 16.0, 1.0, 1.0, 1.0, 11.0, 25.0, 2.0, 11.0, 5.0, 8.0], \"sizemode\": \"area\", \"sizeref\": 0.1125}, \"name\": \"\", \"showlegend\": false, \"type\": \"scattergeo\"}], \"name\": \"02/04/20 22:00\"}, {\"data\": [{\"geo\": \"geo\", \"hoverlabel\": {\"namelength\": 0}, \"hovertemplate\": \"<b>%{hovertext}</b><br><br>Time_Stamp=02/05/20 9:00<br>Cases=%{marker.size}<br>Country_Code=%{location}\", \"hovertext\": [\"Australia\", \"Belgium\", \"Cambodia\", \"Canada\", \"Finland\", \"France\", \"Germany\", \"Hong Kong\", \"India\", \"Italy\", \"Japan\", \"Macao\", \"Malaysia\", \"Nepal\", \"Philippines\", \"Russian Federation\", \"Singapore\", \"Korea, Republic of\", \"Spain\", \"Sri Lanka\", \"Sweden\", \"Taiwan, Province of China\", \"Thailand\", \"United Kingdom\", \"United States\", \"United Arab Emirates\", \"Viet Nam\"], \"legendgroup\": \"\", \"locations\": [\"AUS\", \"BEL\", \"KHM\", \"CAN\", \"FIN\", \"FRA\", \"DEU\", \"HKG\", \"IND\", \"ITA\", \"JPN\", \"MAC\", \"MYS\", \"NPL\", \"PHL\", \"RUS\", \"SGP\", \"KOR\", \"ESP\", \"LKA\", \"SWE\", \"TWN\", \"THA\", \"GBR\", \"USA\", \"ARE\", \"VNM\"], \"marker\": {\"color\": \"#636efa\", \"size\": [13.0, 1.0, 1.0, 4.0, 1.0, 6.0, 12.0, 21.0, 3.0, 2.0, 22.0, 10.0, 10.0, 1.0, 2.0, 2.0, 24.0, 16.0, 1.0, 1.0, 1.0, 11.0, 25.0, 2.0, 11.0, 5.0, 8.0], \"sizemode\": \"area\", \"sizeref\": 0.1125}, \"name\": \"\", \"showlegend\": false, \"type\": \"scattergeo\"}], \"name\": \"02/05/20 9:00\"}, {\"data\": [{\"geo\": \"geo\", \"hoverlabel\": {\"namelength\": 0}, \"hovertemplate\": \"<b>%{hovertext}</b><br><br>Time_Stamp=02/05/20 23:00<br>Cases=%{marker.size}<br>Country_Code=%{location}\", \"hovertext\": [\"Australia\", \"Belgium\", \"Cambodia\", \"Canada\", \"Finland\", \"France\", \"Germany\", \"Hong Kong\", \"India\", \"Italy\", \"Japan\", \"Macao\", \"Malaysia\", \"Nepal\", \"Philippines\", \"Russian Federation\", \"Singapore\", \"Korea, Republic of\", \"Spain\", \"Sri Lanka\", \"Sweden\", \"Taiwan, Province of China\", \"Thailand\", \"United Kingdom\", \"United States\", \"United Arab Emirates\", \"Viet Nam\"], \"legendgroup\": \"\", \"locations\": [\"AUS\", \"BEL\", \"KHM\", \"CAN\", \"FIN\", \"FRA\", \"DEU\", \"HKG\", \"IND\", \"ITA\", \"JPN\", \"MAC\", \"MYS\", \"NPL\", \"PHL\", \"RUS\", \"SGP\", \"KOR\", \"ESP\", \"LKA\", \"SWE\", \"TWN\", \"THA\", \"GBR\", \"USA\", \"ARE\", \"VNM\"], \"marker\": {\"color\": \"#636efa\", \"size\": [14.0, 1.0, 1.0, 5.0, 1.0, 6.0, 12.0, 21.0, 3.0, 2.0, 45.0, 10.0, 12.0, 1.0, 2.0, 2.0, 28.0, 23.0, 1.0, 1.0, 1.0, 11.0, 25.0, 2.0, 12.0, 5.0, 10.0], \"sizemode\": \"area\", \"sizeref\": 0.1125}, \"name\": \"\", \"showlegend\": false, \"type\": \"scattergeo\"}], \"name\": \"02/05/20 23:00\"}, {\"data\": [{\"geo\": \"geo\", \"hoverlabel\": {\"namelength\": 0}, \"hovertemplate\": \"<b>%{hovertext}</b><br><br>Time_Stamp=02/06/20 9:00<br>Cases=%{marker.size}<br>Country_Code=%{location}\", \"hovertext\": [\"Australia\", \"Belgium\", \"Cambodia\", \"Canada\", \"Finland\", \"France\", \"Germany\", \"Hong Kong\", \"India\", \"Italy\", \"Japan\", \"Macao\", \"Malaysia\", \"Nepal\", \"Philippines\", \"Russian Federation\", \"Singapore\", \"Korea, Republic of\", \"Spain\", \"Sri Lanka\", \"Sweden\", \"Taiwan, Province of China\", \"Thailand\", \"United Kingdom\", \"United States\", \"United Arab Emirates\", \"Viet Nam\"], \"legendgroup\": \"\", \"locations\": [\"AUS\", \"BEL\", \"KHM\", \"CAN\", \"FIN\", \"FRA\", \"DEU\", \"HKG\", \"IND\", \"ITA\", \"JPN\", \"MAC\", \"MYS\", \"NPL\", \"PHL\", \"RUS\", \"SGP\", \"KOR\", \"ESP\", \"LKA\", \"SWE\", \"TWN\", \"THA\", \"GBR\", \"USA\", \"ARE\", \"VNM\"], \"marker\": {\"color\": \"#636efa\", \"size\": [14.0, 1.0, 1.0, 5.0, 1.0, 6.0, 12.0, 21.0, 3.0, 2.0, 45.0, 10.0, 12.0, 1.0, 2.0, 2.0, 28.0, 23.0, 1.0, 1.0, 1.0, 13.0, 25.0, 2.0, 12.0, 5.0, 10.0], \"sizemode\": \"area\", \"sizeref\": 0.1125}, \"name\": \"\", \"showlegend\": false, \"type\": \"scattergeo\"}], \"name\": \"02/06/20 9:00\"}, {\"data\": [{\"geo\": \"geo\", \"hoverlabel\": {\"namelength\": 0}, \"hovertemplate\": \"<b>%{hovertext}</b><br><br>Time_Stamp=02/06/20 14:20<br>Cases=%{marker.size}<br>Country_Code=%{location}\", \"hovertext\": [\"Australia\", \"Belgium\", \"Cambodia\", \"Canada\", \"Finland\", \"France\", \"Germany\", \"Hong Kong\", \"India\", \"Italy\", \"Japan\", \"Macao\", \"Malaysia\", \"Nepal\", \"Philippines\", \"Russian Federation\", \"Singapore\", \"Korea, Republic of\", \"Spain\", \"Sri Lanka\", \"Sweden\", \"Taiwan, Province of China\", \"Thailand\", \"United Kingdom\", \"United States\", \"United Arab Emirates\", \"Viet Nam\"], \"legendgroup\": \"\", \"locations\": [\"AUS\", \"BEL\", \"KHM\", \"CAN\", \"FIN\", \"FRA\", \"DEU\", \"HKG\", \"IND\", \"ITA\", \"JPN\", \"MAC\", \"MYS\", \"NPL\", \"PHL\", \"RUS\", \"SGP\", \"KOR\", \"ESP\", \"LKA\", \"SWE\", \"TWN\", \"THA\", \"GBR\", \"USA\", \"ARE\", \"VNM\"], \"marker\": {\"color\": \"#636efa\", \"size\": [14.0, 1.0, 1.0, 5.0, 1.0, 6.0, 12.0, 24.0, 3.0, 2.0, 45.0, 10.0, 12.0, 1.0, 2.0, 2.0, 28.0, 23.0, 1.0, 1.0, 1.0, 16.0, 25.0, 2.0, 12.0, 5.0, 10.0], \"sizemode\": \"area\", \"sizeref\": 0.1125}, \"name\": \"\", \"showlegend\": false, \"type\": \"scattergeo\"}], \"name\": \"02/06/20 14:20\"}, {\"data\": [{\"geo\": \"geo\", \"hoverlabel\": {\"namelength\": 0}, \"hovertemplate\": \"<b>%{hovertext}</b><br><br>Time_Stamp=02/07/20 20:13<br>Cases=%{marker.size}<br>Country_Code=%{location}\", \"hovertext\": [\"Australia\", \"Belgium\", \"Cambodia\", \"Canada\", \"Finland\", \"France\", \"Germany\", \"Hong Kong\", \"India\", \"Italy\", \"Japan\", \"Macao\", \"Malaysia\", \"Nepal\", \"Philippines\", \"Russian Federation\", \"Singapore\", \"Korea, Republic of\", \"Spain\", \"Sri Lanka\", \"Sweden\", \"Taiwan, Province of China\", \"Thailand\", \"United Kingdom\", \"United States\", \"United Arab Emirates\", \"Viet Nam\"], \"legendgroup\": \"\", \"locations\": [\"AUS\", \"BEL\", \"KHM\", \"CAN\", \"FIN\", \"FRA\", \"DEU\", \"HKG\", \"IND\", \"ITA\", \"JPN\", \"MAC\", \"MYS\", \"NPL\", \"PHL\", \"RUS\", \"SGP\", \"KOR\", \"ESP\", \"LKA\", \"SWE\", \"TWN\", \"THA\", \"GBR\", \"USA\", \"ARE\", \"VNM\"], \"marker\": {\"color\": \"#636efa\", \"size\": [15.0, 1.0, 1.0, 7.0, 1.0, 6.0, 13.0, 25.0, 3.0, 3.0, 25.0, 10.0, 12.0, 1.0, 3.0, 2.0, 30.0, 24.0, 1.0, 1.0, 1.0, 16.0, 25.0, 3.0, 12.0, 5.0, 10.0], \"sizemode\": \"area\", \"sizeref\": 0.1125}, \"name\": \"\", \"showlegend\": false, \"type\": \"scattergeo\"}], \"name\": \"02/07/20 20:13\"}, {\"data\": [{\"geo\": \"geo\", \"hoverlabel\": {\"namelength\": 0}, \"hovertemplate\": \"<b>%{hovertext}</b><br><br>Time_Stamp=02/07/20 22:50<br>Cases=%{marker.size}<br>Country_Code=%{location}\", \"hovertext\": [\"Australia\", \"Belgium\", \"Cambodia\", \"Canada\", \"Finland\", \"France\", \"Germany\", \"Hong Kong\", \"India\", \"Italy\", \"Japan\", \"Macao\", \"Malaysia\", \"Nepal\", \"Philippines\", \"Russian Federation\", \"Singapore\", \"Korea, Republic of\", \"Spain\", \"Sri Lanka\", \"Sweden\", \"Taiwan, Province of China\", \"Thailand\", \"United Kingdom\", \"United States\", \"United Arab Emirates\", \"Viet Nam\"], \"legendgroup\": \"\", \"locations\": [\"AUS\", \"BEL\", \"KHM\", \"CAN\", \"FIN\", \"FRA\", \"DEU\", \"HKG\", \"IND\", \"ITA\", \"JPN\", \"MAC\", \"MYS\", \"NPL\", \"PHL\", \"RUS\", \"SGP\", \"KOR\", \"ESP\", \"LKA\", \"SWE\", \"TWN\", \"THA\", \"GBR\", \"USA\", \"ARE\", \"VNM\"], \"marker\": {\"color\": \"#636efa\", \"size\": [15.0, 1.0, 1.0, 7.0, 1.0, 6.0, 13.0, 26.0, 3.0, 3.0, 25.0, 10.0, 12.0, 1.0, 3.0, 2.0, 30.0, 36.0, 1.0, 1.0, 1.0, 16.0, 25.0, 3.0, 12.0, 5.0, 10.0], \"sizemode\": \"area\", \"sizeref\": 0.1125}, \"name\": \"\", \"showlegend\": false, \"type\": \"scattergeo\"}], \"name\": \"02/07/20 22:50\"}, {\"data\": [{\"geo\": \"geo\", \"hoverlabel\": {\"namelength\": 0}, \"hovertemplate\": \"<b>%{hovertext}</b><br><br>Time_Stamp=02/08/20 22:04<br>Cases=%{marker.size}<br>Country_Code=%{location}\", \"hovertext\": [\"Australia\", \"Belgium\", \"Cambodia\", \"Canada\", \"Finland\", \"France\", \"Germany\", \"Hong Kong\", \"India\", \"Italy\", \"Japan\", \"Macao\", \"Malaysia\", \"Nepal\", \"Philippines\", \"Russian Federation\", \"Singapore\", \"Korea, Republic of\", \"Spain\", \"Sri Lanka\", \"Sweden\", \"Taiwan, Province of China\", \"Thailand\", \"United Kingdom\", \"United States\", \"United Arab Emirates\", \"Viet Nam\"], \"legendgroup\": \"\", \"locations\": [\"AUS\", \"BEL\", \"KHM\", \"CAN\", \"FIN\", \"FRA\", \"DEU\", \"HKG\", \"IND\", \"ITA\", \"JPN\", \"MAC\", \"MYS\", \"NPL\", \"PHL\", \"RUS\", \"SGP\", \"KOR\", \"ESP\", \"LKA\", \"SWE\", \"TWN\", \"THA\", \"GBR\", \"USA\", \"ARE\", \"VNM\"], \"marker\": {\"color\": \"#636efa\", \"size\": [15.0, 1.0, 1.0, 7.0, 1.0, 11.0, 13.0, 26.0, 3.0, 3.0, 25.0, 10.0, 16.0, 1.0, 3.0, 2.0, 33.0, 24.0, 1.0, 1.0, 1.0, 17.0, 32.0, 3.0, 12.0, 7.0, 13.0], \"sizemode\": \"area\", \"sizeref\": 0.1125}, \"name\": \"\", \"showlegend\": false, \"type\": \"scattergeo\"}], \"name\": \"02/08/20 22:04\"}, {\"data\": [{\"geo\": \"geo\", \"hoverlabel\": {\"namelength\": 0}, \"hovertemplate\": \"<b>%{hovertext}</b><br><br>Time_Stamp=02/08/20 23:04<br>Cases=%{marker.size}<br>Country_Code=%{location}\", \"hovertext\": [\"Australia\", \"Belgium\", \"Cambodia\", \"Canada\", \"Finland\", \"France\", \"Germany\", \"Hong Kong\", \"India\", \"Italy\", \"Japan\", \"Macao\", \"Malaysia\", \"Nepal\", \"Philippines\", \"Russian Federation\", \"Singapore\", \"Korea, Republic of\", \"Spain\", \"Sri Lanka\", \"Sweden\", \"Taiwan, Province of China\", \"Thailand\", \"United Kingdom\", \"United States\", \"United Arab Emirates\", \"Viet Nam\"], \"legendgroup\": \"\", \"locations\": [\"AUS\", \"BEL\", \"KHM\", \"CAN\", \"FIN\", \"FRA\", \"DEU\", \"HKG\", \"IND\", \"ITA\", \"JPN\", \"MAC\", \"MYS\", \"NPL\", \"PHL\", \"RUS\", \"SGP\", \"KOR\", \"ESP\", \"LKA\", \"SWE\", \"TWN\", \"THA\", \"GBR\", \"USA\", \"ARE\", \"VNM\"], \"marker\": {\"color\": \"#636efa\", \"size\": [15.0, 1.0, 1.0, 7.0, 1.0, 11.0, 13.0, 26.0, 3.0, 3.0, 25.0, 10.0, 16.0, 1.0, 3.0, 2.0, 40.0, 25.0, 1.0, 1.0, 1.0, 17.0, 32.0, 3.0, 12.0, 7.0, 13.0], \"sizemode\": \"area\", \"sizeref\": 0.1125}, \"name\": \"\", \"showlegend\": false, \"type\": \"scattergeo\"}], \"name\": \"02/08/20 23:04\"}, {\"data\": [{\"geo\": \"geo\", \"hoverlabel\": {\"namelength\": 0}, \"hovertemplate\": \"<b>%{hovertext}</b><br><br>Time_Stamp=02/09/20 10:30<br>Cases=%{marker.size}<br>Country_Code=%{location}\", \"hovertext\": [\"Australia\", \"Belgium\", \"Cambodia\", \"Canada\", \"Finland\", \"France\", \"Germany\", \"Hong Kong\", \"India\", \"Italy\", \"Japan\", \"Macao\", \"Malaysia\", \"Nepal\", \"Philippines\", \"Russian Federation\", \"Singapore\", \"Korea, Republic of\", \"Spain\", \"Sri Lanka\", \"Sweden\", \"Taiwan, Province of China\", \"Thailand\", \"United Kingdom\", \"United States\", \"United Arab Emirates\", \"Viet Nam\"], \"legendgroup\": \"\", \"locations\": [\"AUS\", \"BEL\", \"KHM\", \"CAN\", \"FIN\", \"FRA\", \"DEU\", \"HKG\", \"IND\", \"ITA\", \"JPN\", \"MAC\", \"MYS\", \"NPL\", \"PHL\", \"RUS\", \"SGP\", \"KOR\", \"ESP\", \"LKA\", \"SWE\", \"TWN\", \"THA\", \"GBR\", \"USA\", \"ARE\", \"VNM\"], \"marker\": {\"color\": \"#636efa\", \"size\": [15.0, 1.0, 1.0, 7.0, 1.0, 11.0, 14.0, 29.0, 3.0, 3.0, 26.0, 10.0, 16.0, 1.0, 3.0, 2.0, 40.0, 25.0, 1.0, 1.0, 1.0, 18.0, 32.0, 3.0, 12.0, 7.0, 13.0], \"sizemode\": \"area\", \"sizeref\": 0.1125}, \"name\": \"\", \"showlegend\": false, \"type\": \"scattergeo\"}], \"name\": \"02/09/20 10:30\"}, {\"data\": [{\"geo\": \"geo\", \"hoverlabel\": {\"namelength\": 0}, \"hovertemplate\": \"<b>%{hovertext}</b><br><br>Time_Stamp=02/09/20 23:20<br>Cases=%{marker.size}<br>Country_Code=%{location}\", \"hovertext\": [\"Australia\", \"Belgium\", \"Cambodia\", \"Canada\", \"Finland\", \"France\", \"Germany\", \"Hong Kong\", \"India\", \"Italy\", \"Japan\", \"Macao\", \"Malaysia\", \"Nepal\", \"Philippines\", \"Russian Federation\", \"Singapore\", \"Korea, Republic of\", \"Spain\", \"Sri Lanka\", \"Sweden\", \"Taiwan, Province of China\", \"Thailand\", \"United Kingdom\", \"United States\", \"United Arab Emirates\", \"Viet Nam\"], \"legendgroup\": \"\", \"locations\": [\"AUS\", \"BEL\", \"KHM\", \"CAN\", \"FIN\", \"FRA\", \"DEU\", \"HKG\", \"IND\", \"ITA\", \"JPN\", \"MAC\", \"MYS\", \"NPL\", \"PHL\", \"RUS\", \"SGP\", \"KOR\", \"ESP\", \"LKA\", \"SWE\", \"TWN\", \"THA\", \"GBR\", \"USA\", \"ARE\", \"VNM\"], \"marker\": {\"color\": \"#636efa\", \"size\": [15.0, 1.0, 1.0, 7.0, 1.0, 11.0, 14.0, 36.0, 3.0, 3.0, 26.0, 10.0, 18.0, 1.0, 3.0, 2.0, 43.0, 27.0, 2.0, 1.0, 1.0, 18.0, 32.0, 3.0, 12.0, 7.0, 14.0], \"sizemode\": \"area\", \"sizeref\": 0.1125}, \"name\": \"\", \"showlegend\": false, \"type\": \"scattergeo\"}], \"name\": \"02/09/20 23:20\"}]);\n",
       "                        }).then(function(){\n",
       "                            \n",
       "var gd = document.getElementById('ff928b4e-cdc6-4ab5-9d9c-a3083217943e');\n",
       "var x = new MutationObserver(function (mutations, observer) {{\n",
       "        var display = window.getComputedStyle(gd).display;\n",
       "        if (!display || display === 'none') {{\n",
       "            console.log([gd, 'removed!']);\n",
       "            Plotly.purge(gd);\n",
       "            observer.disconnect();\n",
       "        }}\n",
       "}});\n",
       "\n",
       "// Listen for the removal of the full notebook cells\n",
       "var notebookContainer = gd.closest('#notebook-container');\n",
       "if (notebookContainer) {{\n",
       "    x.observe(notebookContainer, {childList: true});\n",
       "}}\n",
       "\n",
       "// Listen for the clearing of the current output cell\n",
       "var outputEl = gd.closest('.output');\n",
       "if (outputEl) {{\n",
       "    x.observe(outputEl, {childList: true});\n",
       "}}\n",
       "\n",
       "                        })\n",
       "                };\n",
       "                });\n",
       "            </script>\n",
       "        </div>"
      ]
     },
     "metadata": {},
     "output_type": "display_data"
    }
   ],
   "source": [
    "df = px.data.gapminder()\n",
    "fig = px.scatter_geo(df_cnfrmd, locations=\"Country_Code\",\n",
    "                     hover_name=\"Country\", size=\"Cases\",\n",
    "                     animation_frame=\"Time_Stamp\",\n",
    "                     projection=\"natural earth\",width=1100, height=700)\n",
    "\n",
    "fig.update_layout(\n",
    "        title = go.layout.Title(\n",
    "        text = '<b>2019-nCoV</b>: Coronavirus disease 2019-20<br>Study <i>Excludes</i> cases in China'),\n",
    "        showlegend = True,\n",
    "\n",
    "    )\n",
    "fig.show()"
   ]
  },
  {
   "cell_type": "code",
   "execution_count": null,
   "metadata": {},
   "outputs": [],
   "source": []
  }
 ],
 "metadata": {
  "kernelspec": {
   "display_name": "Python 3",
   "language": "python",
   "name": "python3"
  },
  "language_info": {
   "codemirror_mode": {
    "name": "ipython",
    "version": 3
   },
   "file_extension": ".py",
   "mimetype": "text/x-python",
   "name": "python",
   "nbconvert_exporter": "python",
   "pygments_lexer": "ipython3",
   "version": "3.7.4"
  }
 },
 "nbformat": 4,
 "nbformat_minor": 4
}
